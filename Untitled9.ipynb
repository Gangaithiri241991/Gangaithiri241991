{
  "nbformat": 4,
  "nbformat_minor": 0,
  "metadata": {
    "colab": {
      "provenance": [],
      "authorship_tag": "ABX9TyNhxin8HMGzCkToSnbWQlO0",
      "include_colab_link": true
    },
    "kernelspec": {
      "name": "python3",
      "display_name": "Python 3"
    },
    "language_info": {
      "name": "python"
    }
  },
  "cells": [
    {
      "cell_type": "markdown",
      "metadata": {
        "id": "view-in-github",
        "colab_type": "text"
      },
      "source": [
        "<a href=\"https://colab.research.google.com/github/Gangaithiri241991/Gangaithiri241991/blob/main/Untitled9.ipynb\" target=\"_parent\"><img src=\"https://colab.research.google.com/assets/colab-badge.svg\" alt=\"Open In Colab\"/></a>"
      ]
    },
    {
      "cell_type": "code",
      "execution_count": 8,
      "metadata": {
        "colab": {
          "base_uri": "https://localhost:8080/"
        },
        "id": "0BZg5fZ_ahxz",
        "outputId": "7887ef41-3089-4c43-b840-1e45c4ded143"
      },
      "outputs": [
        {
          "output_type": "stream",
          "name": "stdout",
          "text": [
            "int64\n",
            "[1 3 5 6]\n"
          ]
        }
      ],
      "source": [
        "import  numpy as np   #all changed to float\n",
        "a=np.array([1,3,5,6])\n",
        "print(a.dtype)\n",
        "print(a)"
      ]
    },
    {
      "cell_type": "markdown",
      "source": [
        "string is more powerfull than float and int\n",
        "2 float is power than int\n",
        "so output convert based on powerfull"
      ],
      "metadata": {
        "id": "obLAPFadb3JR"
      }
    },
    {
      "cell_type": "code",
      "source": [
        "a=np.array(1)\n",
        "print(a)\n",
        "print(a.ndim)\n",
        "print(a.shape)"
      ],
      "metadata": {
        "colab": {
          "base_uri": "https://localhost:8080/"
        },
        "id": "E3BD8JPbbmMF",
        "outputId": "8e7ee196-b009-40a2-dcf0-0c326002b461"
      },
      "execution_count": 21,
      "outputs": [
        {
          "output_type": "stream",
          "name": "stdout",
          "text": [
            "1\n",
            "0\n",
            "()\n"
          ]
        }
      ]
    },
    {
      "cell_type": "code",
      "source": [
        "a=np.eye(2,3)#identity matrix\n",
        "print(a)"
      ],
      "metadata": {
        "colab": {
          "base_uri": "https://localhost:8080/"
        },
        "id": "OGqSQ2BwjM8p",
        "outputId": "89657e3e-a8d3-4ea3-c1b2-ac693e4868f1"
      },
      "execution_count": 22,
      "outputs": [
        {
          "output_type": "stream",
          "name": "stdout",
          "text": [
            "[[1. 0. 0.]\n",
            " [0. 1. 0.]]\n"
          ]
        }
      ]
    },
    {
      "cell_type": "code",
      "source": [
        "a=np.eye(3,3)#identity matrix\n",
        "print(a)"
      ],
      "metadata": {
        "colab": {
          "base_uri": "https://localhost:8080/"
        },
        "id": "SmA6qXB6jZFe",
        "outputId": "d24977a3-3d6f-44ce-e887-f4f2916fe846"
      },
      "execution_count": 23,
      "outputs": [
        {
          "output_type": "stream",
          "name": "stdout",
          "text": [
            "[[1. 0. 0.]\n",
            " [0. 1. 0.]\n",
            " [0. 0. 1.]]\n"
          ]
        }
      ]
    },
    {
      "cell_type": "code",
      "source": [
        "a=np.eye(3,4)#identity matrix\n",
        "print(a)"
      ],
      "metadata": {
        "colab": {
          "base_uri": "https://localhost:8080/"
        },
        "id": "weOuHWZzjfd4",
        "outputId": "884fed50-a5aa-4a10-db42-cd61742a1dc1"
      },
      "execution_count": 24,
      "outputs": [
        {
          "output_type": "stream",
          "name": "stdout",
          "text": [
            "[[1. 0. 0. 0.]\n",
            " [0. 1. 0. 0.]\n",
            " [0. 0. 1. 0.]]\n"
          ]
        }
      ]
    },
    {
      "cell_type": "code",
      "source": [
        "a=np.eye(5,4)#identity matrix\n",
        "print(a)"
      ],
      "metadata": {
        "colab": {
          "base_uri": "https://localhost:8080/"
        },
        "id": "-FnItruGjlXN",
        "outputId": "4bba9f4e-83cb-4334-f20f-23ac30b7abf8"
      },
      "execution_count": 25,
      "outputs": [
        {
          "output_type": "stream",
          "name": "stdout",
          "text": [
            "[[1. 0. 0. 0.]\n",
            " [0. 1. 0. 0.]\n",
            " [0. 0. 1. 0.]\n",
            " [0. 0. 0. 1.]\n",
            " [0. 0. 0. 0.]]\n"
          ]
        }
      ]
    },
    {
      "cell_type": "code",
      "source": [
        "a=np.identity(3)#identity matrix\n",
        "print(a)"
      ],
      "metadata": {
        "colab": {
          "base_uri": "https://localhost:8080/"
        },
        "id": "BNz_FKvejql5",
        "outputId": "024c4fb5-0aff-432e-f634-35cb7210c953"
      },
      "execution_count": 28,
      "outputs": [
        {
          "output_type": "stream",
          "name": "stdout",
          "text": [
            "[[1. 0. 0.]\n",
            " [0. 1. 0.]\n",
            " [0. 0. 1.]]\n"
          ]
        }
      ]
    },
    {
      "cell_type": "code",
      "source": [
        "a=np.identity(2)#identity matrix\n",
        "print(a)"
      ],
      "metadata": {
        "colab": {
          "base_uri": "https://localhost:8080/"
        },
        "id": "NDpfpWTuj8XF",
        "outputId": "66921b55-4fdb-4471-8d53-8fcc25a6e712"
      },
      "execution_count": 29,
      "outputs": [
        {
          "output_type": "stream",
          "name": "stdout",
          "text": [
            "[[1. 0.]\n",
            " [0. 1.]]\n"
          ]
        }
      ]
    },
    {
      "cell_type": "code",
      "source": [
        "a=np.identity(5)#identity matrix\n",
        "print(a)"
      ],
      "metadata": {
        "colab": {
          "base_uri": "https://localhost:8080/"
        },
        "id": "PymdHTxej_6u",
        "outputId": "1e15abb9-5e25-45fd-a8a8-1899824a6c9a"
      },
      "execution_count": 30,
      "outputs": [
        {
          "output_type": "stream",
          "name": "stdout",
          "text": [
            "[[1. 0. 0. 0. 0.]\n",
            " [0. 1. 0. 0. 0.]\n",
            " [0. 0. 1. 0. 0.]\n",
            " [0. 0. 0. 1. 0.]\n",
            " [0. 0. 0. 0. 1.]]\n"
          ]
        }
      ]
    },
    {
      "cell_type": "code",
      "source": [
        "a=np.identity(4)#identity matrix\n",
        "print(a)"
      ],
      "metadata": {
        "colab": {
          "base_uri": "https://localhost:8080/"
        },
        "id": "c1IFwJilkDMf",
        "outputId": "4ae66fc9-a30b-4a3f-e441-0f7edd54d88a"
      },
      "execution_count": 31,
      "outputs": [
        {
          "output_type": "stream",
          "name": "stdout",
          "text": [
            "[[1. 0. 0. 0.]\n",
            " [0. 1. 0. 0.]\n",
            " [0. 0. 1. 0.]\n",
            " [0. 0. 0. 1.]]\n"
          ]
        }
      ]
    },
    {
      "cell_type": "code",
      "source": [],
      "metadata": {
        "id": "EJXdmq0ClCuc"
      },
      "execution_count": null,
      "outputs": []
    },
    {
      "cell_type": "markdown",
      "source": [
        ". Create a numpy array with shape 2x5 that has all the elements as zero."
      ],
      "metadata": {
        "id": "p_EgnUp5lGOa"
      }
    },
    {
      "cell_type": "code",
      "source": [
        "a=np.zeros((2,5))\n",
        "print(a)"
      ],
      "metadata": {
        "colab": {
          "base_uri": "https://localhost:8080/"
        },
        "id": "6n3qlKnIlMEm",
        "outputId": "2f8f1d7b-3d20-4f28-ae52-fb9d3fc0dbe1"
      },
      "execution_count": 35,
      "outputs": [
        {
          "output_type": "stream",
          "name": "stdout",
          "text": [
            "[[0. 0. 0. 0. 0.]\n",
            " [0. 0. 0. 0. 0.]]\n"
          ]
        }
      ]
    },
    {
      "cell_type": "markdown",
      "source": [
        "Create a numpy array with shape 2x5 that has all the elements as 5."
      ],
      "metadata": {
        "id": "W49adfVklwf3"
      }
    },
    {
      "cell_type": "code",
      "source": [
        "a=np.full((3,5),5)\n",
        "print(a)"
      ],
      "metadata": {
        "colab": {
          "base_uri": "https://localhost:8080/"
        },
        "id": "23ET08byl4qQ",
        "outputId": "9e6300d3-d1a5-4fea-8050-770ec0505b80"
      },
      "execution_count": 36,
      "outputs": [
        {
          "output_type": "stream",
          "name": "stdout",
          "text": [
            "[[5 5 5 5 5]\n",
            " [5 5 5 5 5]\n",
            " [5 5 5 5 5]]\n"
          ]
        }
      ]
    },
    {
      "cell_type": "markdown",
      "source": [
        "Create a numpy array with random integers in the range 0-100, and the sample size\n",
        "should be 25"
      ],
      "metadata": {
        "id": "oRb59deJmXON"
      }
    },
    {
      "cell_type": "code",
      "source": [
        "z=np.random.randint(0,100, size=25)\n",
        "print(z)"
      ],
      "metadata": {
        "colab": {
          "base_uri": "https://localhost:8080/"
        },
        "id": "0Fi_8LHHmYn1",
        "outputId": "1940f20e-4217-4566-d74d-099145b98110"
      },
      "execution_count": 39,
      "outputs": [
        {
          "output_type": "stream",
          "name": "stdout",
          "text": [
            "[63 37 28 60 68 25 44 74 32 82 77  1 50 25 93 88 72 43 52  6 90 89 26  4\n",
            " 86]\n"
          ]
        }
      ]
    },
    {
      "cell_type": "code",
      "source": [
        "a = np.full((2,5),0,dtype=int)\n",
        "b = np.full((3,5),5,dtype=int)\n",
        "print(a,b,sep='\\n\\n')"
      ],
      "metadata": {
        "colab": {
          "base_uri": "https://localhost:8080/"
        },
        "id": "M6o_PGWbmfSy",
        "outputId": "98c04668-fe79-4226-d7a4-cc63ed04c1fc"
      },
      "execution_count": 40,
      "outputs": [
        {
          "output_type": "stream",
          "name": "stdout",
          "text": [
            "[[0 0 0 0 0]\n",
            " [0 0 0 0 0]]\n",
            "\n",
            "[[5 5 5 5 5]\n",
            " [5 5 5 5 5]\n",
            " [5 5 5 5 5]]\n"
          ]
        }
      ]
    },
    {
      "cell_type": "markdown",
      "source": [
        " Create a numpy array with a shape 3x3 that has all elements as 1."
      ],
      "metadata": {
        "id": "_fjO5--6ndsJ"
      }
    },
    {
      "cell_type": "markdown",
      "source": [
        " Create a numpy array in the shape 2x3 with random integers in the range 0-100"
      ],
      "metadata": {
        "id": "PCfPctidnrzO"
      }
    },
    {
      "cell_type": "code",
      "source": [
        "a=np.random.randint(0,100,size=(2,3))\n",
        "\n",
        "print(a)"
      ],
      "metadata": {
        "colab": {
          "base_uri": "https://localhost:8080/"
        },
        "id": "Sc6xTtcJnwBh",
        "outputId": "237acf05-5689-4684-a96a-a2bdfd128a1a"
      },
      "execution_count": 50,
      "outputs": [
        {
          "output_type": "stream",
          "name": "stdout",
          "text": [
            "[[43 79 53]\n",
            " [82 61  6]]\n"
          ]
        }
      ]
    },
    {
      "cell_type": "code",
      "source": [
        "x=np.full((3,3),1)\n",
        "print(x)\n",
        "B=np.random.randint(0,100)\n",
        "A=np.full((2,3),B)\n",
        "print(A)"
      ],
      "metadata": {
        "colab": {
          "base_uri": "https://localhost:8080/"
        },
        "id": "NY9KCGxNpD3_",
        "outputId": "1ec32928-bf7a-4a1f-dfc8-45ed2b38a7c8"
      },
      "execution_count": 51,
      "outputs": [
        {
          "output_type": "stream",
          "name": "stdout",
          "text": [
            "[[1 1 1]\n",
            " [1 1 1]\n",
            " [1 1 1]]\n",
            "[[39 39 39]\n",
            " [39 39 39]]\n"
          ]
        }
      ]
    },
    {
      "cell_type": "code",
      "source": [
        "x=np.ones((3,3))\n",
        "print(x)"
      ],
      "metadata": {
        "colab": {
          "base_uri": "https://localhost:8080/"
        },
        "id": "YoYAQjhTpxmo",
        "outputId": "77fbe3be-d82d-4018-85e7-5bf2fb89fae1"
      },
      "execution_count": 52,
      "outputs": [
        {
          "output_type": "stream",
          "name": "stdout",
          "text": [
            "[[1. 1. 1.]\n",
            " [1. 1. 1.]\n",
            " [1. 1. 1.]]\n"
          ]
        }
      ]
    },
    {
      "cell_type": "markdown",
      "source": [],
      "metadata": {
        "id": "-YIavlixqVyx"
      }
    },
    {
      "cell_type": "code",
      "source": [
        "a=np.full((3,3),1)\n",
        "print(a)"
      ],
      "metadata": {
        "colab": {
          "base_uri": "https://localhost:8080/"
        },
        "id": "Znb-46ucne4j",
        "outputId": "c2971a3c-bb83-4d73-a5cd-209744068513"
      },
      "execution_count": 45,
      "outputs": [
        {
          "output_type": "stream",
          "name": "stdout",
          "text": [
            "[[1 1 1]\n",
            " [1 1 1]\n",
            " [1 1 1]]\n"
          ]
        }
      ]
    },
    {
      "cell_type": "markdown",
      "source": [],
      "metadata": {
        "id": "Bu4EBlVamZKp"
      }
    },
    {
      "cell_type": "markdown",
      "source": [
        "Create numpy arrays that have zero, one, two, three dimensions respectively.\n",
        "Also, print the shape and dimensions of the numpy arrays created above"
      ],
      "metadata": {
        "id": "0GOzlFWFcnQt"
      }
    },
    {
      "cell_type": "code",
      "source": [
        "a=np.array([1,2,3])\n",
        "print(a)\n",
        "print(a.ndim)"
      ],
      "metadata": {
        "colab": {
          "base_uri": "https://localhost:8080/"
        },
        "id": "kE1ezTmpcqT2",
        "outputId": "a3893498-c0ac-4c56-bca1-b9ed041cbb6a"
      },
      "execution_count": 10,
      "outputs": [
        {
          "output_type": "stream",
          "name": "stdout",
          "text": [
            "[1 2 3]\n",
            "1\n"
          ]
        }
      ]
    },
    {
      "cell_type": "code",
      "source": [
        "a=np.array([[1,2,3],[3,4,5]])\n",
        "print(a)\n",
        "print(a.ndim)\n",
        "print(a.shape)"
      ],
      "metadata": {
        "colab": {
          "base_uri": "https://localhost:8080/"
        },
        "id": "UdHDn_IYc3ER",
        "outputId": "3f708866-2258-4d1e-a449-043ffd79e708"
      },
      "execution_count": 12,
      "outputs": [
        {
          "output_type": "stream",
          "name": "stdout",
          "text": [
            "[[1 2 3]\n",
            " [3 4 5]]\n",
            "2\n",
            "(2, 3)\n"
          ]
        }
      ]
    },
    {
      "cell_type": "code",
      "source": [
        "a=np.array([[[[1,2,3],[3,4,5],[2,8,9],[7,8,9]]]])\n",
        "print(a)\n",
        "print(a.ndim)\n",
        "print(a.shape)"
      ],
      "metadata": {
        "colab": {
          "base_uri": "https://localhost:8080/"
        },
        "id": "JiEpkqKgdRnt",
        "outputId": "1d6f5854-5576-4eb7-c609-171e5d54de13"
      },
      "execution_count": 17,
      "outputs": [
        {
          "output_type": "stream",
          "name": "stdout",
          "text": [
            "[[[[1 2 3]\n",
            "   [3 4 5]\n",
            "   [2 8 9]\n",
            "   [7 8 9]]]]\n",
            "4\n",
            "(1, 1, 4, 3)\n"
          ]
        }
      ]
    },
    {
      "cell_type": "code",
      "source": [
        "a=np.array([[[1,2,3],[3,4,5]]])\n",
        "\n",
        "print(a)\n",
        "print(b)\n",
        "print(a.ndim)\n",
        "print(a.shape)"
      ],
      "metadata": {
        "colab": {
          "base_uri": "https://localhost:8080/"
        },
        "id": "nwoQhkAtdgXo",
        "outputId": "b5e89836-cb63-46ae-ed1e-bb804aea7399"
      },
      "execution_count": 16,
      "outputs": [
        {
          "output_type": "stream",
          "name": "stdout",
          "text": [
            "[[[1 2 3]\n",
            "  [3 4 5]]]\n",
            "[[3 4 5]\n",
            " [1 3 5]]\n",
            "3\n",
            "(1, 2, 3)\n"
          ]
        }
      ]
    },
    {
      "cell_type": "code",
      "source": [
        "a=np.array([1,3,5,6,7.8,\"apple\"])# all changed to string in output\n",
        "print(a)\n",
        "print(a.dtype)\n",
        "print(a.shape)"
      ],
      "metadata": {
        "colab": {
          "base_uri": "https://localhost:8080/"
        },
        "id": "r34R4EH2bdzK",
        "outputId": "e4e99f98-4493-43aa-f0cd-453bd2078412"
      },
      "execution_count": 7,
      "outputs": [
        {
          "output_type": "stream",
          "name": "stdout",
          "text": [
            "['1' '3' '5' '6' '7.8' 'apple']\n",
            "<U32\n"
          ]
        }
      ]
    },
    {
      "cell_type": "code",
      "source": [
        "pip install numpy\n"
      ],
      "metadata": {
        "colab": {
          "base_uri": "https://localhost:8080/"
        },
        "id": "b8RR0v0hbMZp",
        "outputId": "b2a74c60-f9c3-490b-b80b-7960e7785a13"
      },
      "execution_count": 3,
      "outputs": [
        {
          "output_type": "stream",
          "name": "stdout",
          "text": [
            "Requirement already satisfied: numpy in /usr/local/lib/python3.10/dist-packages (1.26.4)\n"
          ]
        }
      ]
    },
    {
      "cell_type": "markdown",
      "source": [
        ". Create a random array, with the range 0-1000, with a size 50 and step 2. Perform the\n",
        "following operations on the same.\n",
        "a. Print the first ten elements of the array.\n",
        "b. Print the last ten elements of the array\n",
        "c. Print the elements from the indexes 10-25\n",
        "d. Print the element at the index 22\n",
        "e. Print the array using negative indexing.\n",
        "f. Print the last ten elements of the array, using negative indexing"
      ],
      "metadata": {
        "id": "evE4JJX_qaq6"
      }
    },
    {
      "cell_type": "code",
      "source": [
        "a=np.random.randint(0,1000,size=(50))\n",
        "print(a)"
      ],
      "metadata": {
        "colab": {
          "base_uri": "https://localhost:8080/"
        },
        "id": "5U77dQomqjtV",
        "outputId": "ab44b787-e820-474c-d287-cdf9efcfc0f6"
      },
      "execution_count": 53,
      "outputs": [
        {
          "output_type": "stream",
          "name": "stdout",
          "text": [
            "[166 122 816 103 100 798 287 841 472 264 558  85  61 518 627 816 667 931\n",
            " 691 799 110 245 963 322 338 529 997 714 826 862 184 166 585   3  48  38\n",
            " 994 990 930 726 309 781 144 813 853 345 339 509 318 660]\n"
          ]
        }
      ]
    },
    {
      "cell_type": "code",
      "source": [
        "a=np.random.randint(0,1000,size=(50))\n",
        "\n",
        "print(a[22])"
      ],
      "metadata": {
        "colab": {
          "base_uri": "https://localhost:8080/"
        },
        "id": "-UzsjRYVrBFu",
        "outputId": "4b9ac41b-cae9-4394-dc6d-d2f9e8075246"
      },
      "execution_count": 55,
      "outputs": [
        {
          "output_type": "stream",
          "name": "stdout",
          "text": [
            "735\n"
          ]
        }
      ]
    },
    {
      "cell_type": "code",
      "source": [
        "a=np.random.randint(0,1000,size=(50))\n",
        "print(a[-1])"
      ],
      "metadata": {
        "colab": {
          "base_uri": "https://localhost:8080/"
        },
        "id": "HpfIyKOMsCE6",
        "outputId": "a18bf7e1-e852-4b3e-b02e-074e4a2ec118"
      },
      "execution_count": 57,
      "outputs": [
        {
          "output_type": "stream",
          "name": "stdout",
          "text": [
            "984\n"
          ]
        }
      ]
    },
    {
      "cell_type": "code",
      "source": [
        "a = np.random.choice(np.arange(0,1001,2),size=50,replace=False)\n",
        "print(f\"Original dataset:\\n{a}\")\n",
        "print(f\"First ten elements of dataset:\\n{a[0:10:1]}\")\n",
        "print(f\"Elements in index (10,25) of dataset:\\n{a[10:25:1]}\")\n",
        "print(f\"Element at index (22) of dataset:\\n{a[22]}\")\n",
        "print(f\"Dataset via negative indexing:\\n{a[::-1]}\")\n",
        "print(f\"Last ten elements of dataset:\\n{a[-10:]}\")\n",
        "print(f\"Length of dataset:\\n{len(a)}\")"
      ],
      "metadata": {
        "colab": {
          "base_uri": "https://localhost:8080/"
        },
        "id": "wm_oGwQqtQhh",
        "outputId": "d1653c63-44d9-46ab-b07a-c3a4e2cf386d"
      },
      "execution_count": 60,
      "outputs": [
        {
          "output_type": "stream",
          "name": "stdout",
          "text": [
            "Original dataset:\n",
            "[580 320 220 730  56 868 378 900 444  36 136  44 540 440 926 274  32 210\n",
            " 788 866 374 304  70 758 682  84 494 846 740 196 800 504 530 228 160 666\n",
            " 148 454 634 370 808 426 162 894 930 340 318 956  30 814]\n",
            "First ten elements of dataset:\n",
            "[580 320 220 730  56 868 378 900 444  36]\n",
            "Elements in index (10,25) of dataset:\n",
            "[136  44 540 440 926 274  32 210 788 866 374 304  70 758 682]\n",
            "Element at index (22) of dataset:\n",
            "70\n",
            "Dataset via negative indexing:\n",
            "[814  30 956 318 340 930 894 162 426 808 370 634 454 148 666 160 228 530\n",
            " 504 800 196 740 846 494  84 682 758  70 304 374 866 788 210  32 274 926\n",
            " 440 540  44 136  36 444 900 378 868  56 730 220 320 580]\n",
            "Last ten elements of dataset:\n",
            "[808 426 162 894 930 340 318 956  30 814]\n",
            "Length of dataset:\n",
            "50\n"
          ]
        }
      ]
    },
    {
      "cell_type": "code",
      "source": [],
      "metadata": {
        "id": "qI_8SV-RuUUZ"
      },
      "execution_count": null,
      "outputs": []
    },
    {
      "cell_type": "markdown",
      "source": [
        "Given a numpy array that has values = [1,2,3,4,5]. Perform the following operations.\n",
        "a. Insert the element 6 at the end of the array.\n",
        "b. Insert the element 10 at the beginning of the array.\n",
        "c. Insert the element 30, before 4.\n",
        "d. Update the element 5 as 50.\n",
        "e. Delete the element 50 in the updated array.\n",
        "f. Create a function to search for the element 30.\n",
        "g. Sort the array in ascending order."
      ],
      "metadata": {
        "id": "uItQSomX2KGI"
      }
    },
    {
      "cell_type": "code",
      "source": [
        "a=np.array([1,2,3,4,5])\n",
        "a.sort()\n",
        "print(a)\n"
      ],
      "metadata": {
        "colab": {
          "base_uri": "https://localhost:8080/"
        },
        "id": "vIkY23n12MHy",
        "outputId": "24e68dee-abd8-41a0-d1cc-e12c6ff3ac3d"
      },
      "execution_count": 65,
      "outputs": [
        {
          "output_type": "stream",
          "name": "stdout",
          "text": [
            "[1 2 3 4 5]\n"
          ]
        }
      ]
    },
    {
      "cell_type": "code",
      "source": [
        "original = np.array([1,2,3,4,5])\n",
        "print(f\"Original Array:\\n {original}\")\n",
        "#insert 6 at the end\n",
        "original = np.append(original,[6])\n",
        "print(f\"Array After Appending '6':\\n{original}\")\n",
        "#insert 10 at start\n",
        "original = np.insert(original,0,10)\n",
        "print(f\"Array After Inserting '10' At Start:\\n{original}\")\n",
        "original = np.insert(original,4,30)\n",
        "print(f\"Array After Inserting '30' Before '4':\\n{original}\")\n",
        "original[6] = 50\n",
        "print(f\"Array After Updating '5' as '50':\\n{original}\")\n",
        "original = np.delete(original, 6)\n",
        "print(f\"Array After Deleting '50':\\n{original}\")\n",
        "def search_for_fifty(array):\n",
        "  flag = False\n",
        "  for i in array:\n",
        "    if i == 50:\n",
        "      flag = True\n",
        "  if flag == True:\n",
        "    print(\"50 found in array\")\n",
        "  else:\n",
        "    print(\"50 not found in array\")\n",
        "search_for_fifty(original)\n",
        "original.sort()\n",
        "original = original[::-1]\n",
        "print(original)"
      ],
      "metadata": {
        "colab": {
          "base_uri": "https://localhost:8080/"
        },
        "id": "ulKoYfgF3a3S",
        "outputId": "895f7752-8429-4839-c701-b6b475aaa495"
      },
      "execution_count": 71,
      "outputs": [
        {
          "output_type": "stream",
          "name": "stdout",
          "text": [
            "Original Array:\n",
            " [1 2 3 4 5]\n",
            "Array After Appending '6':\n",
            "[1 2 3 4 5 6]\n",
            "Array After Inserting '10' At Start:\n",
            "[10  1  2  3  4  5  6]\n",
            "Array After Inserting '30' Before '4':\n",
            "[10  1  2  3 30  4  5  6]\n",
            "Array After Updating '5' as '50':\n",
            "[10  1  2  3 30  4 50  6]\n",
            "Array After Deleting '50':\n",
            "[10  1  2  3 30  4  6]\n",
            "50 not found in array\n",
            "[30 10  6  4  3  2  1]\n"
          ]
        }
      ]
    },
    {
      "cell_type": "code",
      "source": [
        "arr = np.array([1, 2, 3, 4, 5])\n",
        "arr = np.append(arr, 6)\n",
        "print(\"Array after inserting 6 at the end:\", arr)\n",
        "arr = np.insert(arr, 0, 10)\n",
        "print(\"Array after inserting 10 at the beginning:\", arr)\n",
        "index_4 = np.where(arr == 4)[0][0]\n",
        "arr = np.insert(arr, index_4, 30)\n",
        "print(\"Array after inserting 30 before 4:\", arr)\n",
        "arr[np.where(arr == 5)[0][0]] = 50\n",
        "print(\"Array after updating 5 to 50:\", arr)\n",
        "arr = arr[arr != 50]\n",
        "print(\"Array after deleting 50:\", arr)\n",
        "arr_sorted = np.sort(arr)\n",
        "print(\"Array sorted in ascending order:\", arr_sorted)\n",
        "def search_element(arr, value):\n",
        "    index = np.where(arr == value)\n",
        "    if index[0].size > 0:\n",
        "        return f\"Element {value} found at index {index[0][0]}\"\n",
        "    else:\n",
        "        return f\"Element {value} not found\"\n",
        "print(\"\\nSearch for element 30:\")\n",
        "print(search_element(arr, 30))"
      ],
      "metadata": {
        "colab": {
          "base_uri": "https://localhost:8080/"
        },
        "id": "r8Z5GVNY8hKx",
        "outputId": "2c4afe53-7dc1-4c0f-c83c-e2960198694e"
      },
      "execution_count": 73,
      "outputs": [
        {
          "output_type": "stream",
          "name": "stdout",
          "text": [
            "Array after inserting 6 at the end: [1 2 3 4 5 6]\n",
            "Array after inserting 10 at the beginning: [10  1  2  3  4  5  6]\n",
            "Array after inserting 30 before 4: [10  1  2  3 30  4  5  6]\n",
            "Array after updating 5 to 50: [10  1  2  3 30  4 50  6]\n",
            "Array after deleting 50: [10  1  2  3 30  4  6]\n",
            "Array sorted in ascending order: [ 1  2  3  4  6 10 30]\n",
            "\n",
            "Search for element 30:\n",
            "Element 30 found at index 4\n"
          ]
        }
      ]
    }
  ]
}