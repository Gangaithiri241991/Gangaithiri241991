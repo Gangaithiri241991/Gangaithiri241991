{
  "cells": [
    {
      "cell_type": "markdown",
      "metadata": {
        "id": "view-in-github",
        "colab_type": "text"
      },
      "source": [
        "<a href=\"https://colab.research.google.com/github/Gangaithiri241991/Gangaithiri241991/blob/main/welcome_to_the_world_of_programming_language(21_22_sept_evening_batch).ipynb\" target=\"_parent\"><img src=\"https://colab.research.google.com/assets/colab-badge.svg\" alt=\"Open In Colab\"/></a>"
      ]
    },
    {
      "cell_type": "markdown",
      "metadata": {
        "id": "rObS4oPSDGVp"
      },
      "source": [
        "1.Python is high level language (which is closer to human language)\n",
        "2. Python is an interpreted language\n",
        "3. it is known for its simplicity and readability\n",
        "4. Python is being used in many areas like web development , machine learing , data science , app developement , game development"
      ]
    },
    {
      "cell_type": "code",
      "source": [],
      "metadata": {
        "id": "wdyAwJKWizi1"
      },
      "execution_count": null,
      "outputs": []
    },
    {
      "cell_type": "markdown",
      "metadata": {
        "id": "dwDEXZBsFINq"
      },
      "source": []
    },
    {
      "cell_type": "markdown",
      "metadata": {
        "id": "Ezwbnbn-GxPk"
      },
      "source": [
        "# Important points to remember\n",
        "\n",
        "#1 . Versatile :  A python is a multiple programming paradigms  which is being used in many areas or field\n",
        "\n",
        "# Large standard libraray : Python comes with vast standard libraries  that provide various tools and functionality to write the code\n",
        "\n",
        "# community support : Python has very large community support which help and contribute to the weath  of programming language\n",
        "\n",
        "Python was created by guido van rossum and it is released in 1991\n",
        " based on the funny comedy series named as \"monti python flying circus\" and he took name from that series and gave a programming language named as python"
      ]
    },
    {
      "cell_type": "code",
      "execution_count": null,
      "metadata": {
        "id": "utNjmrveZ8UF"
      },
      "outputs": [],
      "source": [
        "Correct_password = 'hari'\n",
        "\n",
        "Password ''\n",
        "\n",
        "while"
      ]
    },
    {
      "cell_type": "markdown",
      "metadata": {
        "id": "weY4-CCdF4bu"
      },
      "source": []
    },
    {
      "cell_type": "code",
      "source": [],
      "metadata": {
        "id": "MFLe8X_LXZAl"
      },
      "execution_count": null,
      "outputs": []
    },
    {
      "cell_type": "code",
      "execution_count": null,
      "metadata": {
        "colab": {
          "base_uri": "https://localhost:8080/",
          "height": 106
        },
        "id": "7I646_66F3_0",
        "outputId": "62d4a9db-aa99-49f4-ef4c-ca9dfe3c61ef"
      },
      "outputs": [
        {
          "ename": "SyntaxError",
          "evalue": "invalid syntax (<ipython-input-1-ac80c63131d1>, line 3)",
          "output_type": "error",
          "traceback": [
            "\u001b[0;36m  File \u001b[0;32m\"<ipython-input-1-ac80c63131d1>\"\u001b[0;36m, line \u001b[0;32m3\u001b[0m\n\u001b[0;31m    public class Helloworld{\u001b[0m\n\u001b[0m           ^\u001b[0m\n\u001b[0;31mSyntaxError\u001b[0m\u001b[0;31m:\u001b[0m invalid syntax\n"
          ]
        }
      ],
      "source": [
        "# java language\n",
        "\n",
        "public class Helloworld{\n",
        "    public static void main(Strings [] args){\n",
        "        System.out.println(\"hello world\")\n",
        "    }\n",
        "}"
      ]
    },
    {
      "cell_type": "code",
      "execution_count": null,
      "metadata": {
        "colab": {
          "base_uri": "https://localhost:8080/"
        },
        "id": "AJejY0NYDGHE",
        "outputId": "f55e6d16-f12d-4306-9ffe-acc6a6dd6de5"
      },
      "outputs": [
        {
          "name": "stdout",
          "output_type": "stream",
          "text": [
            "hello world\n"
          ]
        }
      ],
      "source": [
        "# Python\n",
        "\n",
        "print(\"hello world\")"
      ]
    },
    {
      "cell_type": "markdown",
      "metadata": {
        "id": "A-v-8N0tL4Mj"
      },
      "source": [
        "# comments"
      ]
    },
    {
      "cell_type": "code",
      "execution_count": null,
      "metadata": {
        "id": "pheL9TlIB2t5"
      },
      "outputs": [],
      "source": [
        "# comments in programming language are lines of text that are written to understand by humans ."
      ]
    },
    {
      "cell_type": "code",
      "execution_count": null,
      "metadata": {
        "colab": {
          "base_uri": "https://localhost:8080/"
        },
        "id": "pSFRB9BEMWTx",
        "outputId": "d503a81c-0f0a-4b00-8e3a-e86d1ca18575"
      },
      "outputs": [
        {
          "name": "stdout",
          "output_type": "stream",
          "text": [
            "30\n"
          ]
        }
      ],
      "source": [
        "\n",
        "# single line comment\n",
        "a =10  # a is storing value 10\n",
        "b =20  # b is storing value 20\n",
        "print(a+b)    # printing addition of two number"
      ]
    },
    {
      "cell_type": "code",
      "execution_count": null,
      "metadata": {
        "colab": {
          "base_uri": "https://localhost:8080/"
        },
        "id": "cXXmNtN1M2l0",
        "outputId": "4fcb3015-490f-4ca6-c0a6-61e23396fce6"
      },
      "outputs": [
        {
          "name": "stdout",
          "output_type": "stream",
          "text": [
            "hello world\n"
          ]
        }
      ],
      "source": [
        "# mutiple line comment\n",
        "\"\"\"huefhh\n",
        "gfiegwuf\n",
        "wgfiuwgef\n",
        "gwjfgwjef\"\"\"\n",
        "\n",
        "print(\"hello world\")"
      ]
    },
    {
      "cell_type": "markdown",
      "metadata": {
        "id": "y8lR3fSvN4rc"
      },
      "source": [
        "**Variables**"
      ]
    },
    {
      "cell_type": "code",
      "execution_count": null,
      "metadata": {
        "colab": {
          "base_uri": "https://localhost:8080/"
        },
        "id": "RsXPSG8dN7TI",
        "outputId": "3aa4b3b8-2ca8-46dc-da9f-97016e34b84f"
      },
      "outputs": [
        {
          "name": "stdout",
          "output_type": "stream",
          "text": [
            "10\n"
          ]
        }
      ],
      "source": [
        "a =10\n",
        "print(a)\n"
      ]
    },
    {
      "cell_type": "code",
      "execution_count": null,
      "metadata": {
        "colab": {
          "base_uri": "https://localhost:8080/",
          "height": 141
        },
        "id": "Qr4qI3MSON4j",
        "outputId": "21421bf3-1cab-45aa-dee5-3646f360e72a"
      },
      "outputs": [
        {
          "ename": "NameError",
          "evalue": "name 'a' is not defined",
          "output_type": "error",
          "traceback": [
            "\u001b[0;31m---------------------------------------------------------------------------\u001b[0m",
            "\u001b[0;31mNameError\u001b[0m                                 Traceback (most recent call last)",
            "\u001b[0;32m<ipython-input-3-3f786850e387>\u001b[0m in \u001b[0;36m<cell line: 1>\u001b[0;34m()\u001b[0m\n\u001b[0;32m----> 1\u001b[0;31m \u001b[0ma\u001b[0m\u001b[0;34m\u001b[0m\u001b[0;34m\u001b[0m\u001b[0m\n\u001b[0m",
            "\u001b[0;31mNameError\u001b[0m: name 'a' is not defined"
          ]
        }
      ],
      "source": [
        "a"
      ]
    },
    {
      "cell_type": "code",
      "execution_count": null,
      "metadata": {
        "colab": {
          "base_uri": "https://localhost:8080/",
          "height": 106
        },
        "id": "HxHwnf5QOp5y",
        "outputId": "e9e6974a-d587-415f-c07b-18cc46bc351d"
      },
      "outputs": [
        {
          "ename": "SyntaxError",
          "evalue": "invalid decimal literal (<ipython-input-4-52c3c741c962>, line 1)",
          "output_type": "error",
          "traceback": [
            "\u001b[0;36m  File \u001b[0;32m\"<ipython-input-4-52c3c741c962>\"\u001b[0;36m, line \u001b[0;32m1\u001b[0m\n\u001b[0;31m    1a = 20\u001b[0m\n\u001b[0m    ^\u001b[0m\n\u001b[0;31mSyntaxError\u001b[0m\u001b[0;31m:\u001b[0m invalid decimal literal\n"
          ]
        }
      ],
      "source": [
        "1a = 20\n",
        "print(1a)"
      ]
    },
    {
      "cell_type": "code",
      "execution_count": null,
      "metadata": {
        "colab": {
          "base_uri": "https://localhost:8080/"
        },
        "id": "byi9yaBoOPVe",
        "outputId": "c28d54b2-0c2d-4c0e-96be-4dd18ed28925"
      },
      "outputs": [
        {
          "name": "stdout",
          "output_type": "stream",
          "text": [
            "20\n"
          ]
        }
      ],
      "source": [
        "_a =20\n",
        "print(_a)"
      ]
    },
    {
      "cell_type": "code",
      "execution_count": null,
      "metadata": {
        "colab": {
          "base_uri": "https://localhost:8080/"
        },
        "id": "-czWQdUYO3eg",
        "outputId": "c68cf023-8609-40ec-c1d3-0c2873cc796e"
      },
      "outputs": [
        {
          "name": "stdout",
          "output_type": "stream",
          "text": [
            "20\n"
          ]
        }
      ],
      "source": [
        "my_76 = 20\n",
        "print(my_76)"
      ]
    },
    {
      "cell_type": "markdown",
      "metadata": {
        "id": "pFixZPTbOW7o"
      },
      "source": [
        "rule to declare variable\n",
        "\n",
        "1>  A variable must start with letter or underscore\n",
        "\n",
        "2> A variable cannot start with number\n",
        "\n",
        "3> it can contain alpha-numeric characters\n",
        "\n",
        "4> A  variable cannot contain  any special characters (@,#,&*)"
      ]
    },
    {
      "cell_type": "code",
      "execution_count": null,
      "metadata": {
        "colab": {
          "base_uri": "https://localhost:8080/"
        },
        "id": "7DLhLAnNPKFb",
        "outputId": "507ffa93-0b84-45d4-a1af-0ed5bfdf1847"
      },
      "outputs": [
        {
          "name": "stdout",
          "output_type": "stream",
          "text": [
            "20\n",
            "<class 'int'>\n"
          ]
        }
      ],
      "source": [
        "_my_var = 20\n",
        "print(_my_var)\n",
        "\n",
        "\n",
        "print(type(_my_var))"
      ]
    },
    {
      "cell_type": "markdown",
      "metadata": {
        "id": "KU3r0L1fPmfP"
      },
      "source": [
        "# Datatypes :  It is used to tell the type of the data  that  variables are holding"
      ]
    },
    {
      "cell_type": "code",
      "execution_count": null,
      "metadata": {
        "colab": {
          "base_uri": "https://localhost:8080/"
        },
        "id": "ueYtVZ1rQGWZ",
        "outputId": "f99d2f61-ec5f-4531-ac5f-20bf60b09c6a"
      },
      "outputs": [
        {
          "name": "stdout",
          "output_type": "stream",
          "text": [
            "10\n",
            "<class 'int'>\n"
          ]
        }
      ],
      "source": [
        "# Integer : Those are whole numbers such as 1,2,3 ----- n They are having no fractical or decimal\n",
        "\n",
        "\n",
        "a = 10\n",
        "print(a)\n",
        "print(type(a))"
      ]
    },
    {
      "cell_type": "code",
      "execution_count": null,
      "metadata": {
        "colab": {
          "base_uri": "https://localhost:8080/"
        },
        "id": "JKQi8sg3QwVK",
        "outputId": "35e312af-1824-4e26-b2fe-c878331c6df8"
      },
      "outputs": [
        {
          "name": "stdout",
          "output_type": "stream",
          "text": [
            "10.2\n",
            "<class 'float'>\n"
          ]
        }
      ],
      "source": [
        "#  float datatype :   These are the number which are having decimal part as well\n",
        "\n",
        "x = 10.20\n",
        "print(x)\n",
        "print(type(x))"
      ]
    },
    {
      "cell_type": "code",
      "execution_count": null,
      "metadata": {
        "id": "SVKIkFemRFp0"
      },
      "outputs": [],
      "source": [
        "# String   : \"alice\""
      ]
    },
    {
      "cell_type": "code",
      "execution_count": null,
      "metadata": {
        "colab": {
          "base_uri": "https://localhost:8080/"
        },
        "id": "CIoqeGARRUay",
        "outputId": "0e174733-6907-43b0-8714-b1616736b50f"
      },
      "outputs": [
        {
          "name": "stdout",
          "output_type": "stream",
          "text": [
            "alice\n",
            "<class 'str'>\n"
          ]
        }
      ],
      "source": [
        "x =\"alice\"\n",
        "print(x)\n",
        "print(type(x))"
      ]
    },
    {
      "cell_type": "code",
      "execution_count": null,
      "metadata": {
        "colab": {
          "base_uri": "https://localhost:8080/"
        },
        "id": "ziQRFtaERdUW",
        "outputId": "b808e10a-8ac5-4272-b10f-bb26ca77fb80"
      },
      "outputs": [
        {
          "name": "stdout",
          "output_type": "stream",
          "text": [
            "7876775752375\n",
            "<class 'str'>\n"
          ]
        }
      ],
      "source": [
        "abc =\"7876775752375\"\n",
        "print(abc)\n",
        "print(type(abc))"
      ]
    },
    {
      "cell_type": "code",
      "execution_count": null,
      "metadata": {
        "colab": {
          "base_uri": "https://localhost:8080/"
        },
        "id": "BGqDLmPMaIgn",
        "outputId": "70491732-a5ee-4f39-e678-088d05aa27f6"
      },
      "outputs": [
        {
          "name": "stdout",
          "output_type": "stream",
          "text": [
            "hello world\n"
          ]
        }
      ],
      "source": [
        "a =\"hello world\"\n",
        "# indexing : to  fetch particular character from the complete string"
      ]
    },
    {
      "cell_type": "code",
      "execution_count": null,
      "metadata": {
        "colab": {
          "base_uri": "https://localhost:8080/"
        },
        "id": "ejTYmIMIacGe",
        "outputId": "8d6d3b6a-6068-4605-cf16-3e1abe0ffbea"
      },
      "outputs": [
        {
          "name": "stdout",
          "output_type": "stream",
          "text": [
            "h\n"
          ]
        }
      ],
      "source": [
        "# positive indexing : which always start from left to right and the first character should always be at 0th index\n",
        "a =\"hello world\"\n",
        "   # 012345678910\n",
        "print(a[0])\n",
        "\n"
      ]
    },
    {
      "cell_type": "code",
      "execution_count": null,
      "metadata": {
        "colab": {
          "base_uri": "https://localhost:8080/"
        },
        "id": "17YFdiWHbFBp",
        "outputId": "81269e93-88c1-42a6-ef4e-20f7c33898b2"
      },
      "outputs": [
        {
          "name": "stdout",
          "output_type": "stream",
          "text": [
            "r\n"
          ]
        }
      ],
      "source": [
        "a =\"hello world\"\n",
        "print(a[8])"
      ]
    },
    {
      "cell_type": "code",
      "execution_count": null,
      "metadata": {
        "colab": {
          "base_uri": "https://localhost:8080/"
        },
        "id": "u_LR742Bbfki",
        "outputId": "7aeaa34e-96f0-413b-db7f-96ab8ffd9e11"
      },
      "outputs": [
        {
          "name": "stdout",
          "output_type": "stream",
          "text": [
            "n\n",
            "w\n"
          ]
        }
      ],
      "source": [
        "# negative indexing   : it always starts from right to left and last character should always be at index no at -1\n",
        "\n",
        "a  =\"superwomen\"\n",
        "\n",
        "print(a[-1])\n",
        "\n",
        "print(a[-5])\n",
        "\n",
        "\n"
      ]
    },
    {
      "cell_type": "code",
      "execution_count": null,
      "metadata": {
        "colab": {
          "base_uri": "https://localhost:8080/"
        },
        "id": "U4ZLQICFcDpk",
        "outputId": "332aed80-c173-4d51-c683-168a371f2b64"
      },
      "outputs": [
        {
          "name": "stdout",
          "output_type": "stream",
          "text": [
            "t\n"
          ]
        }
      ],
      "source": [
        "a = \"multiple string\"\n",
        "\n",
        "#print(a[-4])\n",
        "#print(a[8])\n",
        "#print(a[2])\n",
        "#print(a[0])\n",
        "print(a[-5])"
      ]
    },
    {
      "cell_type": "markdown",
      "metadata": {
        "id": "qfFcRKjHc8H6"
      },
      "source": [
        "# slicing"
      ]
    },
    {
      "cell_type": "code",
      "execution_count": null,
      "metadata": {
        "colab": {
          "base_uri": "https://localhost:8080/"
        },
        "id": "6A_njJnYc97s",
        "outputId": "98bf959d-fc3e-4015-e7c2-768a7612aac9"
      },
      "outputs": [
        {
          "name": "stdout",
          "output_type": "stream",
          "text": [
            " world\n",
            "hello \n"
          ]
        }
      ],
      "source": [
        "a = \"hello world\"       #stringname[startindex :endindex+1]\n",
        "\n",
        "#print(a[0:4+1])\n",
        "print(a[5:])\n",
        "\n",
        "print(a[ :6 ])\n"
      ]
    },
    {
      "cell_type": "code",
      "execution_count": null,
      "metadata": {
        "colab": {
          "base_uri": "https://localhost:8080/"
        },
        "id": "IfOppkEKffih",
        "outputId": "67a60ce3-4687-4797-db3b-2dfc1688c4c9"
      },
      "outputs": [
        {
          "name": "stdout",
          "output_type": "stream",
          "text": [
            "superwomen\n"
          ]
        }
      ],
      "source": [
        "a =\"superwomen\"\n",
        "\n",
        "#print(a[-5 : ])\n",
        "\n",
        "print(a[-10: ])\n",
        "\n",
        "\n",
        "\n"
      ]
    },
    {
      "cell_type": "code",
      "execution_count": null,
      "metadata": {
        "colab": {
          "base_uri": "https://localhost:8080/"
        },
        "id": "q_IlqrbEiKQN",
        "outputId": "c401898f-2c06-4472-8e67-d5eace55d6fa"
      },
      "outputs": [
        {
          "name": "stdout",
          "output_type": "stream",
          "text": [
            "ima\n",
            "nimal\n",
            "animal\n",
            "animal\n",
            "nimal\n",
            "animal\n",
            "ma\n"
          ]
        }
      ],
      "source": [
        "a = \"animal\"   # ima\n",
        "#n to l\n",
        "print(a[-4:-1])\n",
        "print(a[-5 :])\n",
        "#a to l\n",
        "print(a[-6 :])\n",
        "print(a[ : ])\n",
        "\n",
        "print(a[1:])\n",
        "print(a[0:])\n",
        "print(a[3:5])"
      ]
    },
    {
      "cell_type": "code",
      "execution_count": null,
      "metadata": {
        "colab": {
          "base_uri": "https://localhost:8080/"
        },
        "id": "ZvPjVYkOjFia",
        "outputId": "8d65830a-4a6c-41e9-8e42-6557526655d9"
      },
      "outputs": [
        {
          "name": "stdout",
          "output_type": "stream",
          "text": [
            "OVERHYPED\n"
          ]
        }
      ],
      "source": [
        "# modify string\n",
        "a =\"overhyped\"\n",
        "print(a.upper())"
      ]
    },
    {
      "cell_type": "code",
      "execution_count": null,
      "metadata": {
        "colab": {
          "base_uri": "https://localhost:8080/"
        },
        "id": "W8JA_vHyjTCy",
        "outputId": "3ead9ee4-f0ef-4269-9210-af91fb43bf4f"
      },
      "outputs": [
        {
          "name": "stdout",
          "output_type": "stream",
          "text": [
            "overhyped\n"
          ]
        }
      ],
      "source": [
        "a =\"OVERHYPED\"\n",
        "print(a.lower())"
      ]
    },
    {
      "cell_type": "code",
      "execution_count": null,
      "metadata": {
        "colab": {
          "base_uri": "https://localhost:8080/"
        },
        "id": "IEwtu5dtjbfX",
        "outputId": "1d074e45-b892-4c97-89cb-f6b992659997"
      },
      "outputs": [
        {
          "name": "stdout",
          "output_type": "stream",
          "text": [
            "yello world\n"
          ]
        }
      ],
      "source": [
        "# replace\n",
        "\n",
        "\n",
        "a =\"hello world\"\n",
        "print(a.replace('h','y'))"
      ]
    },
    {
      "cell_type": "code",
      "execution_count": null,
      "metadata": {
        "colab": {
          "base_uri": "https://localhost:8080/"
        },
        "id": "N0MjdciFjnhV",
        "outputId": "6fde6ae4-4e13-4538-94d3-12b7d03bcdc0"
      },
      "outputs": [
        {
          "name": "stdout",
          "output_type": "stream",
          "text": [
            "hello  learners\n"
          ]
        }
      ],
      "source": [
        "a =\"hello  \"\n",
        "b =\"learners\"\n",
        "print(a+b)"
      ]
    },
    {
      "cell_type": "code",
      "execution_count": null,
      "metadata": {
        "colab": {
          "base_uri": "https://localhost:8080/"
        },
        "id": "Vf1PvNPakR1K",
        "outputId": "c80deb4f-8b93-4425-976d-43853a18023d"
      },
      "outputs": [
        {
          "name": "stdout",
          "output_type": "stream",
          "text": [
            "hello learners\n"
          ]
        }
      ],
      "source": [
        "a =\"hello\"\n",
        "b =\"learners\"\n",
        "\n",
        "print(a+\" \"+b)"
      ]
    },
    {
      "cell_type": "code",
      "execution_count": null,
      "metadata": {
        "colab": {
          "base_uri": "https://localhost:8080/"
        },
        "id": "M0nmS5Gzkftt",
        "outputId": "f6520dc2-baed-4d38-eda2-3e43b55febcd"
      },
      "outputs": [
        {
          "output_type": "stream",
          "name": "stdout",
          "text": [
            "Overhyped\n"
          ]
        }
      ],
      "source": [
        "a =\"overhyped\"\n",
        "\n",
        "print(a.capitalize())"
      ]
    },
    {
      "cell_type": "code",
      "execution_count": null,
      "metadata": {
        "colab": {
          "base_uri": "https://localhost:8080/"
        },
        "id": "B7ynS2D0kmI2",
        "outputId": "c391f591-090d-4428-8a0b-ed50843105c1"
      },
      "outputs": [
        {
          "name": "stdout",
          "output_type": "stream",
          "text": [
            "Hello world\n"
          ]
        }
      ],
      "source": [
        "a =\"hello world\"\n",
        "print(a.capitalize())"
      ]
    },
    {
      "cell_type": "code",
      "execution_count": null,
      "metadata": {
        "colab": {
          "base_uri": "https://localhost:8080/"
        },
        "id": "xaKY38zIktsg",
        "outputId": "64f569ff-dd87-4921-c13b-a650fa8048bf"
      },
      "outputs": [
        {
          "name": "stdout",
          "output_type": "stream",
          "text": [
            "Hello World\n"
          ]
        }
      ],
      "source": [
        "a =\"hello world\"\n",
        "print(a.title())"
      ]
    },
    {
      "cell_type": "code",
      "execution_count": null,
      "metadata": {
        "colab": {
          "base_uri": "https://localhost:8080/"
        },
        "id": "oSEsgC6uk8NS",
        "outputId": "9baf038c-bc75-4d1c-c645-6cb9af95086d"
      },
      "outputs": [
        {
          "name": "stdout",
          "output_type": "stream",
          "text": [
            "5\n"
          ]
        }
      ],
      "source": [
        "text = \"hello world\"\n",
        "\n",
        "index=text.find(\" \")\n",
        "print(index)"
      ]
    },
    {
      "cell_type": "code",
      "execution_count": null,
      "metadata": {
        "id": "v4ns07jWmpsI"
      },
      "outputs": [],
      "source": [
        "\n",
        "#Suppose if we want letter L from hello\n",
        "\n",
        "#What will find provide 2 or 3"
      ]
    },
    {
      "cell_type": "code",
      "execution_count": null,
      "metadata": {
        "colab": {
          "base_uri": "https://localhost:8080/"
        },
        "id": "yzdbhwnalRms",
        "outputId": "f6c35d97-91ca-4d46-9480-0e8dcd3f1bb0"
      },
      "outputs": [
        {
          "name": "stdout",
          "output_type": "stream",
          "text": [
            "True\n"
          ]
        }
      ],
      "source": [
        "# startswith\n",
        "\n",
        "text =\"selephone\"\n",
        "c=text.startswith('tele')\n",
        "print(c)"
      ]
    },
    {
      "cell_type": "code",
      "execution_count": null,
      "metadata": {
        "colab": {
          "base_uri": "https://localhost:8080/"
        },
        "id": "XVllKEprnffE",
        "outputId": "e4d9c21b-a3fc-4f8e-b770-bf4a52b0e9d7"
      },
      "outputs": [
        {
          "name": "stdout",
          "output_type": "stream",
          "text": [
            "False\n"
          ]
        }
      ],
      "source": [
        "# endswith\n",
        "\n",
        "text =\"hello world\"\n",
        "\n",
        "c = text.endswith(\"hello\")\n",
        "print(c)"
      ]
    },
    {
      "cell_type": "code",
      "execution_count": null,
      "metadata": {
        "colab": {
          "base_uri": "https://localhost:8080/"
        },
        "id": "Prb_U7OWoSa5",
        "outputId": "af497415-62bc-439a-f94f-b4ac45eb2f52"
      },
      "outputs": [
        {
          "name": "stdout",
          "output_type": "stream",
          "text": [
            "True\n"
          ]
        }
      ],
      "source": [
        "text = \"Hello world\"\n",
        "print(text.endswith('d'))"
      ]
    },
    {
      "cell_type": "markdown",
      "metadata": {
        "id": "cXmt0T80K80e"
      },
      "source": [
        "# Boolean datatype"
      ]
    },
    {
      "cell_type": "code",
      "execution_count": null,
      "metadata": {
        "colab": {
          "base_uri": "https://localhost:8080/"
        },
        "id": "i6rZszEdK7L-",
        "outputId": "79509e38-4832-4c51-9564-c48b8a8d49fb"
      },
      "outputs": [
        {
          "name": "stdout",
          "output_type": "stream",
          "text": [
            "False\n"
          ]
        }
      ],
      "source": [
        "print(10 == 4)"
      ]
    },
    {
      "cell_type": "code",
      "execution_count": null,
      "metadata": {
        "colab": {
          "base_uri": "https://localhost:8080/"
        },
        "id": "sBTnSWTbLOWy",
        "outputId": "2118d8a1-7985-4703-b06f-e26f457093e1"
      },
      "outputs": [
        {
          "name": "stdout",
          "output_type": "stream",
          "text": [
            "True\n"
          ]
        }
      ],
      "source": [
        "print(10>9)"
      ]
    },
    {
      "cell_type": "code",
      "execution_count": null,
      "metadata": {
        "colab": {
          "base_uri": "https://localhost:8080/"
        },
        "id": "0wIR-9AILRyj",
        "outputId": "93925448-b583-4037-f4f5-ea8297017e51"
      },
      "outputs": [
        {
          "name": "stdout",
          "output_type": "stream",
          "text": [
            "True\n"
          ]
        }
      ],
      "source": [
        "print(18 <= 18)"
      ]
    },
    {
      "cell_type": "markdown",
      "metadata": {
        "id": "nkkYI1NRMntl"
      },
      "source": [
        "# Sequence datatypes : sequential datatypes refer to a type of data structure that define some sequence or order\n",
        "\n",
        "#1 list\n",
        "# 2 tuple\n",
        "#3 string"
      ]
    },
    {
      "cell_type": "markdown",
      "metadata": {
        "id": "9g-KMIaAM7zs"
      },
      "source": [
        "# list\n",
        "\n",
        "\n",
        "# 1 To store mutiple item in a single varibles\n",
        "#2 list are created with the help of square braces\n",
        "# 3 List items are having index values\n",
        "# 4 list elements are mutable (changeable)"
      ]
    },
    {
      "cell_type": "code",
      "execution_count": null,
      "metadata": {
        "colab": {
          "base_uri": "https://localhost:8080/"
        },
        "id": "ENy25A_-M7W4",
        "outputId": "105bda29-7296-461e-a41f-b22ae1c34911"
      },
      "outputs": [
        {
          "name": "stdout",
          "output_type": "stream",
          "text": [
            "[1, 2, 3, 4, 5, 5, 6]\n"
          ]
        }
      ],
      "source": [
        "list1  = [1,2,3,4,5,5,6]\n",
        "\n",
        "print(list1)"
      ]
    },
    {
      "cell_type": "code",
      "execution_count": null,
      "metadata": {
        "colab": {
          "base_uri": "https://localhost:8080/"
        },
        "id": "BbTkuxYTN2Uk",
        "outputId": "b0bc8764-7dc3-437e-daaa-ed3250aaa706"
      },
      "outputs": [
        {
          "name": "stdout",
          "output_type": "stream",
          "text": [
            "['apple', 'banana', 'lion']\n"
          ]
        }
      ],
      "source": [
        "list2 =['apple','banana','lion']\n",
        "print(list2)"
      ]
    },
    {
      "cell_type": "code",
      "execution_count": null,
      "metadata": {
        "colab": {
          "base_uri": "https://localhost:8080/"
        },
        "id": "kjR7bufZN8UA",
        "outputId": "8637205c-ab38-401e-b208-9c670a420a9c"
      },
      "outputs": [
        {
          "name": "stdout",
          "output_type": "stream",
          "text": [
            "[1, 2, 3, 4, 90.0, 'strinf']\n"
          ]
        }
      ],
      "source": [
        "list3 =[1,2,3,4,90.0,\"strinf\"]\n",
        "print(list3)"
      ]
    },
    {
      "cell_type": "code",
      "execution_count": null,
      "metadata": {
        "colab": {
          "base_uri": "https://localhost:8080/"
        },
        "id": "rT4ma8PxOHck",
        "outputId": "eaad9ddb-667a-4cc7-f6bc-2bec40da1285"
      },
      "outputs": [
        {
          "name": "stdout",
          "output_type": "stream",
          "text": [
            "blue\n",
            "orange\n"
          ]
        }
      ],
      "source": [
        "color =[\"red\",\"blue\",\"green\",\"orange\"]\n",
        "\n",
        "print(color[1])\n",
        "\n",
        "print(color[-1])\n",
        "\n"
      ]
    },
    {
      "cell_type": "code",
      "execution_count": null,
      "metadata": {
        "colab": {
          "base_uri": "https://localhost:8080/"
        },
        "id": "4OZ_KJ9qO_8r",
        "outputId": "5751f733-0cba-4b46-f4b4-5a4c5aaacaff"
      },
      "outputs": [
        {
          "name": "stdout",
          "output_type": "stream",
          "text": [
            "[4, 5, 6, 7, 8, 99]\n"
          ]
        }
      ],
      "source": [
        "list1 =[0,2,3,4,5,6,7,8,99,10]\n",
        "\n",
        "#print(list1[0:7])\n",
        "\n",
        "print(list1[-7:-1])\n"
      ]
    },
    {
      "cell_type": "code",
      "execution_count": null,
      "metadata": {
        "colab": {
          "base_uri": "https://localhost:8080/"
        },
        "id": "6ecdSt3-Rm-8",
        "outputId": "2ae81421-1a5a-4ba2-fa7d-1c7367c08f51"
      },
      "outputs": [
        {
          "name": "stdout",
          "output_type": "stream",
          "text": [
            "['coffee', 'milk', 'sugar']\n"
          ]
        }
      ],
      "source": [
        "list1 =['coffee','tea','sugar']\n",
        "\n",
        "\n",
        "list1[1] ='milk'\n",
        "print(list1)"
      ]
    },
    {
      "cell_type": "code",
      "execution_count": null,
      "metadata": {
        "colab": {
          "base_uri": "https://localhost:8080/"
        },
        "id": "mDjHW5JIR7X8",
        "outputId": "abfa1839-2590-4bc0-ed07-d5d75097c626"
      },
      "outputs": [
        {
          "name": "stdout",
          "output_type": "stream",
          "text": [
            "['coffee', 'tea', 'salt']\n"
          ]
        }
      ],
      "source": [
        "list1 =['coffee','tea','sugar']\n",
        "\n",
        "\n",
        "list1[2] ='salt'\n",
        "print(list1)"
      ]
    },
    {
      "cell_type": "code",
      "execution_count": null,
      "metadata": {
        "id": "iZun_apPStdz"
      },
      "outputs": [],
      "source": [
        "# create  a list that will store some details of the students and fetch values that is stored index no 3 , -1 , 8"
      ]
    },
    {
      "cell_type": "code",
      "execution_count": null,
      "metadata": {
        "id": "GODxIqeZTQBu"
      },
      "outputs": [],
      "source": [
        "list=['stancy', 'mithun','maria','pavan','tiru','martina','swathi','prajwal']\n",
        "print(list)"
      ]
    },
    {
      "cell_type": "code",
      "execution_count": null,
      "metadata": {
        "colab": {
          "base_uri": "https://localhost:8080/"
        },
        "id": "Hh7moZFvTP8n",
        "outputId": "0e6f14cd-f96b-4e6f-f3d6-e496e8e6676d"
      },
      "outputs": [
        {
          "name": "stdout",
          "output_type": "stream",
          "text": [
            "['opiee', 50, 'john', 65, 'robert', 100, 'stanley', 82, 'erica', 63]\n",
            "65\n",
            "63\n",
            "erica\n"
          ]
        }
      ],
      "source": [
        "#create a list that will store some details ofthe sutdents\n",
        "# fetch value in index # 3, -1, 8\n",
        "\n",
        "student =['opiee',50,'john', 65, 'robert', 100, 'stanley',82,'erica',63]\n",
        "print (student)\n",
        "\n",
        "print (student[3])\n",
        "print (student[-1])\n",
        "print (student[8])"
      ]
    },
    {
      "cell_type": "code",
      "execution_count": null,
      "metadata": {
        "colab": {
          "base_uri": "https://localhost:8080/"
        },
        "id": "aQ1R2KQJUFSI",
        "outputId": "cb268dd2-76be-4293-d845-b0190233d8c4"
      },
      "outputs": [
        {
          "name": "stdout",
          "output_type": "stream",
          "text": [
            "Best friend: Kumar Partherkar\n",
            "English marks: 99\n",
            "English marks: 99\n"
          ]
        }
      ],
      "source": [
        "student_details = [2105540143,19,\"Vimal Shukla\",\"Kumar Partherkar\",99,99,720,90,99]\n",
        "print(\"Best friend: {}\".format(student_details[3]))\n",
        "print(\"English marks: {}\".format(student_details[-1]))\n",
        "#Due to the number of items in the list, -1 and 8 refer to the same thing.\n",
        "print(\"English marks: {}\".format(student_details[8]))"
      ]
    },
    {
      "cell_type": "code",
      "execution_count": null,
      "metadata": {
        "id": "6gjVCRabUxxx"
      },
      "outputs": [],
      "source": []
    },
    {
      "cell_type": "code",
      "execution_count": null,
      "metadata": {
        "colab": {
          "base_uri": "https://localhost:8080/"
        },
        "id": "4R3YLLIeUV83",
        "outputId": "feb72dfb-edc5-409a-adba-38241fa724e2"
      },
      "outputs": [
        {
          "name": "stdout",
          "output_type": "stream",
          "text": [
            "['Ben ten', 'doramon', 'shinchan', 'nobita']\n"
          ]
        }
      ],
      "source": [
        "# insert item\n",
        "\n",
        "list3 =['doramon','shinchan','nobita']\n",
        "\n",
        "list3.insert(0,\"Ben ten\")\n",
        "print(list3)\n"
      ]
    },
    {
      "cell_type": "code",
      "execution_count": null,
      "metadata": {
        "colab": {
          "base_uri": "https://localhost:8080/"
        },
        "id": "s716rvAlVGW2",
        "outputId": "e6f09929-657d-421d-ea57-2372f7207d2c"
      },
      "outputs": [
        {
          "name": "stdout",
          "output_type": "stream",
          "text": [
            "[12, 34, 45, 67, 34]\n"
          ]
        }
      ],
      "source": [
        "list = [12,34,45,67,34]\n",
        "print(list)"
      ]
    },
    {
      "cell_type": "code",
      "execution_count": null,
      "metadata": {
        "colab": {
          "base_uri": "https://localhost:8080/"
        },
        "id": "p0z85sPKWZ-a",
        "outputId": "21588a94-2092-4fd7-9c23-3dfdd51165b2"
      },
      "outputs": [
        {
          "name": "stdout",
          "output_type": "stream",
          "text": [
            "['i3r', 9, 8, 7, 'oi', 'uiiy']\n"
          ]
        }
      ],
      "source": [
        "# append\n",
        "\n",
        "list1 =['i3r',9,8,7,'oi']\n",
        "list1.append('uiiy')\n",
        "print(list1)"
      ]
    },
    {
      "cell_type": "code",
      "execution_count": null,
      "metadata": {
        "colab": {
          "base_uri": "https://localhost:8080/"
        },
        "id": "g8hJdsyCW1EE",
        "outputId": "2a425ee7-4c9c-4c63-9573-05ffbf3d8034"
      },
      "outputs": [
        {
          "name": "stdout",
          "output_type": "stream",
          "text": [
            "['red', 'liouf', 'r3y', 1, 2, 3, 4, 5, 6, 7]\n",
            "[1, 2, 3, 4, 5, 6, 7]\n",
            "[1, 2, 3, 4, 5, 6, 7, 'red', 'liouf', 'r3y', 1, 2, 3, 4, 5, 6, 7]\n"
          ]
        }
      ],
      "source": [
        "# extent method\n",
        "list1 =['red','liouf','r3y']\n",
        "list2 =[1,2,3,4,5,6,7]\n",
        "\n",
        "\n",
        "list1.extend(list2)\n",
        "print(list1)\n",
        "print(list2)\n",
        "\n",
        "list2.extend(list1)\n",
        "print(list2)"
      ]
    },
    {
      "cell_type": "code",
      "execution_count": null,
      "metadata": {
        "colab": {
          "base_uri": "https://localhost:8080/"
        },
        "id": "1YihV13UX0rO",
        "outputId": "4942ce62-3fa6-42d8-a950-fa8acba937ab"
      },
      "outputs": [
        {
          "name": "stdout",
          "output_type": "stream",
          "text": [
            "['peie', 'opi', 'iwo', 1, 3, 4, 5, 6, 6, 7.0]\n"
          ]
        }
      ],
      "source": [
        "list3 =[1,3,4,5,6,6,7.0]\n",
        "list4 =['peie','opi','iwo']\n",
        "\n",
        "list4.extend(list3)\n",
        "print(list4)"
      ]
    },
    {
      "cell_type": "code",
      "execution_count": null,
      "metadata": {
        "id": "QZnhiB-ZYgIv"
      },
      "outputs": [],
      "source": []
    },
    {
      "cell_type": "code",
      "execution_count": null,
      "metadata": {
        "colab": {
          "base_uri": "https://localhost:8080/"
        },
        "id": "ROXDVJW1YGFJ",
        "outputId": "d1353be3-adde-43b2-f76f-b6b04b5ccb32"
      },
      "outputs": [
        {
          "name": "stdout",
          "output_type": "stream",
          "text": [
            "[1, 4, 5, 6, 6, 7.0]\n"
          ]
        }
      ],
      "source": [
        "list3 =[1,3,4,5,6,6,7.0]\n",
        "list3.remove(3)\n",
        "\n",
        "print(list3)\n",
        "\n"
      ]
    },
    {
      "cell_type": "code",
      "execution_count": null,
      "metadata": {
        "colab": {
          "base_uri": "https://localhost:8080/"
        },
        "id": "O47E1dBfYwiC",
        "outputId": "fde46541-611c-4d83-c074-015c30883fba"
      },
      "outputs": [
        {
          "name": "stdout",
          "output_type": "stream",
          "text": [
            "['me', 'us']\n"
          ]
        }
      ],
      "source": [
        "list2 =['you','me','us']\n",
        "list2.remove(list2[0])\n",
        "print(list2)"
      ]
    },
    {
      "cell_type": "code",
      "execution_count": null,
      "metadata": {
        "id": "qQtFikVAZf9l"
      },
      "outputs": [],
      "source": []
    },
    {
      "cell_type": "code",
      "execution_count": null,
      "metadata": {
        "colab": {
          "base_uri": "https://localhost:8080/"
        },
        "id": "5RPp8RApbuXs",
        "outputId": "816a8db2-6c72-40bc-805b-d8061668e521"
      },
      "outputs": [
        {
          "name": "stdout",
          "output_type": "stream",
          "text": [
            "[]\n"
          ]
        }
      ],
      "source": [
        "list1 =['iouer',8,8943,3434,434]\n",
        "list1.clear()\n",
        "print(list1)"
      ]
    },
    {
      "cell_type": "code",
      "execution_count": null,
      "metadata": {
        "colab": {
          "base_uri": "https://localhost:8080/",
          "height": 176
        },
        "id": "m2hhVVCNY8yY",
        "outputId": "740c5992-ac62-4188-e323-644c49f728cd"
      },
      "outputs": [
        {
          "ename": "NameError",
          "evalue": "name 'list2' is not defined",
          "output_type": "error",
          "traceback": [
            "\u001b[0;31m---------------------------------------------------------------------------\u001b[0m",
            "\u001b[0;31mNameError\u001b[0m                                 Traceback (most recent call last)",
            "\u001b[0;32m<ipython-input-77-d9e8273e9dae>\u001b[0m in \u001b[0;36m<cell line: 3>\u001b[0;34m()\u001b[0m\n\u001b[1;32m      1\u001b[0m \u001b[0mlist2\u001b[0m \u001b[0;34m=\u001b[0m\u001b[0;34m[\u001b[0m\u001b[0;34m'you'\u001b[0m\u001b[0;34m,\u001b[0m\u001b[0;34m'me'\u001b[0m\u001b[0;34m,\u001b[0m\u001b[0;34m'us'\u001b[0m\u001b[0;34m]\u001b[0m\u001b[0;34m\u001b[0m\u001b[0;34m\u001b[0m\u001b[0m\n\u001b[1;32m      2\u001b[0m \u001b[0;32mdel\u001b[0m \u001b[0mlist2\u001b[0m\u001b[0;34m\u001b[0m\u001b[0;34m\u001b[0m\u001b[0m\n\u001b[0;32m----> 3\u001b[0;31m \u001b[0mprint\u001b[0m\u001b[0;34m(\u001b[0m\u001b[0mlist2\u001b[0m\u001b[0;34m)\u001b[0m\u001b[0;34m\u001b[0m\u001b[0;34m\u001b[0m\u001b[0m\n\u001b[0m",
            "\u001b[0;31mNameError\u001b[0m: name 'list2' is not defined"
          ]
        }
      ],
      "source": [
        "list2 =['you','me','us']\n",
        "del list2\n",
        "print(list2)"
      ]
    },
    {
      "cell_type": "markdown",
      "metadata": {
        "id": "D7bT-0H3buFp"
      },
      "source": []
    },
    {
      "cell_type": "code",
      "execution_count": null,
      "metadata": {
        "colab": {
          "base_uri": "https://localhost:8080/"
        },
        "id": "BFlgB3uxZyg_",
        "outputId": "984a715c-cf6a-4fba-a959-b28fff491ea1"
      },
      "outputs": [
        {
          "name": "stdout",
          "output_type": "stream",
          "text": [
            "['opo', 'ur', 'oru', 7]\n"
          ]
        }
      ],
      "source": [
        "# pop\n",
        "\n",
        "list1 =['opo','apolo','ur','oru',7]\n",
        "list1.pop(1)\n",
        "print(list1)"
      ]
    },
    {
      "cell_type": "code",
      "execution_count": null,
      "metadata": {
        "colab": {
          "base_uri": "https://localhost:8080/"
        },
        "id": "ZWe5QeX9bBUH",
        "outputId": "37530629-3bec-4cac-bd9a-262076400a44"
      },
      "outputs": [
        {
          "name": "stdout",
          "output_type": "stream",
          "text": [
            "['ud', 'o', 'ii']\n"
          ]
        }
      ],
      "source": [
        "list1 =['ud','o','ii']\n",
        "print(list1)"
      ]
    },
    {
      "cell_type": "code",
      "execution_count": null,
      "metadata": {
        "colab": {
          "base_uri": "https://localhost:8080/"
        },
        "id": "AQGPxJNEbNMz",
        "outputId": "08f423c5-fddd-4eb0-ff14-70f8006735ee"
      },
      "outputs": [
        {
          "name": "stdout",
          "output_type": "stream",
          "text": [
            "['jay', 'ajay', 'git', 'amar', 'amay']\n"
          ]
        }
      ],
      "source": [
        "Qyei = ['jay','ajay','git','amar','amay']\n",
        "print(Qyei)"
      ]
    },
    {
      "cell_type": "code",
      "execution_count": null,
      "metadata": {
        "colab": {
          "base_uri": "https://localhost:8080/"
        },
        "id": "Q_BxDdhkbscH",
        "outputId": "bfd8ab3b-d17d-40da-8edb-232c14eda3c7"
      },
      "outputs": [
        {
          "name": "stdout",
          "output_type": "stream",
          "text": [
            "[23, 34, 45, 45, 56, 89, 90]\n"
          ]
        }
      ],
      "source": [
        "# sort\n",
        "#ascending\n",
        "list1 =[90,89,45,56,45,34,23]\n",
        "list1.sort()\n",
        "print(list1)"
      ]
    },
    {
      "cell_type": "code",
      "execution_count": null,
      "metadata": {
        "colab": {
          "base_uri": "https://localhost:8080/"
        },
        "id": "kA0yJ-8Tk1WB",
        "outputId": "13986531-c226-4359-cae3-a94f209ac39e"
      },
      "outputs": [
        {
          "name": "stdout",
          "output_type": "stream",
          "text": [
            "[100, 89, 78, 67, 56, 34, 12]\n"
          ]
        }
      ],
      "source": [
        "#descending order\n",
        "list1 =[12,34,56,67,78,89,100]\n",
        "list1.sort(reverse=True)\n",
        "print(list1)"
      ]
    },
    {
      "cell_type": "code",
      "execution_count": null,
      "metadata": {
        "colab": {
          "base_uri": "https://localhost:8080/",
          "height": 176
        },
        "id": "mPGIP2W4la-9",
        "outputId": "2a629cfd-e5c0-499b-fca8-5a4a7fbe61b3"
      },
      "outputs": [
        {
          "ename": "ValueError",
          "evalue": "'pi' is not in list",
          "output_type": "error",
          "traceback": [
            "\u001b[0;31m---------------------------------------------------------------------------\u001b[0m",
            "\u001b[0;31mValueError\u001b[0m                                Traceback (most recent call last)",
            "\u001b[0;32m<ipython-input-91-c9a6caa8032e>\u001b[0m in \u001b[0;36m<cell line: 4>\u001b[0;34m()\u001b[0m\n\u001b[1;32m      2\u001b[0m \u001b[0mfruits\u001b[0m  \u001b[0;34m=\u001b[0m\u001b[0;34m[\u001b[0m\u001b[0;34m'pineaple'\u001b[0m\u001b[0;34m,\u001b[0m\u001b[0;34m'grapes'\u001b[0m\u001b[0;34m,\u001b[0m\u001b[0;34m'oranges'\u001b[0m\u001b[0;34m]\u001b[0m\u001b[0;34m\u001b[0m\u001b[0;34m\u001b[0m\u001b[0m\n\u001b[1;32m      3\u001b[0m \u001b[0;34m\u001b[0m\u001b[0m\n\u001b[0;32m----> 4\u001b[0;31m \u001b[0mprint\u001b[0m\u001b[0;34m(\u001b[0m\u001b[0mfruits\u001b[0m\u001b[0;34m.\u001b[0m\u001b[0mindex\u001b[0m\u001b[0;34m(\u001b[0m\u001b[0;34m'pi'\u001b[0m\u001b[0;34m)\u001b[0m\u001b[0;34m)\u001b[0m\u001b[0;34m\u001b[0m\u001b[0;34m\u001b[0m\u001b[0m\n\u001b[0m",
            "\u001b[0;31mValueError\u001b[0m: 'pi' is not in list"
          ]
        }
      ],
      "source": [
        "#finding index value of particular  value\n",
        "fruits  =['pineaple','grapes','oranges']\n",
        "\n",
        "print(fruits.index('pi'))"
      ]
    },
    {
      "cell_type": "markdown",
      "metadata": {
        "id": "7qIn-A4WmSj3"
      },
      "source": [
        "**Tuple**\n",
        "1> It is used to store multiple items in a single variable\n",
        "\n",
        "2> A tuple is a collection of items which is ordered and immutable(unchangable)\n",
        "\n",
        "\n",
        "3> we use () to create a tuple"
      ]
    },
    {
      "cell_type": "code",
      "execution_count": null,
      "metadata": {
        "colab": {
          "base_uri": "https://localhost:8080/"
        },
        "id": "Q0_ikCT6mU5C",
        "outputId": "4fe41b75-1183-4de6-b646-e7f4adb53dcd"
      },
      "outputs": [
        {
          "name": "stdout",
          "output_type": "stream",
          "text": [
            "('uefugfe', 90, 90.0, True)\n"
          ]
        }
      ],
      "source": [
        "tuple1 =('uefugfe',90,90.0,True)\n",
        "print(tuple1)"
      ]
    },
    {
      "cell_type": "code",
      "execution_count": null,
      "metadata": {
        "colab": {
          "base_uri": "https://localhost:8080/"
        },
        "id": "TEx0Ce64nNeO",
        "outputId": "7f8ba99c-25e4-4bed-a489-4a2a621ffc39"
      },
      "outputs": [
        {
          "name": "stdout",
          "output_type": "stream",
          "text": [
            "90\n"
          ]
        }
      ],
      "source": [
        "tuple1 =('uefugfe',90,90.0,True)\n",
        "print(tuple1[1])"
      ]
    },
    {
      "cell_type": "code",
      "execution_count": null,
      "metadata": {
        "colab": {
          "base_uri": "https://localhost:8080/"
        },
        "id": "rC77pa9hnUl2",
        "outputId": "5574b60a-e2ca-48a9-be9f-660809016425"
      },
      "outputs": [
        {
          "name": "stdout",
          "output_type": "stream",
          "text": [
            "('apple', 'kiwi', 23, 566, 7, 90.0)\n"
          ]
        }
      ],
      "source": [
        "tuple = (\"apple\",\"kiwi\",23,566,7,90.0)\n",
        "\n",
        "print(tuple)\n",
        "# fetch from apple to 7\n",
        "# fetch from 90.0 to kiwi"
      ]
    },
    {
      "cell_type": "code",
      "execution_count": null,
      "metadata": {
        "colab": {
          "base_uri": "https://localhost:8080/"
        },
        "id": "Pj5-RHKon5db",
        "outputId": "ec84dfc6-35f7-4fd6-cae2-70f4e04bf025"
      },
      "outputs": [
        {
          "name": "stdout",
          "output_type": "stream",
          "text": [
            "7\n",
            "('apple', 'kiwi', 23, 566, 7, 90.0)\n"
          ]
        }
      ],
      "source": [
        "print(tuple[4]) #returns 7 amrit\n",
        "print(tuple[0:7])  #pransana\n"
      ]
    },
    {
      "cell_type": "code",
      "execution_count": null,
      "metadata": {
        "colab": {
          "base_uri": "https://localhost:8080/"
        },
        "id": "wDKAUkttoCL-",
        "outputId": "53e74ab8-e76b-4e04-b2cd-cd3808df9dd9"
      },
      "outputs": [
        {
          "name": "stdout",
          "output_type": "stream",
          "text": [
            "('apple', 'kiwi', 23, 566, 7, 90.0)\n",
            "(90.0, 7, 566, 23, 'kiwi')\n"
          ]
        }
      ],
      "source": [
        "stancy=('apple','kiwi',23,566,7,90.0)\n",
        "print(stancy[0:])\n",
        "print(stancy[-1:-6:-1])"
      ]
    },
    {
      "cell_type": "code",
      "execution_count": null,
      "metadata": {
        "colab": {
          "base_uri": "https://localhost:8080/"
        },
        "id": "KmbdKiGSoOB9",
        "outputId": "665148eb-09ee-4bf9-a963-6baaf604d017"
      },
      "outputs": [
        {
          "name": "stdout",
          "output_type": "stream",
          "text": [
            "('apple', 'Kiwi', 23, 566, 7)\n",
            "(90.0, 7, 566, 23, 'Kiwi')\n"
          ]
        }
      ],
      "source": [
        "tuple1 = (\"apple\",\"Kiwi\",23,566,7,90.0)\n",
        "\n",
        "print(tuple1[0:5])\n",
        "\n",
        "print(tuple1[-1:-6:-1])\n"
      ]
    },
    {
      "cell_type": "code",
      "execution_count": null,
      "metadata": {
        "colab": {
          "base_uri": "https://localhost:8080/",
          "height": 70
        },
        "id": "jA_h-5NFolck",
        "outputId": "6f888c49-2968-447f-91a6-076f7d01813f"
      },
      "outputs": [
        {
          "name": "stdout",
          "output_type": "stream",
          "text": [
            "('apple', 'kiwi', 23, 566, 7)\n",
            "(90.0, 7, 566, 23, 'kiwi')\n"
          ]
        },
        {
          "data": {
            "application/vnd.google.colaboratory.intrinsic+json": {
              "type": "string"
            },
            "text/plain": [
              "\"output\\n======\\n('apple', 'kiwi', 23, 566, 7) (90.0, 7, 566, 23, 'kiwi')\""
            ]
          },
          "execution_count": 8,
          "metadata": {},
          "output_type": "execute_result"
        }
      ],
      "source": [
        "tuple1 = (\"apple\",\"kiwi\",23,566,7,90.0)\n",
        "\n",
        "\n",
        "# fetch from apple to 7\n",
        "# fetch from 90.0 to kiwi\n",
        "print(tuple1[0:5])\n",
        "print(tuple1[-1:-6:-1])\n",
        "\n",
        "\"\"\"output\n",
        "======\n",
        "('apple', 'kiwi', 23, 566, 7) (90.0, 7, 566, 23, 'kiwi')\"\"\""
      ]
    },
    {
      "cell_type": "code",
      "execution_count": null,
      "metadata": {
        "colab": {
          "base_uri": "https://localhost:8080/"
        },
        "id": "9dP_25DXo-Xs",
        "outputId": "8afc7bc6-4eb1-46c9-b41c-7e5b8a4ab491"
      },
      "outputs": [
        {
          "name": "stdout",
          "output_type": "stream",
          "text": [
            "('let', ',me', 'finish')\n",
            "['let', ',me', 'finish']\n",
            "['let', 'you', 'finish']\n",
            "('let', 'you', 'finish')\n"
          ]
        }
      ],
      "source": [
        " # to update a tuple\n",
        "\n",
        "\n",
        "x = ('let',',me','finish')\n",
        "print(x)\n",
        "y=list(x)\n",
        "print(y)\n",
        "y[1] ='you'\n",
        "print(y)\n",
        "\n",
        "x=tuple(y)\n",
        "print(x)\n",
        "\n",
        "\n",
        "\n"
      ]
    },
    {
      "cell_type": "code",
      "source": [
        "def my_function():\n",
        "  print(\"hello good evening\")\n",
        "my_function()"
      ],
      "metadata": {
        "colab": {
          "base_uri": "https://localhost:8080/"
        },
        "id": "WbGhk5ZXs2L6",
        "outputId": "c1d149c1-aeff-4269-c0e9-8aae11b37c81"
      },
      "execution_count": null,
      "outputs": [
        {
          "output_type": "stream",
          "name": "stdout",
          "text": [
            "hello good evening\n"
          ]
        }
      ]
    },
    {
      "cell_type": "code",
      "source": [
        "def area(l,w):\n",
        "  print(l*w)\n",
        "area(5,6)"
      ],
      "metadata": {
        "colab": {
          "base_uri": "https://localhost:8080/"
        },
        "id": "dSaI0498vCJH",
        "outputId": "0f429d3c-c5fd-4067-dc01-4c8119268cb5"
      },
      "execution_count": null,
      "outputs": [
        {
          "output_type": "stream",
          "name": "stdout",
          "text": [
            "30\n"
          ]
        }
      ]
    },
    {
      "cell_type": "code",
      "source": [
        "pip install numpy\n"
      ],
      "metadata": {
        "colab": {
          "base_uri": "https://localhost:8080/"
        },
        "id": "7T9o_6VMNn1N",
        "outputId": "eaec4994-a6a7-4d2a-86c5-e53dd29000a3"
      },
      "execution_count": null,
      "outputs": [
        {
          "output_type": "stream",
          "name": "stdout",
          "text": [
            "Requirement already satisfied: numpy in /usr/local/lib/python3.10/dist-packages (1.26.4)\n"
          ]
        }
      ]
    },
    {
      "cell_type": "code",
      "execution_count": null,
      "metadata": {
        "colab": {
          "base_uri": "https://localhost:8080/"
        },
        "id": "diIWtPGXpq1X",
        "outputId": "de369acb-dece-42f6-c890-9688f263c5e9"
      },
      "outputs": [
        {
          "name": "stdout",
          "output_type": "stream",
          "text": [
            ",me\n",
            "('let', ',me', 'finish')\n",
            "['let', ',me', 'finish']\n",
            "['let', 'you', 'finish']\n",
            "('let', 'you', 'finish')\n",
            "<class 'tuple'>\n"
          ]
        }
      ],
      "source": [
        "x = ('let',',me','finish')\n",
        "\n",
        "\n",
        "\n",
        "y=list(x)\n",
        "print(y)\n",
        "y[1] ='you'\n",
        "print(y)\n",
        "x =tuple(y)\n",
        "print(x)\n",
        "\n",
        "print(type(x))\n"
      ]
    },
    {
      "cell_type": "code",
      "execution_count": null,
      "metadata": {
        "colab": {
          "base_uri": "https://localhost:8080/",
          "height": 176
        },
        "id": "QwPoShtSqvUQ",
        "outputId": "803b7aa4-d891-4fe1-ba65-b89f06bda019"
      },
      "outputs": [
        {
          "ename": "TypeError",
          "evalue": "'tuple' object does not support item assignment",
          "output_type": "error",
          "traceback": [
            "\u001b[0;31m---------------------------------------------------------------------------\u001b[0m",
            "\u001b[0;31mTypeError\u001b[0m                                 Traceback (most recent call last)",
            "\u001b[0;32m<ipython-input-5-b48a4bb8aaad>\u001b[0m in \u001b[0;36m<cell line: 2>\u001b[0;34m()\u001b[0m\n\u001b[1;32m      1\u001b[0m \u001b[0mcountry\u001b[0m \u001b[0;34m=\u001b[0m\u001b[0;34m(\u001b[0m\u001b[0;34m'france'\u001b[0m\u001b[0;34m,\u001b[0m\u001b[0;34m'germany'\u001b[0m\u001b[0;34m,\u001b[0m\u001b[0;34m'japan'\u001b[0m\u001b[0;34m)\u001b[0m\u001b[0;34m\u001b[0m\u001b[0;34m\u001b[0m\u001b[0m\n\u001b[0;32m----> 2\u001b[0;31m \u001b[0mcountry\u001b[0m\u001b[0;34m[\u001b[0m\u001b[0;36m1\u001b[0m\u001b[0;34m]\u001b[0m\u001b[0;34m=\u001b[0m\u001b[0;34m'PARIS'\u001b[0m\u001b[0;34m\u001b[0m\u001b[0;34m\u001b[0m\u001b[0m\n\u001b[0m\u001b[1;32m      3\u001b[0m \u001b[0mprint\u001b[0m\u001b[0;34m(\u001b[0m\u001b[0mcountry\u001b[0m\u001b[0;34m)\u001b[0m\u001b[0;34m\u001b[0m\u001b[0;34m\u001b[0m\u001b[0m\n",
            "\u001b[0;31mTypeError\u001b[0m: 'tuple' object does not support item assignment"
          ]
        }
      ],
      "source": [
        "country =('france','germany','japan')\n",
        "country[1]='PARIS'\n",
        "print(country)\n"
      ]
    },
    {
      "cell_type": "code",
      "execution_count": null,
      "metadata": {
        "colab": {
          "base_uri": "https://localhost:8080/"
        },
        "id": "Nn_iaHC4sI0R",
        "outputId": "06c5ef9e-3fbc-4efd-c682-5f7db8b0ede2"
      },
      "outputs": [
        {
          "name": "stdout",
          "output_type": "stream",
          "text": [
            "[1, 2, 3, 4, 55, 67, 8]\n",
            "[1, 2, 3, 4, 55, 67]\n",
            "(1, 2, 3, 4, 55, 67)\n"
          ]
        }
      ],
      "source": [
        "x =(1,2,3,4,55,67,8)\n",
        "list_updated=list(x)\n",
        "print(list_updated)\n",
        "list_updated.remove(8)\n",
        "print(list_updated)\n",
        "\n",
        "x=tuple(list_updated)\n",
        "print(x)\n",
        "\n"
      ]
    },
    {
      "cell_type": "code",
      "execution_count": null,
      "metadata": {
        "id": "eagd9XwJtJPz"
      },
      "outputs": [],
      "source": [
        "# create a tuple which will store some strings values and then  pop the 2 index value from the tuple\n"
      ]
    },
    {
      "cell_type": "code",
      "execution_count": null,
      "metadata": {
        "colab": {
          "base_uri": "https://localhost:8080/"
        },
        "id": "DQCTfWtouDOF",
        "outputId": "2b4064d8-d3e0-45c5-dc58-b292aa68ec32"
      },
      "outputs": [
        {
          "name": "stdout",
          "output_type": "stream",
          "text": [
            "['a', 'b', 'c', 'd', 'e']\n",
            "('a', 'b', 'd', 'e')\n"
          ]
        }
      ],
      "source": [
        "#shivam\n",
        "tuple1=('a','b','c','d','e')\n",
        "\n",
        "y=list(tuple1)\n",
        "\n",
        "print(y)\n",
        "\n",
        "y.pop(2)\n",
        "\n",
        "tuple1=tuple(y)\n",
        "\n",
        "print(tuple1)\n"
      ]
    },
    {
      "cell_type": "code",
      "execution_count": null,
      "metadata": {
        "colab": {
          "base_uri": "https://localhost:8080/"
        },
        "id": "wKesThc1uHeL",
        "outputId": "7bb6a359-da5b-4ecd-fbc9-33ed9cf30369"
      },
      "outputs": [
        {
          "name": "stdout",
          "output_type": "stream",
          "text": [
            "Removed Roe\n",
            "Mtlst (list of mt): ['My', 'name', 'is', 'John']\n",
            "Final tuple: ('My', 'name', 'is', 'John')\n"
          ]
        }
      ],
      "source": [
        "#amrit\n",
        "mt = (\"My\",\"name\",\"is\",\"John\",\"Roe\")\n",
        "mtlst = list(mt)\n",
        "print(\"Removed {}\".format(mtlst.pop()))\n",
        "print(\"Mtlst (list of mt): {}\".format(mtlst))\n",
        "mt = tuple(mtlst)\n",
        "print(\"Final tuple: {}\".format(mt))"
      ]
    },
    {
      "cell_type": "code",
      "execution_count": null,
      "metadata": {
        "colab": {
          "base_uri": "https://localhost:8080/"
        },
        "id": "zj7RLGmmuOFr",
        "outputId": "b8467554-8b48-49a3-e04d-0d4a3b9d8796"
      },
      "outputs": [
        {
          "name": "stdout",
          "output_type": "stream",
          "text": [
            "('apple', 'banana', 'cherry', 'kiwi', 'orange')\n",
            "cherry\n",
            "['apple', 'banana', 'cherry', 'kiwi', 'orange']\n",
            "['apple', 'banana', 'kiwi', 'orange']\n",
            "('apple', 'banana', 'kiwi', 'orange')\n"
          ]
        }
      ],
      "source": [
        "#om\n",
        "tupple2 = ('apple','banana','cherry','kiwi','orange')\n",
        "print(tupple2)\n",
        "print(tupple2[2])\n",
        "\n",
        "x = list(tupple2)\n",
        "print(x)\n",
        "x.pop(2)\n",
        "print(x)\n",
        "tupple2 = tuple(x)\n",
        "print(tupple2)"
      ]
    },
    {
      "cell_type": "code",
      "execution_count": null,
      "metadata": {
        "colab": {
          "base_uri": "https://localhost:8080/"
        },
        "id": "aUZoB32IuSiw",
        "outputId": "a8adf40a-900d-4493-c097-6be652e4630f"
      },
      "outputs": [
        {
          "name": "stdout",
          "output_type": "stream",
          "text": [
            "('America', 'London', 'Scotland', 'Amsterdam')\n",
            "['America', 'London', 'Scotland', 'Amsterdam']\n",
            "['America', 'London', 'Scotland']\n",
            "('America', 'London', 'Scotland')\n"
          ]
        }
      ],
      "source": [
        "stancy=('America','London','Scotland','Amsterdam')\n",
        "print(stancy)\n",
        "stan=list(stancy)\n",
        "print(stan)\n",
        "stan.pop()\n",
        "print(stan)\n",
        "stancy=tuple(stan)\n",
        "print(stancy)\n"
      ]
    },
    {
      "cell_type": "code",
      "execution_count": null,
      "metadata": {
        "colab": {
          "base_uri": "https://localhost:8080/"
        },
        "id": "UZ7efWRYumOV",
        "outputId": "d1323f13-5468-4feb-b9fe-f2fcca7915ec"
      },
      "outputs": [
        {
          "name": "stdout",
          "output_type": "stream",
          "text": [
            "('cry', 'sad', 'laugh', 'okay', 'null')\n",
            "laugh\n",
            "['cry', 'sad', 'laugh', 'okay', 'null']\n",
            "['cry', 'sad', 'okay', 'null']\n",
            "('cry', 'sad', 'okay', 'null')\n"
          ]
        }
      ],
      "source": [
        "tupple2 = ('cry','sad','laugh','okay','null')\n",
        "print(tupple2)\n",
        "print(tupple2[2])\n",
        "\n",
        "x = list(tupple2)\n",
        "print(x)\n",
        "x.pop(2)\n",
        "print(x)\n",
        "tupple2 = tuple(x)\n",
        "print(tupple2)"
      ]
    },
    {
      "cell_type": "code",
      "execution_count": null,
      "metadata": {
        "colab": {
          "base_uri": "https://localhost:8080/",
          "height": 176
        },
        "id": "zNphmxoGuzqr",
        "outputId": "4c6f424c-dc01-4559-ced8-b39cc9af0350"
      },
      "outputs": [
        {
          "ename": "NameError",
          "evalue": "name 'tuple1' is not defined",
          "output_type": "error",
          "traceback": [
            "\u001b[0;31m---------------------------------------------------------------------------\u001b[0m",
            "\u001b[0;31mNameError\u001b[0m                                 Traceback (most recent call last)",
            "\u001b[0;32m<ipython-input-21-ee9e564d9974>\u001b[0m in \u001b[0;36m<cell line: 4>\u001b[0;34m()\u001b[0m\n\u001b[1;32m      2\u001b[0m \u001b[0;32mdel\u001b[0m \u001b[0mtuple1\u001b[0m\u001b[0;34m\u001b[0m\u001b[0;34m\u001b[0m\u001b[0m\n\u001b[1;32m      3\u001b[0m \u001b[0;34m\u001b[0m\u001b[0m\n\u001b[0;32m----> 4\u001b[0;31m \u001b[0mprint\u001b[0m\u001b[0;34m(\u001b[0m\u001b[0mtuple1\u001b[0m\u001b[0;34m)\u001b[0m\u001b[0;34m\u001b[0m\u001b[0;34m\u001b[0m\u001b[0m\n\u001b[0m",
            "\u001b[0;31mNameError\u001b[0m: name 'tuple1' is not defined"
          ]
        }
      ],
      "source": [
        "tuple1 =(1,2,3,4,55)\n",
        "del tuple1\n",
        "\n",
        "print(tuple1)\n"
      ]
    },
    {
      "cell_type": "code",
      "execution_count": null,
      "metadata": {
        "colab": {
          "base_uri": "https://localhost:8080/",
          "height": 158
        },
        "id": "dITLvZOPvXOr",
        "outputId": "7b8c6d82-2301-434e-81bc-71c282e5f8d6"
      },
      "outputs": [
        {
          "ename": "AttributeError",
          "evalue": "'tuple' object has no attribute 'clear'",
          "output_type": "error",
          "traceback": [
            "\u001b[0;31m---------------------------------------------------------------------------\u001b[0m",
            "\u001b[0;31mAttributeError\u001b[0m                            Traceback (most recent call last)",
            "\u001b[0;32m<ipython-input-20-ac47dd5c2946>\u001b[0m in \u001b[0;36m<cell line: 2>\u001b[0;34m()\u001b[0m\n\u001b[1;32m      1\u001b[0m \u001b[0mtuple1\u001b[0m \u001b[0;34m=\u001b[0m\u001b[0;34m(\u001b[0m\u001b[0;36m1\u001b[0m\u001b[0;34m,\u001b[0m\u001b[0;36m2\u001b[0m\u001b[0;34m,\u001b[0m\u001b[0;36m3\u001b[0m\u001b[0;34m,\u001b[0m\u001b[0;36m4\u001b[0m\u001b[0;34m,\u001b[0m\u001b[0;36m55\u001b[0m\u001b[0;34m)\u001b[0m\u001b[0;34m\u001b[0m\u001b[0;34m\u001b[0m\u001b[0m\n\u001b[0;32m----> 2\u001b[0;31m \u001b[0mtuple2\u001b[0m\u001b[0;34m=\u001b[0m\u001b[0mtuple1\u001b[0m\u001b[0;34m.\u001b[0m\u001b[0mclear\u001b[0m\u001b[0;34m(\u001b[0m\u001b[0;34m)\u001b[0m\u001b[0;34m\u001b[0m\u001b[0;34m\u001b[0m\u001b[0m\n\u001b[0m",
            "\u001b[0;31mAttributeError\u001b[0m: 'tuple' object has no attribute 'clear'"
          ]
        }
      ],
      "source": [
        "tuple1 =(1,2,3,4,55)\n",
        "tuple2=tuple1.clear()"
      ]
    },
    {
      "cell_type": "code",
      "execution_count": null,
      "metadata": {
        "colab": {
          "base_uri": "https://localhost:8080/"
        },
        "id": "Zj3mSjm0weA0",
        "outputId": "bb235c91-3cef-4c17-ae4b-f7e391dc2b7f"
      },
      "outputs": [
        {
          "name": "stdout",
          "output_type": "stream",
          "text": [
            "(1, 2, 3, 4, 5, 'mohan', 'ours')\n",
            "[1, 2, 3, 4, 5, 'mohan', 'ours']\n",
            "[1, 2, 3, 4, 5, 'you', 'ours']\n",
            "(1, 2, 3, 4, 5, 'you', 'ours')\n"
          ]
        }
      ],
      "source": [
        "tuple1 =(1,2,3,4,5,\"mohan\",\"ours\")\n",
        "print(tuple1)\n",
        "\n",
        "updated_list =list(tuple1)\n",
        "print(updated_list)\n",
        "\n",
        "updated_list[5] ='you'\n",
        "print(updated_list)\n",
        "\n",
        "tuple1=tuple(updated_list)\n",
        "print(tuple1)\n",
        "\n"
      ]
    },
    {
      "cell_type": "code",
      "source": [
        "class Sum:\n",
        "  def s1(self,a=0,b=0):\n",
        "    self.a=a\n",
        "    self.b=b\n",
        "\n",
        "   print(self.s2)\n",
        "\n",
        "  def s2(self,d=0,e=0,c=0):\n",
        "    self.c=c\n",
        "    self.d=d\n",
        "    self.e=e\n",
        "    print(self.c + self.d + self.e)\n",
        "\n",
        "x=Sum()\n",
        "x.s2(1,2,3,4,5)"
      ],
      "metadata": {
        "colab": {
          "base_uri": "https://localhost:8080/",
          "height": 106
        },
        "id": "D0hviGI8uhpi",
        "outputId": "8ac33417-412f-4e90-f488-bbfbcbebed1d"
      },
      "execution_count": null,
      "outputs": [
        {
          "output_type": "error",
          "ename": "IndentationError",
          "evalue": "unindent does not match any outer indentation level (<tokenize>, line 6)",
          "traceback": [
            "\u001b[0;36m  File \u001b[0;32m\"<tokenize>\"\u001b[0;36m, line \u001b[0;32m6\u001b[0m\n\u001b[0;31m    print(self.s2)\u001b[0m\n\u001b[0m    ^\u001b[0m\n\u001b[0;31mIndentationError\u001b[0m\u001b[0;31m:\u001b[0m unindent does not match any outer indentation level\n"
          ]
        }
      ]
    },
    {
      "cell_type": "markdown",
      "metadata": {
        "id": "VK_hyjRz1T8H"
      },
      "source": [
        "22/09/2024 ---- Topic\n",
        "Summary session I so far 9/22 - sunday\n",
        "===============================\n",
        "Boolean data type\n",
        "Sequential data types\n",
        "List, tuple, string\n",
        "List functions\n",
        "\n",
        "\n",
        "Summary session II\n",
        "=================\n",
        "List functions\n",
        "Tuple\n",
        "It is\n",
        "\n",
        "Created with round Brackets, immutable and cant be updated\n",
        "\n",
        "\n",
        "Print tuble\n",
        "\n",
        "Using index in forward and reversing order\n",
        "\n",
        "\n",
        "Replace entire tuple using tuple()\n",
        "\n",
        "Using another list and modify list and xfer modified list back into tuple using tuple()\n",
        "\n",
        "\n",
        "Exercise\n",
        "\n",
        "Create a tuple and modify tuple value using a list variable and pop\n",
        "\n",
        "\n",
        "Del\n",
        "\n",
        "Delete tuple variable\n",
        "\n",
        "\n",
        "Clear\n",
        "\n",
        "Cant be used as it is immutable\n",
        "\n",
        "eg:  tuple1.clear() - not allowed as valid attribute\n",
        "\n",
        "\n",
        "\n",
        "\n",
        "\n",
        "Sort\n",
        "\n",
        "Order the elements in a list variable based upon value\n",
        "\n",
        "\n",
        "Sort descending\n",
        "\n",
        "Order the value within a variable using reverse==true\n",
        "\n",
        "\n",
        "Index\n",
        "\n",
        "Get the index of the value position in the variable\n",
        "\n",
        "Append\n",
        "\n",
        "Add new value at the end of list values\n",
        "\n",
        "Insert\n",
        "\n",
        "- insert a new value into an existing list at indexed value\n",
        "\n",
        "\n",
        "Del   \n",
        "\n",
        "- entire variable removal\n",
        "\n",
        "\n",
        "Remove\n",
        "\n",
        "- value removal within the existing values in the list variable\n",
        "\n",
        "\n",
        "Pop\n",
        "\n",
        "- remove a particular indexed value within a list variable\n",
        "\n",
        "\n",
        "Extend\n",
        "\n",
        "- bring another list values into another list variable\n",
        "\n",
        "\n",
        "Clear\n",
        "\n",
        "- clear values inside the variable\n",
        "\n"
      ]
    },
    {
      "cell_type": "code",
      "execution_count": null,
      "metadata": {
        "colab": {
          "base_uri": "https://localhost:8080/"
        },
        "id": "C4Wf3mcxRged",
        "outputId": "d258f0cb-8d3a-45d7-ac86-e64ece0645b4"
      },
      "outputs": [
        {
          "name": "stdout",
          "output_type": "stream",
          "text": [
            "{2, 3, 4, 5, 6, 7}\n"
          ]
        }
      ],
      "source": [
        "thiset ={1,2,2,3,4,5,6,7}\n",
        "thiset\n",
        "\n",
        "thiset.remove(1)\n",
        "\n",
        "print(thiset)"
      ]
    },
    {
      "cell_type": "code",
      "execution_count": null,
      "metadata": {
        "colab": {
          "base_uri": "https://localhost:8080/",
          "height": 141
        },
        "id": "Vx5Aw8Q3Rq3t",
        "outputId": "7b3061db-d563-424b-9cc6-7b7b656121f3"
      },
      "outputs": [
        {
          "ename": "KeyError",
          "evalue": "1",
          "output_type": "error",
          "traceback": [
            "\u001b[0;31m---------------------------------------------------------------------------\u001b[0m",
            "\u001b[0;31mKeyError\u001b[0m                                  Traceback (most recent call last)",
            "\u001b[0;32m<ipython-input-4-ea963e67a2c9>\u001b[0m in \u001b[0;36m<cell line: 1>\u001b[0;34m()\u001b[0m\n\u001b[0;32m----> 1\u001b[0;31m \u001b[0mthiset\u001b[0m\u001b[0;34m.\u001b[0m\u001b[0mremove\u001b[0m\u001b[0;34m(\u001b[0m\u001b[0;36m1\u001b[0m\u001b[0;34m)\u001b[0m\u001b[0;34m\u001b[0m\u001b[0;34m\u001b[0m\u001b[0m\n\u001b[0m",
            "\u001b[0;31mKeyError\u001b[0m: 1"
          ]
        }
      ],
      "source": [
        "thiset.remove(1)"
      ]
    },
    {
      "cell_type": "markdown",
      "metadata": {
        "id": "vGOCrK2BGkgc"
      },
      "source": [
        "#**sets**  : It is used to store multiple items in a single varaible\n",
        "\n",
        "#1 . It is unordered(order is not defined)\n",
        "#2. It is unchangable (once the set has been  created you cannot the sets but there are method to add or remove the items that is present in your sets)\n",
        "#3. A sets is a unindexed (it is not having any indeixing method)\n",
        "#4 . sets donot allow duplicated values\n",
        "\n",
        "# 5   sets is created using{}"
      ]
    },
    {
      "cell_type": "code",
      "execution_count": null,
      "metadata": {
        "colab": {
          "base_uri": "https://localhost:8080/"
        },
        "id": "OZ8P5TGjR8JD",
        "outputId": "7af5bfaa-33ac-452b-e65c-ea51795c847d"
      },
      "outputs": [
        {
          "name": "stdout",
          "output_type": "stream",
          "text": [
            "{'apple', 'True', 3, 'lion', 'cherry'}\n"
          ]
        }
      ],
      "source": [
        "set1 ={'apple','lion','cherry','True',3}\n",
        "print(set1)"
      ]
    },
    {
      "cell_type": "code",
      "execution_count": null,
      "metadata": {
        "colab": {
          "base_uri": "https://localhost:8080/"
        },
        "id": "FYeNXQ2zR-I0",
        "outputId": "c114543c-d699-4173-dec9-855d91c2ef6c"
      },
      "outputs": [
        {
          "name": "stdout",
          "output_type": "stream",
          "text": [
            "{False, 1, 2, 3, 4, 'xyz', 'true', 'abc'}\n"
          ]
        }
      ],
      "source": [
        "set1 ={\"true\",2,3,4,'abc','xyz',1,False}\n",
        "print(set1)"
      ]
    },
    {
      "cell_type": "code",
      "execution_count": null,
      "metadata": {
        "colab": {
          "base_uri": "https://localhost:8080/"
        },
        "id": "9EBFi0UHSA_b",
        "outputId": "131bb3df-3904-46ab-b206-6cf3d0469e7d"
      },
      "outputs": [
        {
          "name": "stdout",
          "output_type": "stream",
          "text": [
            "{0, 1, 2, 3, 4, 5, 6, 7, 8, 9, 10, 56}\n"
          ]
        }
      ],
      "source": [
        "set2 ={1,2,3,4,4,5,56,6,7,7,8,8,9,9,9,0,0,10}\n",
        "print(set2)"
      ]
    },
    {
      "cell_type": "code",
      "execution_count": null,
      "metadata": {
        "colab": {
          "base_uri": "https://localhost:8080/"
        },
        "id": "PyL61H-ZSDdk",
        "outputId": "3f777bd1-7454-401b-90ed-f404054e754c"
      },
      "outputs": [
        {
          "name": "stdout",
          "output_type": "stream",
          "text": [
            "{2, 4, 6, 7, 8, 9, 10}\n"
          ]
        }
      ],
      "source": [
        "set2 ={2,4,4,6,8,7,9,10}\n",
        "print(set2)"
      ]
    },
    {
      "cell_type": "code",
      "execution_count": null,
      "metadata": {
        "colab": {
          "base_uri": "https://localhost:8080/"
        },
        "id": "BwG-_uvOKEvz",
        "outputId": "6de7bab0-f9cf-4fdf-fe58-eb3d6a10e085"
      },
      "outputs": [
        {
          "name": "stdout",
          "output_type": "stream",
          "text": [
            "{False, True, 2, 3, 4, 'komal', 'liyra', 45}\n"
          ]
        }
      ],
      "source": [
        "set3 ={True,2,3,4,45,'komal','liyra',1,False,0}\n",
        "\n",
        "print(set3)"
      ]
    },
    {
      "cell_type": "code",
      "execution_count": null,
      "metadata": {
        "id": "esEYcLekLEg3"
      },
      "outputs": [],
      "source": [
        "# acessa item\n",
        "set2 ={1,1,34,455,5}"
      ]
    },
    {
      "cell_type": "code",
      "execution_count": null,
      "metadata": {
        "colab": {
          "base_uri": "https://localhost:8080/"
        },
        "id": "DLs1rQsyLZi8",
        "outputId": "555e8b0a-cecb-42ae-c495-0d3eab30b6d1"
      },
      "outputs": [
        {
          "name": "stdout",
          "output_type": "stream",
          "text": [
            "{1, 2, 'orange', 'kiran', 'yellow'}\n"
          ]
        }
      ],
      "source": [
        "#add item\n",
        "set1 ={1,2,'yellow','kiran'}\n",
        "set1.add(\"orange\")\n",
        "print(set1)"
      ]
    },
    {
      "cell_type": "code",
      "execution_count": null,
      "metadata": {
        "colab": {
          "base_uri": "https://localhost:8080/"
        },
        "id": "m035jq7PLuCp",
        "outputId": "656c5e19-72b3-4f51-f894-02a4fade3eb3"
      },
      "outputs": [
        {
          "name": "stdout",
          "output_type": "stream",
          "text": [
            "{1, 2, 3, 4, 556, 434, 'kiran', 'yellow'}\n",
            "{1, 2, 3, 4, 434, 556}\n"
          ]
        }
      ],
      "source": [
        "set1 ={1,2,'yellow','kiran'}\n",
        "\n",
        "set2 = {1,2,3,434,4,556}\n",
        "\n",
        "set1.update(set2)\n",
        "\n",
        "print(set1)\n",
        "\n",
        "print(set2)"
      ]
    },
    {
      "cell_type": "code",
      "execution_count": null,
      "metadata": {
        "colab": {
          "base_uri": "https://localhost:8080/",
          "height": 193
        },
        "id": "ojfzw4wbMBa3",
        "outputId": "e097f021-27ca-4c8f-dc1d-2b86a197bbbc"
      },
      "outputs": [
        {
          "ename": "AttributeError",
          "evalue": "'set' object has no attribute 'append'",
          "output_type": "error",
          "traceback": [
            "\u001b[0;31m---------------------------------------------------------------------------\u001b[0m",
            "\u001b[0;31mAttributeError\u001b[0m                            Traceback (most recent call last)",
            "\u001b[0;32m<ipython-input-15-c1888ea8a830>\u001b[0m in \u001b[0;36m<cell line: 3>\u001b[0;34m()\u001b[0m\n\u001b[1;32m      1\u001b[0m \u001b[0mset1\u001b[0m \u001b[0;34m=\u001b[0m\u001b[0;34m{\u001b[0m\u001b[0;36m1\u001b[0m\u001b[0;34m,\u001b[0m\u001b[0;36m2\u001b[0m\u001b[0;34m,\u001b[0m\u001b[0;34m'yellow'\u001b[0m\u001b[0;34m,\u001b[0m\u001b[0;34m'kiran'\u001b[0m\u001b[0;34m}\u001b[0m\u001b[0;34m\u001b[0m\u001b[0;34m\u001b[0m\u001b[0m\n\u001b[1;32m      2\u001b[0m \u001b[0;34m\u001b[0m\u001b[0m\n\u001b[0;32m----> 3\u001b[0;31m \u001b[0mset1\u001b[0m\u001b[0;34m.\u001b[0m\u001b[0mappend\u001b[0m\u001b[0;34m(\u001b[0m\u001b[0;34m'louo'\u001b[0m\u001b[0;34m)\u001b[0m\u001b[0;34m\u001b[0m\u001b[0;34m\u001b[0m\u001b[0m\n\u001b[0m\u001b[1;32m      4\u001b[0m \u001b[0mprint\u001b[0m\u001b[0;34m(\u001b[0m\u001b[0mset1\u001b[0m\u001b[0;34m)\u001b[0m\u001b[0;34m\u001b[0m\u001b[0;34m\u001b[0m\u001b[0m\n",
            "\u001b[0;31mAttributeError\u001b[0m: 'set' object has no attribute 'append'"
          ]
        }
      ],
      "source": [
        "\"\"\"set1 ={1,2,'yellow','kiran'}\n",
        "\n",
        "set1.append('louo')\n",
        "print(set1)\"\""
      ]
    },
    {
      "cell_type": "code",
      "execution_count": null,
      "metadata": {
        "colab": {
          "base_uri": "https://localhost:8080/"
        },
        "id": "kfuiXv_sMTBU",
        "outputId": "fbfcef9e-a7e7-48f0-8880-a051da468e4d"
      },
      "outputs": [
        {
          "name": "stdout",
          "output_type": "stream",
          "text": [
            "{1, 2, 'yellow'}\n"
          ]
        }
      ],
      "source": [
        "set1 ={1,2,'yellow','kiran'}\n",
        "\n",
        "set1.remove('kiran')\n",
        "print(set1)"
      ]
    },
    {
      "cell_type": "code",
      "execution_count": null,
      "metadata": {
        "colab": {
          "base_uri": "https://localhost:8080/"
        },
        "id": "siiVDkmSMjCW",
        "outputId": "39cfcd1d-fa7a-4aae-e4ef-ee1001816f2c"
      },
      "outputs": [
        {
          "name": "stdout",
          "output_type": "stream",
          "text": [
            "{1, 2, 3, 4, 5, 6, 7}\n"
          ]
        }
      ],
      "source": [
        "set1 ={1,2,3,4,5}\n",
        "set2 ={3,4,5,6,7}\n",
        "\n",
        "print(set1.union(set2))"
      ]
    },
    {
      "cell_type": "code",
      "execution_count": null,
      "metadata": {
        "colab": {
          "base_uri": "https://localhost:8080/"
        },
        "id": "m4urfqtNNKCX",
        "outputId": "48c3834d-1e63-4073-b95e-6ba7b73b5933"
      },
      "outputs": [
        {
          "name": "stdout",
          "output_type": "stream",
          "text": [
            "{3, 4, 5}\n"
          ]
        }
      ],
      "source": [
        "# common items\n",
        "set1 ={1,2,3,4,5}\n",
        "set2 ={3,4,5,6,7}\n",
        "print(set1.intersection(set2))"
      ]
    },
    {
      "cell_type": "code",
      "execution_count": null,
      "metadata": {
        "colab": {
          "base_uri": "https://localhost:8080/"
        },
        "id": "TK_u7iVEOo0c",
        "outputId": "af62309e-4eca-4da8-9a65-dc495a9b0789"
      },
      "outputs": [
        {
          "name": "stdout",
          "output_type": "stream",
          "text": [
            "{1, 2, 3, 4, 5, 6}\n"
          ]
        }
      ],
      "source": [
        "set1={1,2,3,4}\n",
        "set2={3, 4, 5,6}\n",
        "#print(set.union(set2))\n",
        "\n",
        "print(set1.union(set2))\n",
        "#print(set1)"
      ]
    },
    {
      "cell_type": "code",
      "execution_count": null,
      "metadata": {
        "colab": {
          "base_uri": "https://localhost:8080/",
          "height": 35
        },
        "id": "8s-Zk3pdOyNT",
        "outputId": "0c757513-9da0-441c-a26a-47cbbb735253"
      },
      "outputs": [
        {
          "data": {
            "application/vnd.google.colaboratory.intrinsic+json": {
              "type": "string"
            },
            "text/plain": [
              "'set1={1,2,3,4}\\nset2={3, 4, 5,6}\\nset3=set1+set2\\nprint(set3)'"
            ]
          },
          "execution_count": 25,
          "metadata": {},
          "output_type": "execute_result"
        }
      ],
      "source": [
        "\"\"\"set1={1,2,3,4}\n",
        "set2={3, 4, 5,6}\n",
        "set3=set1+set2\n",
        "print(set3)\"\"\""
      ]
    },
    {
      "cell_type": "code",
      "execution_count": null,
      "metadata": {
        "colab": {
          "base_uri": "https://localhost:8080/"
        },
        "id": "P4Ixha66PaT2",
        "outputId": "7f07a197-6fb3-45b9-aab3-40b67bf0aa56"
      },
      "outputs": [
        {
          "name": "stdout",
          "output_type": "stream",
          "text": [
            "{2, 3, 4, 5, 66, 78}\n"
          ]
        }
      ],
      "source": [
        "set1 ={1,2,3,4,5,66,78}\n",
        "set1.pop()\n",
        "print(set1)\n",
        "\n"
      ]
    },
    {
      "cell_type": "code",
      "execution_count": null,
      "metadata": {
        "colab": {
          "base_uri": "https://localhost:8080/"
        },
        "id": "l7kqPGaKPatS",
        "outputId": "db3c3c58-4506-4404-a1ac-b77b6a045fdb"
      },
      "outputs": [
        {
          "name": "stdout",
          "output_type": "stream",
          "text": [
            "set()\n"
          ]
        }
      ],
      "source": [
        "set1 ={1,2,3,4,5,66,78}\n",
        "\n",
        "set1.clear()\n",
        "print(set1)"
      ]
    },
    {
      "cell_type": "code",
      "execution_count": null,
      "metadata": {
        "colab": {
          "base_uri": "https://localhost:8080/",
          "height": 176
        },
        "id": "VcWYfeMTPbFq",
        "outputId": "dec5cd5b-e987-4373-afb6-55229121da92"
      },
      "outputs": [
        {
          "ename": "NameError",
          "evalue": "name 'set1' is not defined",
          "output_type": "error",
          "traceback": [
            "\u001b[0;31m---------------------------------------------------------------------------\u001b[0m",
            "\u001b[0;31mNameError\u001b[0m                                 Traceback (most recent call last)",
            "\u001b[0;32m<ipython-input-31-15305fc4edd0>\u001b[0m in \u001b[0;36m<cell line: 5>\u001b[0;34m()\u001b[0m\n\u001b[1;32m      3\u001b[0m \u001b[0;32mdel\u001b[0m \u001b[0mset1\u001b[0m\u001b[0;34m\u001b[0m\u001b[0;34m\u001b[0m\u001b[0m\n\u001b[1;32m      4\u001b[0m \u001b[0;34m\u001b[0m\u001b[0m\n\u001b[0;32m----> 5\u001b[0;31m \u001b[0mprint\u001b[0m\u001b[0;34m(\u001b[0m\u001b[0mset1\u001b[0m\u001b[0;34m)\u001b[0m\u001b[0;34m\u001b[0m\u001b[0;34m\u001b[0m\u001b[0m\n\u001b[0m",
            "\u001b[0;31mNameError\u001b[0m: name 'set1' is not defined"
          ]
        }
      ],
      "source": [
        "set1 ={1,2,3,4,5,66,78}\n",
        "\n",
        "del set1\n",
        "\n",
        "print(set1)\n"
      ]
    },
    {
      "cell_type": "code",
      "execution_count": null,
      "metadata": {
        "colab": {
          "base_uri": "https://localhost:8080/"
        },
        "id": "0cw116CFRSCP",
        "outputId": "9cb69925-d892-40c6-9ef7-5c7be6f3036e"
      },
      "outputs": [
        {
          "name": "stdout",
          "output_type": "stream",
          "text": [
            "set()\n"
          ]
        }
      ],
      "source": [
        "set5 ={1,2,3,4,5,66,90}\n",
        "set2 ={6,20,33,4,5,66,78}\n",
        "set3 ={6,20,33,89,90,7}\n",
        "\n",
        "\n",
        "set4=set5.intersection(set2,set3)\n",
        "print(set4)"
      ]
    },
    {
      "cell_type": "code",
      "execution_count": null,
      "metadata": {
        "colab": {
          "base_uri": "https://localhost:8080/"
        },
        "id": "pej_IjLnSGML",
        "outputId": "37472d9a-8ef6-48cc-c411-2b0a63d0af5a"
      },
      "outputs": [
        {
          "name": "stdout",
          "output_type": "stream",
          "text": [
            "{4, 5}\n"
          ]
        }
      ],
      "source": [
        "set1 ={1,2,3,4,5,66,90}\n",
        "set2 ={6,20,33,4,5,66,78}\n",
        "set3 ={6,20,33,89,90,7,4,5}\n",
        "\n",
        "\n",
        "set4=set1.intersection(set2,set3)\n",
        "print(set4)"
      ]
    },
    {
      "cell_type": "code",
      "execution_count": null,
      "metadata": {
        "colab": {
          "base_uri": "https://localhost:8080/"
        },
        "id": "YBnRb2DVSQeB",
        "outputId": "7447249e-1d1a-4de3-893c-e9c00f0bc970"
      },
      "outputs": [
        {
          "name": "stdout",
          "output_type": "stream",
          "text": [
            "{1, 2, 3, 4, 5, 66, 78}\n",
            "{0, 1, 2, 3, 4, 5, 6, 7, 8, 9, 10, 56}\n",
            "{24, 5, 700, 4}\n",
            "{0, 1, 2, 3, 4, 5, 66, 6, 7, 8, 9, 10, 78, 24, 56, 700}\n"
          ]
        }
      ],
      "source": [
        "set1={1,2,3,4,5,66,78}\n",
        "\n",
        "set2={1,2,3,4,4,5,56,6,7,7,8,9,9,9,0,0,10}\n",
        "\n",
        "set3={4,24,5,700}\n",
        "print(set1)\n",
        "print(set2)\n",
        "print(set3)\n",
        "\n",
        "set4=set1.union(set2,set3)\n",
        "print(set4)"
      ]
    },
    {
      "cell_type": "code",
      "execution_count": null,
      "metadata": {
        "colab": {
          "base_uri": "https://localhost:8080/"
        },
        "id": "tVktq8nLTaG9",
        "outputId": "247c55b2-0746-4400-df05-0251b8ddaa97"
      },
      "outputs": [
        {
          "name": "stdout",
          "output_type": "stream",
          "text": [
            "{5, 78}\n"
          ]
        }
      ],
      "source": [
        "set1={1,2,3,4,5,66,78}\n",
        "set2-{7,8,9,10,11,15,5,78}\n",
        "set3={90,89,45,77,5,78}\n",
        "set4=set1.intersection(set2,set3)\n",
        "print(set4)"
      ]
    },
    {
      "cell_type": "markdown",
      "metadata": {
        "id": "FI5v-_g4TwN9"
      },
      "source": [
        "#**Dictionary**"
      ]
    },
    {
      "cell_type": "code",
      "execution_count": null,
      "metadata": {
        "id": "5ziDs-IzTslz"
      },
      "outputs": [],
      "source": [
        "# a dictionary is used to store the data as a key -value pair\n",
        "\n"
      ]
    },
    {
      "cell_type": "code",
      "execution_count": null,
      "metadata": {
        "colab": {
          "base_uri": "https://localhost:8080/"
        },
        "id": "4kNL2iIdUpaF",
        "outputId": "f6908dd3-014c-4d95-a6f5-709698b2d5c7"
      },
      "outputs": [
        {
          "name": "stdout",
          "output_type": "stream",
          "text": [
            "{'name': 'roopneet', 'age': 32, 'gender': 'female'}\n"
          ]
        }
      ],
      "source": [
        "\n",
        "# duplicate keys are not allowed but the values should be duplicate\n",
        "dict1 ={\n",
        "    \"name\":\"roopneet\",\n",
        "    \"age\": 32,\n",
        "    \"gender\":\"female\"\n",
        "    }\n",
        "\n",
        "\n",
        "    # }\n",
        "\n",
        "print(dict1)"
      ]
    },
    {
      "cell_type": "code",
      "execution_count": null,
      "metadata": {
        "id": "dzvwKYTlVLz2"
      },
      "outputs": [],
      "source": [
        "# create a dictionary which is having key values   for some brands and their associated value"
      ]
    },
    {
      "cell_type": "code",
      "execution_count": null,
      "metadata": {
        "id": "qOANaS-BVvEI"
      },
      "outputs": [],
      "source": [
        "myDict = {\n",
        "    \"Name\" : \"Infosys\",\n",
        "    \"CEO\" : \"Sudha Murty\",\n",
        "    \"Net worth\" : 887693900,\n",
        "    \"Profit\" : 987\n",
        "}"
      ]
    },
    {
      "cell_type": "code",
      "execution_count": null,
      "metadata": {
        "colab": {
          "base_uri": "https://localhost:8080/"
        },
        "id": "EtpoDvMAVxj7",
        "outputId": "eed70b79-16aa-40f7-9b5d-e63be4530031"
      },
      "outputs": [
        {
          "name": "stdout",
          "output_type": "stream",
          "text": [
            "{'Gucci': 'bags', 'puma': 'shirts', 'Addidas': 'shoes'}\n"
          ]
        }
      ],
      "source": [
        "dict1 = {'Gucci':'bags','puma':'shirts','Addidas':'shoes'}\n",
        "print(dict1)"
      ]
    },
    {
      "cell_type": "code",
      "execution_count": null,
      "metadata": {
        "colab": {
          "base_uri": "https://localhost:8080/"
        },
        "id": "inIi4pSTWCFz",
        "outputId": "a7d86dc8-e906-44b9-c8cb-ca4ae9e190cb"
      },
      "outputs": [
        {
          "name": "stdout",
          "output_type": "stream",
          "text": [
            "{'brand': 'lambo', 'color': 'red', 'model': '2001'}\n"
          ]
        }
      ],
      "source": [
        "dict1 = {\n",
        "    \"brand\": \"lambo\",\n",
        "    \"color\": \"red\",\n",
        "    \"model\": \"2001\"\n",
        "}\n",
        "print(dict1)\n"
      ]
    },
    {
      "cell_type": "code",
      "execution_count": null,
      "metadata": {
        "colab": {
          "base_uri": "https://localhost:8080/"
        },
        "id": "VRlFI2r_WE_u",
        "outputId": "c5b1d445-755c-4453-fcaa-374f3d41eb1a"
      },
      "outputs": [
        {
          "name": "stdout",
          "output_type": "stream",
          "text": [
            "{'apple': 'iphone', 'samsung': 'galaxy', 'lg': 'tv'}\n"
          ]
        }
      ],
      "source": [
        "#create a dictionary which is having key values for some brands and their associated value\n",
        "dict2={\n",
        "    'apple':'iphone',\n",
        "    'samsung':'galaxy',\n",
        "    'lg':'tv'\n",
        "}\n",
        "print(dict2)\n",
        "#\n"
      ]
    },
    {
      "cell_type": "code",
      "execution_count": null,
      "metadata": {
        "colab": {
          "base_uri": "https://localhost:8080/"
        },
        "id": "_klWFt3VWGPh",
        "outputId": "b0734044-d2f2-4592-de9f-9ba110522fd7"
      },
      "outputs": [
        {
          "name": "stdout",
          "output_type": "stream",
          "text": [
            "galaxy\n"
          ]
        }
      ],
      "source": [
        "dict2={\n",
        "    'apple':'iphone',\n",
        "    'samsung':'galaxy',\n",
        "    'lg':'tv'\n",
        "}\n",
        "print(dict2['samsung'])"
      ]
    },
    {
      "cell_type": "code",
      "execution_count": null,
      "metadata": {
        "colab": {
          "base_uri": "https://localhost:8080/"
        },
        "id": "UoV-GOO3WR87",
        "outputId": "2be9181a-4a56-4315-e563-5f1a9e65556e"
      },
      "outputs": [
        {
          "name": "stdout",
          "output_type": "stream",
          "text": [
            "{'brand': 'ford', 'model': 'mustang', 'year': 1990}\n",
            "3\n"
          ]
        }
      ],
      "source": [
        "dict3 ={\n",
        "    \"brand\":\"ford\",\n",
        "    \"model\":\"mustang\",\n",
        "   \"year\":1977,\n",
        "   \"year\":1990\n",
        "\n",
        "}\n",
        "print(dict3)"
      ]
    },
    {
      "cell_type": "code",
      "execution_count": null,
      "metadata": {
        "colab": {
          "base_uri": "https://localhost:8080/"
        },
        "id": "GZyYhcoHXc7Z",
        "outputId": "a37f88a6-d6d6-4de5-9894-eba83eea315d"
      },
      "outputs": [
        {
          "name": "stdout",
          "output_type": "stream",
          "text": [
            "{'samsung': 'Galaxy', 'apple': 'iphone', 'Realme': 13}\n"
          ]
        }
      ],
      "source": [
        "dict3 = {\n",
        "       \"samsung\" : \"Galaxy\",\n",
        "       \"apple\": \"iphone\",\n",
        "       \"Realme\" : 13\n",
        "\n",
        "   }\n",
        "\n",
        "print(dict3)"
      ]
    },
    {
      "cell_type": "code",
      "execution_count": null,
      "metadata": {
        "id": "zWgtSNUjXPTX"
      },
      "outputs": [],
      "source": [
        "# create a dictionary that storing data  regarding any student record and then fetch the marks and percentage"
      ]
    },
    {
      "cell_type": "code",
      "execution_count": null,
      "metadata": {
        "colab": {
          "base_uri": "https://localhost:8080/"
        },
        "id": "lAmB8SBYYRBc",
        "outputId": "2720aa07-a431-4a5d-b222-1cc394839545"
      },
      "outputs": [
        {
          "name": "stdout",
          "output_type": "stream",
          "text": [
            "{'name': 'mohan', 'class': '12th Grade', 'marks': {'Math': 85, 'Science': 90, 'English': 78, 'History': 88, 'Physical Education': 92}}\n"
          ]
        }
      ],
      "source": [
        "dict3 = {\n",
        "    \"name\": \"mohan\",\n",
        "    \"class\": \"12th Grade\",\n",
        "    \"marks\": {\n",
        "        \"Math\": 85,\n",
        "        \"Science\": 90,\n",
        "        \"English\": 78,\n",
        "        \"History\": 88,\n",
        "        \"Physical Education\": 92\n",
        "    }\n",
        "}\n",
        "print(dict3)"
      ]
    },
    {
      "cell_type": "code",
      "execution_count": null,
      "metadata": {
        "colab": {
          "base_uri": "https://localhost:8080/"
        },
        "id": "cbeXdOc3Y1eG",
        "outputId": "4bf28ec9-d308-4bb9-e503-efe0407884cf"
      },
      "outputs": [
        {
          "name": "stdout",
          "output_type": "stream",
          "text": [
            "{'name': 'john', 'marks': '99', 'percentage': '99%'}\n",
            "99\n",
            "99%\n"
          ]
        }
      ],
      "source": [
        "dict1={\"name\":\"john\",\"marks\":\"99\",\"percentage\":\"99%\"}\n",
        "print(dict1)\n",
        "print(dict1[\"marks\"])\n",
        "print(dict1['percentage'])"
      ]
    },
    {
      "cell_type": "code",
      "execution_count": null,
      "metadata": {
        "colab": {
          "base_uri": "https://localhost:8080/"
        },
        "id": "z1B1R4IGY8WJ",
        "outputId": "6a52338d-cabf-4776-c17a-509fc6a5bb73"
      },
      "outputs": [
        {
          "name": "stdout",
          "output_type": "stream",
          "text": [
            "{'name': 'opiee', 'class': 'pyhton', 'marks': 34, 'percentage': '50%'}\n",
            "34\n",
            "50%\n",
            "34\n",
            "50%\n"
          ]
        }
      ],
      "source": [
        "# create a dictionary that storing data regarding anny student record and then fetch the marks and percentage\n",
        "\n",
        "stud_dict={\n",
        "      'name':'opiee',\n",
        "      'class':'pyhton',\n",
        "      'marks':34,\n",
        "      'percentage':'50%'\n",
        "}\n",
        "print(stud_dict)\n",
        "print(stud_dict['marks'])\n",
        "print(stud_dict['percentage'])\n",
        "#\n",
        "print(stud_dict['marks'])\n",
        "print(stud_dict['percentage'])\n",
        "#"
      ]
    },
    {
      "cell_type": "code",
      "execution_count": null,
      "metadata": {
        "colab": {
          "base_uri": "https://localhost:8080/"
        },
        "id": "00cGD_j8ZTEh",
        "outputId": "93cb16cb-79ac-44d5-ff12-edb76a49f5d0"
      },
      "outputs": [
        {
          "name": "stdout",
          "output_type": "stream",
          "text": [
            "50%\n",
            "34\n"
          ]
        }
      ],
      "source": [
        "stud_dict={\n",
        "      'name':'opiee',\n",
        "      'class':'pyhton',\n",
        "      'marks':34,\n",
        "      'percentage':'50%'\n",
        "}\n",
        "\n",
        "\n",
        "print(stud_dict.get('percentage'))\n",
        "\n",
        "print(stud_dict.get('marks'))"
      ]
    },
    {
      "cell_type": "code",
      "execution_count": null,
      "metadata": {
        "colab": {
          "base_uri": "https://localhost:8080/"
        },
        "id": "jr4wkuCIZmoT",
        "outputId": "f6d6e39b-78e9-4e5b-a561-97d11dc97606"
      },
      "outputs": [
        {
          "name": "stdout",
          "output_type": "stream",
          "text": [
            "dict_keys(['name', 'class', 'marks', 'percentage'])\n"
          ]
        }
      ],
      "source": [
        "stud_dict={\n",
        "      'name':'opiee',\n",
        "      'class':'pyhton',\n",
        "      'marks':34,\n",
        "      'percentage':'50%'\n",
        "}\n",
        "\n",
        "print(stud_dict.keys())"
      ]
    },
    {
      "cell_type": "code",
      "execution_count": null,
      "metadata": {
        "colab": {
          "base_uri": "https://localhost:8080/"
        },
        "id": "XPj0gkqEZybd",
        "outputId": "a1790a30-826b-439b-b258-5fb3c136fa98"
      },
      "outputs": [
        {
          "name": "stdout",
          "output_type": "stream",
          "text": [
            "dict_values(['opiee', 'pyhton', 34, '50%'])\n"
          ]
        }
      ],
      "source": [
        "stud_dict={\n",
        "      'name':'opiee',\n",
        "      'class':'pyhton',\n",
        "      'marks':34,\n",
        "      'percentage':'50%'\n",
        "}\n",
        "print(stud_dict.values())\n"
      ]
    },
    {
      "cell_type": "code",
      "execution_count": null,
      "metadata": {
        "colab": {
          "base_uri": "https://localhost:8080/"
        },
        "id": "gHV9tknTaAN_",
        "outputId": "069d22ff-c6e2-4183-b697-ff4fbae39e2e"
      },
      "outputs": [
        {
          "name": "stdout",
          "output_type": "stream",
          "text": [
            "dict_items([('name', 'opiee'), ('class', 'pyhton'), ('marks', 34), ('percentage', '50%')])\n"
          ]
        }
      ],
      "source": [
        "stud_dict={\n",
        "      'name':'opiee',\n",
        "      'class':'pyhton',\n",
        "      'marks':34,\n",
        "      'percentage':'50%'\n",
        "}\n",
        "\n",
        "print(stud_dict.items())"
      ]
    },
    {
      "cell_type": "code",
      "execution_count": null,
      "metadata": {
        "colab": {
          "base_uri": "https://localhost:8080/"
        },
        "id": "FyCN2unJfiDx",
        "outputId": "4f7855fa-da3f-4f12-8139-0c241a150a62"
      },
      "outputs": [
        {
          "name": "stdout",
          "output_type": "stream",
          "text": [
            "{'brand': 'ford', 'model': 'mustang', 'year': 1964, 'color': 'white'}\n"
          ]
        }
      ],
      "source": [
        "# new key value\n",
        "\n",
        "\n",
        "dict1 ={\n",
        "    \"brand\":\"ford\",\n",
        "    \"model\":\"mustang\",\n",
        "    \"year\":1964\n",
        "}\n",
        "\n",
        "\n",
        "dict1.update({\"color\":\"white\"})\n",
        "\n",
        "print(dict1)"
      ]
    },
    {
      "cell_type": "code",
      "execution_count": null,
      "metadata": {
        "colab": {
          "base_uri": "https://localhost:8080/"
        },
        "id": "j_BcxmNBf0CL",
        "outputId": "be490336-1550-4cf3-c1d1-0a1116af773e"
      },
      "outputs": [
        {
          "name": "stdout",
          "output_type": "stream",
          "text": [
            "{'color': 'black', 'model': 1990, 'speed': 788, 'hipe': '30km'}\n"
          ]
        }
      ],
      "source": [
        "dict2 ={\n",
        "    'color':'black',\n",
        "    'model':1990,\n",
        "    'speed':788\n",
        "}\n",
        "\n",
        "dict2['hipe'] ='30km'\n",
        "\n",
        "print(dict2)"
      ]
    },
    {
      "cell_type": "code",
      "execution_count": null,
      "metadata": {
        "colab": {
          "base_uri": "https://localhost:8080/"
        },
        "id": "zR_9AObQgKAU",
        "outputId": "bf7534a9-251f-4c1c-fb28-2090ef33cad6"
      },
      "outputs": [
        {
          "name": "stdout",
          "output_type": "stream",
          "text": [
            "{'cartoons': 'pogo tv', 'series': 'netflix'}\n"
          ]
        }
      ],
      "source": [
        "dict3 ={\n",
        "    'cartoons':'pogo tv',\n",
        "    'series':'netflix',\n",
        "    'ratings':'above 10+'\n",
        "}\n",
        "\n",
        "dict3.pop('ratings')\n",
        "\n",
        "print(dict3)\n",
        "\n",
        "\n",
        "\n"
      ]
    },
    {
      "cell_type": "code",
      "execution_count": null,
      "metadata": {
        "colab": {
          "base_uri": "https://localhost:8080/"
        },
        "id": "G4wEt4j2hK01",
        "outputId": "14ab5927-7c72-44c7-d386-620e436d7f13"
      },
      "outputs": [
        {
          "name": "stdout",
          "output_type": "stream",
          "text": [
            "{'cartoons': 'pogo tv', 'series': 'netflix'}\n"
          ]
        }
      ],
      "source": [
        "dict3 ={\n",
        "    'cartoons':'pogo tv',\n",
        "    'series':'netflix',\n",
        "    'ratings':'above 10+'\n",
        "}\n",
        "dict3.popitem()\n",
        "print(dict3)"
      ]
    },
    {
      "cell_type": "code",
      "execution_count": null,
      "metadata": {
        "colab": {
          "base_uri": "https://localhost:8080/"
        },
        "id": "5jLf2BzzhZlg",
        "outputId": "3b50aa30-49ae-4820-a875-7950b2d195e7"
      },
      "outputs": [
        {
          "name": "stdout",
          "output_type": "stream",
          "text": [
            "{}\n"
          ]
        }
      ],
      "source": [
        "dict3 ={\n",
        "    'cartoons':'pogo tv',\n",
        "    'series':'netflix',\n",
        "    'ratings':'above 10+'\n",
        "}\n",
        "dict3.clear()\n",
        "print(dict3)"
      ]
    },
    {
      "cell_type": "code",
      "execution_count": null,
      "metadata": {
        "colab": {
          "base_uri": "https://localhost:8080/",
          "height": 176
        },
        "id": "9YshQDn8hjNA",
        "outputId": "439b10b1-0062-438c-9e5c-cadf89cf37b5"
      },
      "outputs": [
        {
          "ename": "NameError",
          "evalue": "name 'dict3' is not defined",
          "output_type": "error",
          "traceback": [
            "\u001b[0;31m---------------------------------------------------------------------------\u001b[0m",
            "\u001b[0;31mNameError\u001b[0m                                 Traceback (most recent call last)",
            "\u001b[0;32m<ipython-input-75-c32acfef5a4e>\u001b[0m in \u001b[0;36m<cell line: 8>\u001b[0;34m()\u001b[0m\n\u001b[1;32m      6\u001b[0m \u001b[0;34m\u001b[0m\u001b[0m\n\u001b[1;32m      7\u001b[0m \u001b[0;32mdel\u001b[0m \u001b[0mdict3\u001b[0m\u001b[0;34m\u001b[0m\u001b[0;34m\u001b[0m\u001b[0m\n\u001b[0;32m----> 8\u001b[0;31m \u001b[0mprint\u001b[0m\u001b[0;34m(\u001b[0m\u001b[0mdict3\u001b[0m\u001b[0;34m)\u001b[0m\u001b[0;34m\u001b[0m\u001b[0;34m\u001b[0m\u001b[0m\n\u001b[0m",
            "\u001b[0;31mNameError\u001b[0m: name 'dict3' is not defined"
          ]
        }
      ],
      "source": [
        "dict3 ={\n",
        "    'cartoons':'pogo tv',\n",
        "    'series':'netflix',\n",
        "    'ratings':'above 10+'\n",
        "}\n",
        "\n",
        "del dict3\n",
        "print(dict3)"
      ]
    },
    {
      "cell_type": "code",
      "execution_count": null,
      "metadata": {
        "colab": {
          "base_uri": "https://localhost:8080/"
        },
        "id": "EJ3zMjh3i0a5",
        "outputId": "d825fe47-8306-41b7-de0a-97750b922088"
      },
      "outputs": [
        {
          "name": "stdout",
          "output_type": "stream",
          "text": [
            "{'cartoons': 'pogo tv', 'ratings': 'above 10+'}\n"
          ]
        }
      ],
      "source": [
        "dict3 ={\n",
        "    'cartoons':'pogo tv',\n",
        "    'series':'netflix',\n",
        "    'ratings':'above 10+'\n",
        "}\n",
        "\n",
        "del dict3['series']\n",
        "print(dict3)"
      ]
    },
    {
      "cell_type": "markdown",
      "metadata": {
        "id": "kNw9jfxBjFxT"
      },
      "source": [
        "**operators**"
      ]
    },
    {
      "cell_type": "code",
      "execution_count": null,
      "metadata": {
        "id": "jOOBljUZjI5e"
      },
      "outputs": [],
      "source": [
        "# operators are used to perform some operations on variables and values\n"
      ]
    },
    {
      "cell_type": "markdown",
      "metadata": {
        "id": "87mS2IfAjcBO"
      },
      "source": [
        "# **arthemetic** **operator** :"
      ]
    },
    {
      "cell_type": "code",
      "execution_count": null,
      "metadata": {
        "colab": {
          "base_uri": "https://localhost:8080/"
        },
        "id": "WRCxSOm0jfzr",
        "outputId": "16672ff1-95be-4a33-be9e-60db33686e5c"
      },
      "outputs": [
        {
          "name": "stdout",
          "output_type": "stream",
          "text": [
            "30\n",
            "-10\n",
            "200\n",
            "0.5\n",
            "0\n",
            "10\n",
            "0\n"
          ]
        }
      ],
      "source": [
        "a = 10\n",
        "b = 20\n",
        "print(a+b)\n",
        "print(a-b)\n",
        "print(a*b)\n",
        "  print(a/b)\n",
        "print(a//b) # floor division   # quotient\n",
        "print(a%b)   # modulus\n",
        "\n",
        "print(a//b)   # remove the decimal part and provide only integer output"
      ]
    },
    {
      "cell_type": "code",
      "execution_count": null,
      "metadata": {
        "colab": {
          "base_uri": "https://localhost:8080/"
        },
        "id": "A_t4LDEmlfSR",
        "outputId": "9a500415-c210-42f3-d4f8-03cc4781720f"
      },
      "outputs": [
        {
          "name": "stdout",
          "output_type": "stream",
          "text": [
            "10\n"
          ]
        }
      ],
      "source": [
        "# assignment operator\n",
        "\n",
        "# it is used to assign values to  variable\n",
        "\n",
        "a = 10\n",
        "print(a)"
      ]
    },
    {
      "cell_type": "code",
      "execution_count": null,
      "metadata": {
        "colab": {
          "base_uri": "https://localhost:8080/"
        },
        "id": "2ZSrBfDvlpdj",
        "outputId": "8e51fb88-18e5-4df9-9c44-70e7b8e6e7fe"
      },
      "outputs": [
        {
          "name": "stdout",
          "output_type": "stream",
          "text": [
            "8\n"
          ]
        }
      ],
      "source": [
        "# addition assignment\n",
        "\n",
        "x = 5\n",
        "x += 3    #  x = x+3\n",
        "print(x)\n",
        "\n",
        "\n"
      ]
    },
    {
      "cell_type": "code",
      "execution_count": null,
      "metadata": {
        "colab": {
          "base_uri": "https://localhost:8080/"
        },
        "id": "TGooqghSl-vn",
        "outputId": "e72a4e78-01a2-431f-dad8-c98f1eab03ce"
      },
      "outputs": [
        {
          "name": "stdout",
          "output_type": "stream",
          "text": [
            "2\n"
          ]
        }
      ],
      "source": [
        "# substraction assignment\n",
        "\n",
        "\n",
        "x = 10\n",
        "x -= 8\n",
        "print(x)"
      ]
    },
    {
      "cell_type": "code",
      "execution_count": null,
      "metadata": {
        "id": "S5hEXSEymIvY"
      },
      "outputs": [],
      "source": [
        "# perform division , modulus and  floor division\n"
      ]
    },
    {
      "cell_type": "code",
      "execution_count": null,
      "metadata": {
        "colab": {
          "base_uri": "https://localhost:8080/"
        },
        "id": "g279m8dJm0io",
        "outputId": "c8da844c-d9f8-4bd4-8448-e9a3b6ea54c5"
      },
      "outputs": [
        {
          "name": "stdout",
          "output_type": "stream",
          "text": [
            "-1.25\n"
          ]
        }
      ],
      "source": [
        "a= 10\n",
        "b = -8\n",
        "a /= b\n",
        "print(a)\n"
      ]
    },
    {
      "cell_type": "code",
      "execution_count": null,
      "metadata": {
        "colab": {
          "base_uri": "https://localhost:8080/"
        },
        "id": "txEhBmv-muyy",
        "outputId": "e104ecf0-d137-40c9-d8a0-7d7b9d2306a8"
      },
      "outputs": [
        {
          "name": "stdout",
          "output_type": "stream",
          "text": [
            "-1.25\n",
            "-2\n",
            "2\n"
          ]
        }
      ],
      "source": [
        "a = 10\n",
        "b = -8\n",
        "print(a/b)\n",
        "print(a//b)\n",
        "print(a+b)"
      ]
    },
    {
      "cell_type": "code",
      "execution_count": null,
      "metadata": {
        "colab": {
          "base_uri": "https://localhost:8080/"
        },
        "id": "ocaBW9ucnBeU",
        "outputId": "6260a2ed-7dd3-4c4b-b89b-bd9d8486461a"
      },
      "outputs": [
        {
          "name": "stdout",
          "output_type": "stream",
          "text": [
            "Division: 3.75\n",
            "Modulus: 3\n",
            "Floor Division: 3\n"
          ]
        }
      ],
      "source": [
        "a = 15\n",
        "b = 4\n",
        "\n",
        "division = a / b\n",
        "modulus = a % b          # Modulus (remainder)\n",
        "floor_division = a // b\n",
        "\n",
        "print(f\"Division: {division}\")\n",
        "print(f\"Modulus: {modulus}\")\n",
        "print(f\"Floor Division: {floor_division}\")"
      ]
    },
    {
      "cell_type": "markdown",
      "metadata": {
        "id": "LAFInd3tjb83"
      },
      "source": []
    },
    {
      "cell_type": "code",
      "execution_count": null,
      "metadata": {
        "colab": {
          "base_uri": "https://localhost:8080/"
        },
        "id": "eIMs8XiunSI3",
        "outputId": "b97d14e4-18d8-4831-9014-736dc6a22c0f"
      },
      "outputs": [
        {
          "name": "stdout",
          "output_type": "stream",
          "text": [
            "-1.25\n",
            "-6\n",
            "1\n"
          ]
        }
      ],
      "source": [
        "a = 10\n",
        "b = -8\n",
        "a /= b\n",
        "print(a)\n",
        "a = 10\n",
        "a %= b\n",
        "print(a)\n",
        "a = 10\n",
        "a //= 10\n",
        "print(a)"
      ]
    },
    {
      "cell_type": "markdown",
      "metadata": {
        "id": "pSkVwJLenbwo"
      },
      "source": [
        "# **Comparison** **operator**"
      ]
    },
    {
      "cell_type": "code",
      "execution_count": null,
      "metadata": {
        "colab": {
          "base_uri": "https://localhost:8080/"
        },
        "id": "L_wHBu-YngXA",
        "outputId": "9a11a392-079d-4d82-aa5d-f9ed9580098d"
      },
      "outputs": [
        {
          "name": "stdout",
          "output_type": "stream",
          "text": [
            "False\n"
          ]
        }
      ],
      "source": [
        "x = 10\n",
        "y = 20\n",
        "\n",
        "\n",
        "print(x == y)\n",
        "\n"
      ]
    },
    {
      "cell_type": "code",
      "execution_count": null,
      "metadata": {
        "colab": {
          "base_uri": "https://localhost:8080/"
        },
        "id": "bo71eOsCnsJL",
        "outputId": "5d627726-f5ae-43e0-d490-614400bd0721"
      },
      "outputs": [
        {
          "name": "stdout",
          "output_type": "stream",
          "text": [
            "False\n"
          ]
        }
      ],
      "source": [
        "#\n",
        "x = 20\n",
        "y = 20\n",
        "\n",
        "print(x != y)"
      ]
    },
    {
      "cell_type": "code",
      "execution_count": null,
      "metadata": {
        "colab": {
          "base_uri": "https://localhost:8080/"
        },
        "id": "HVlatyQ4n12I",
        "outputId": "47afe2cb-ee5a-4bfc-97cb-a62c2ee7c533"
      },
      "outputs": [
        {
          "name": "stdout",
          "output_type": "stream",
          "text": [
            "True\n"
          ]
        }
      ],
      "source": [
        "print(x <= y)"
      ]
    },
    {
      "cell_type": "markdown",
      "metadata": {
        "id": "lHg5Ku1GoPE4"
      },
      "source": [
        "# **logical** **operator**"
      ]
    },
    {
      "cell_type": "code",
      "execution_count": null,
      "metadata": {
        "id": "iNaebQTYoWRG"
      },
      "outputs": [],
      "source": [
        "# AND\n",
        "# OR\n",
        "# NOT"
      ]
    },
    {
      "cell_type": "code",
      "execution_count": null,
      "metadata": {
        "id": "EWL26BepoZGA"
      },
      "outputs": [],
      "source": [
        "1 CONDITION AND 1 CONDITION   # AND  will give output as true when both the condition are true otherwise it will give false\n",
        "2. Condition1 or condition 2   # or will give output as true if any of the condition is true other wise if both the conditions are false\n",
        "# only you will get output as false\n",
        "\n",
        "3 not Condition1 and condition 2  #  it is used to reverse the output"
      ]
    },
    {
      "cell_type": "code",
      "execution_count": null,
      "metadata": {
        "colab": {
          "base_uri": "https://localhost:8080/"
        },
        "id": "T8OEuVA7psxv",
        "outputId": "f0f1b97e-c780-41f3-c0b0-1e0be1714ccb"
      },
      "outputs": [
        {
          "name": "stdout",
          "output_type": "stream",
          "text": [
            "False\n"
          ]
        }
      ],
      "source": [
        "x = 5\n",
        "\n",
        "print(x>3 and x<10)"
      ]
    },
    {
      "cell_type": "code",
      "execution_count": null,
      "metadata": {
        "colab": {
          "base_uri": "https://localhost:8080/"
        },
        "id": "7hPj3k51qaay",
        "outputId": "28813bfc-4148-49ca-8321-eeab95316843"
      },
      "outputs": [
        {
          "name": "stdout",
          "output_type": "stream",
          "text": [
            "True\n"
          ]
        }
      ],
      "source": [
        "x  = 10\n",
        "print(x>20 or  x<20)"
      ]
    },
    {
      "cell_type": "code",
      "execution_count": null,
      "metadata": {
        "colab": {
          "base_uri": "https://localhost:8080/"
        },
        "id": "zTs_v2BkqnE0",
        "outputId": "cae1ac76-db3d-4688-a44e-523181d0769a"
      },
      "outputs": [
        {
          "name": "stdout",
          "output_type": "stream",
          "text": [
            "False\n"
          ]
        }
      ],
      "source": [
        " x  = 10\n",
        "print(not(x>20 or  x<20))"
      ]
    },
    {
      "cell_type": "markdown",
      "metadata": {
        "id": "xyCesZLVQZVD"
      },
      "source": [
        "# Membership operator"
      ]
    },
    {
      "cell_type": "markdown",
      "metadata": {
        "id": "MEPURVObSJ5n"
      },
      "source": [
        "# to Check wheather a particular item in present in sequence or not"
      ]
    },
    {
      "cell_type": "code",
      "execution_count": null,
      "metadata": {
        "id": "2S45q5BYQzdw"
      },
      "outputs": [],
      "source": [
        "# IN   # to check an item is present  or not"
      ]
    },
    {
      "cell_type": "code",
      "execution_count": null,
      "metadata": {
        "id": "lPG-sqkwRTjp"
      },
      "outputs": [],
      "source": [
        "# NOT IN   # to check wheather an item is not present in sequence"
      ]
    },
    {
      "cell_type": "code",
      "execution_count": null,
      "metadata": {
        "colab": {
          "base_uri": "https://localhost:8080/"
        },
        "id": "7Gyh7e9QQY9t",
        "outputId": "fc4afba4-f3a9-45c3-b1bf-9b5aa4b36360"
      },
      "outputs": [
        {
          "name": "stdout",
          "output_type": "stream",
          "text": [
            "True\n"
          ]
        }
      ],
      "source": [
        "list1 =[1,2,3,4,5,'oefo']\n",
        "print(1  in list1)"
      ]
    },
    {
      "cell_type": "code",
      "execution_count": null,
      "metadata": {
        "colab": {
          "base_uri": "https://localhost:8080/"
        },
        "id": "wl0SWFwnQ4Hl",
        "outputId": "5990d93f-b11b-400d-b1eb-cb7f1d147674"
      },
      "outputs": [
        {
          "name": "stdout",
          "output_type": "stream",
          "text": [
            "False\n"
          ]
        }
      ],
      "source": [
        "list2 =['jihdi','ydi','hello']\n",
        "\n",
        "print('hello' not in list2)"
      ]
    },
    {
      "cell_type": "markdown",
      "metadata": {
        "id": "I_yJMib4Sacc"
      },
      "source": [
        "# conditional statements\n",
        "\n",
        "# if statement"
      ]
    },
    {
      "cell_type": "code",
      "execution_count": null,
      "metadata": {
        "id": "x3LocW14Tiox"
      },
      "outputs": [],
      "source": [
        "# if statement will work only if you condition is true  otherwise you wont be able to get any output"
      ]
    },
    {
      "cell_type": "code",
      "execution_count": null,
      "metadata": {
        "id": "8y7zz9YFSlix"
      },
      "outputs": [],
      "source": [
        "a = 10\n",
        "b = 30\n",
        "\n",
        "if a>b:\n",
        "\n",
        "  print('yes , your number is greater')\n",
        "\n"
      ]
    },
    {
      "cell_type": "code",
      "execution_count": null,
      "metadata": {
        "colab": {
          "base_uri": "https://localhost:8080/"
        },
        "id": "Fdtds5PwTtrQ",
        "outputId": "2e545aad-a13b-4609-ce5a-459783c92c54"
      },
      "outputs": [
        {
          "name": "stdout",
          "output_type": "stream",
          "text": [
            "enter the first number5\n",
            "enter the second number3\n",
            "<class 'int'>\n",
            "you condition is true\n"
          ]
        }
      ],
      "source": [
        "a = int(input('enter the first number'))\n",
        "b = int(input('enter the second number'))\n",
        "\n",
        "\n",
        "\n",
        "\n",
        "\n",
        "if a>b:\n",
        "  print(\"you condition is true\")\n"
      ]
    },
    {
      "cell_type": "markdown",
      "metadata": {
        "id": "YYM52ACzR2Ay"
      },
      "source": []
    },
    {
      "cell_type": "code",
      "execution_count": null,
      "metadata": {
        "id": "xg0tdYnlW8tG"
      },
      "outputs": [],
      "source": [
        "# ask the user to enter the age , check wheather the age is greater than equal to 18 , if condition is true then you have to pass the statement that\n",
        "# you are willing to vote"
      ]
    },
    {
      "cell_type": "code",
      "execution_count": null,
      "metadata": {
        "colab": {
          "base_uri": "https://localhost:8080/"
        },
        "id": "Iqqj6sVwX0Yz",
        "outputId": "e3853184-98ad-427a-9ed5-af2266219bb4"
      },
      "outputs": [
        {
          "name": "stdout",
          "output_type": "stream",
          "text": [
            "enter the age78\n",
            "yes allowed to vote\n"
          ]
        }
      ],
      "source": [
        "a=int(input(\"enter the age\"))\n",
        "\n",
        "\n",
        "if a>18:\n",
        "    print('yes allowed to vote')\n",
        "if a<18:\n",
        "    print(\"not allowed to vote\")"
      ]
    },
    {
      "cell_type": "code",
      "execution_count": null,
      "metadata": {
        "colab": {
          "base_uri": "https://localhost:8080/"
        },
        "id": "aibTuGRJX9bT",
        "outputId": "a66b0749-09a5-4001-b6d3-b638a3b9c198"
      },
      "outputs": [
        {
          "name": "stdout",
          "output_type": "stream",
          "text": [
            "You are eligible to vote.\n"
          ]
        }
      ],
      "source": [
        "age = 18\n",
        "\n",
        "if age >= 18:\n",
        "    print(\"You are eligible to vote.\")"
      ]
    },
    {
      "cell_type": "code",
      "execution_count": null,
      "metadata": {
        "colab": {
          "base_uri": "https://localhost:8080/"
        },
        "id": "jhlRPJyYYBUA",
        "outputId": "d7414f6e-cb52-4f9d-e8a6-b7fd367bfb93"
      },
      "outputs": [
        {
          "name": "stdout",
          "output_type": "stream",
          "text": [
            "enter your age:76\n",
            "you can vote\n"
          ]
        }
      ],
      "source": [
        "a=int(input('enter your age:'))\n",
        "if a>=18:\n",
        "  print('you can vote')"
      ]
    },
    {
      "cell_type": "code",
      "execution_count": null,
      "metadata": {
        "colab": {
          "base_uri": "https://localhost:8080/"
        },
        "id": "wfXbE18dYEwu",
        "outputId": "234cbd63-087e-4ea8-dfb2-ccb51d6303b4"
      },
      "outputs": [
        {
          "name": "stdout",
          "output_type": "stream",
          "text": [
            "please enter your age:54\n",
            "You can vote\n"
          ]
        }
      ],
      "source": [
        "Age=int(input(\"please enter your age:\"))\n",
        "if Age>18:\n",
        "    print(\"You can vote\")\n",
        "else:\n",
        "    print(\"You cannot vote\")\n"
      ]
    },
    {
      "cell_type": "code",
      "execution_count": null,
      "metadata": {
        "colab": {
          "base_uri": "https://localhost:8080/"
        },
        "id": "SEkDjDWIYLnI",
        "outputId": "f00567ee-edb4-4bb7-a094-721c9fa20b97"
      },
      "outputs": [
        {
          "name": "stdout",
          "output_type": "stream",
          "text": [
            "Enter the age: 55\n",
            "Would you like to vote? (Yes/No): no\n",
            "Thanks for your choice!\n"
          ]
        }
      ],
      "source": [
        "age = int(input(\"Enter the age: \"))\n",
        "if age >= 18:\n",
        "  choice = input(\"Would you like to vote? (Yes/No): \")\n",
        "  if choice.lower() == \"yes\":\n",
        "       print(\"Congratulations! You can vote now!\")\n",
        "  else:\n",
        "      print(\"Thanks for your choice!\")\n",
        "else:\n",
        "    print(\"You are ineligible to vote!\")"
      ]
    },
    {
      "cell_type": "code",
      "execution_count": null,
      "metadata": {
        "colab": {
          "base_uri": "https://localhost:8080/"
        },
        "id": "4gc5VIhAYhZf",
        "outputId": "03e96acb-8032-469d-9ac8-b49a97c15a88"
      },
      "outputs": [
        {
          "name": "stdout",
          "output_type": "stream",
          "text": [
            "Enter Age54\n",
            "You are willing to vote\n"
          ]
        }
      ],
      "source": [
        "age = int(input('Enter Age'))\n",
        "if age >= 18:\n",
        "  print('You are willing to vote')\n",
        "else:\n",
        "  print('You are not eligible to vote')\n"
      ]
    },
    {
      "cell_type": "code",
      "execution_count": null,
      "metadata": {
        "colab": {
          "base_uri": "https://localhost:8080/"
        },
        "id": "7dQ6Qn9sYqPI",
        "outputId": "056df778-be55-4bde-a40e-328c716f9887"
      },
      "outputs": [
        {
          "name": "stdout",
          "output_type": "stream",
          "text": [
            "enter the age of the person:  4\n",
            "<class 'int'>\n",
            "person is not eligible to vote\n",
            "end\n"
          ]
        }
      ],
      "source": [
        "# exercise 1 - opiee / om\n",
        "\n",
        "age = int(input('enter the age of the person:  '))\n",
        "\n",
        "print(type(age))\n",
        "if age >= 18:\n",
        "  print('person is eligible to vote')\n",
        "else:\n",
        "  print('person is not eligible to vote')\n",
        "\n",
        "print('end'  )"
      ]
    },
    {
      "cell_type": "markdown",
      "metadata": {
        "id": "8Nq8D7LRZVoV"
      },
      "source": [
        "#**else** **statement**"
      ]
    },
    {
      "cell_type": "code",
      "execution_count": null,
      "metadata": {
        "colab": {
          "base_uri": "https://localhost:8080/"
        },
        "id": "k1B0c9hhYvHC",
        "outputId": "de354719-c768-4621-b34f-9742a2a434fe"
      },
      "outputs": [
        {
          "name": "stdout",
          "output_type": "stream",
          "text": [
            "enter the age: 3\n",
            "you are not eligible to vote\n"
          ]
        }
      ],
      "source": [
        "age = int(input(\"enter the age: \"))\n",
        "\n",
        "\n",
        "if age >= 18:\n",
        "    print(\"you are willing to vote\")\n",
        "\n",
        "else:  # when your condition will become false this else part will work and provide the output\n",
        "  print(\"you are not eligible to vote\")\n"
      ]
    },
    {
      "cell_type": "markdown",
      "metadata": {
        "id": "Dxlx7FZEZar8"
      },
      "source": [
        "# even or not"
      ]
    },
    {
      "cell_type": "code",
      "execution_count": null,
      "metadata": {
        "colab": {
          "base_uri": "https://localhost:8080/"
        },
        "id": "Nsnw1fTTZY9B",
        "outputId": "6082d31c-137d-4dab-fa88-0b6bba1f5b09"
      },
      "outputs": [
        {
          "output_type": "stream",
          "name": "stdout",
          "text": [
            "enter any number13\n",
            "number is not even\n"
          ]
        }
      ],
      "source": [
        "num = int(input(\"enter any number\"))\n",
        "\n",
        "\n",
        "if num % 2 == 0:\n",
        "  print(\"yes the number is even\")\n",
        "\n",
        "else:\n",
        "  print(\"number is not even\")"
      ]
    },
    {
      "cell_type": "markdown",
      "metadata": {
        "id": "_wDIipJMZ768"
      },
      "source": [
        "elif : else if\n",
        "To check multiple conditions"
      ]
    },
    {
      "cell_type": "code",
      "execution_count": null,
      "metadata": {
        "colab": {
          "base_uri": "https://localhost:8080/"
        },
        "id": "RH-n0-J5Z7eV",
        "outputId": "28d65a53-4778-462d-a87a-04d3d168fb0c"
      },
      "outputs": [
        {
          "name": "stdout",
          "output_type": "stream",
          "text": [
            "enter the your marks 78\n",
            "you got grade B\n"
          ]
        }
      ],
      "source": [
        "marks = int(input(\"enter the your marks \"))\n",
        "\n",
        "if marks >= 90:\n",
        "  print(\"congraculation you got Grade A\")\n",
        "\n",
        "elif marks >= 75:\n",
        "  print(\"you got grade B\")\n",
        "\n",
        "elif marks >= 65:\n",
        "  print(\"you got grade C\")\n",
        "\n",
        "\n",
        "\n",
        "else:\n",
        "\n",
        "  print(\"you got less marks , you have to again reappear for the exam\")"
      ]
    },
    {
      "cell_type": "code",
      "execution_count": null,
      "metadata": {
        "id": "bhdGA-35a8jT"
      },
      "outputs": [],
      "source": [
        "# ask the user to enter temperature and if temperature is greater than 30 , print its very  hot , again check temperature is greater 25 then\n",
        "# its moderate and similar  way put one more condition to just give the information about temperature"
      ]
    },
    {
      "cell_type": "code",
      "execution_count": null,
      "metadata": {
        "colab": {
          "base_uri": "https://localhost:8080/"
        },
        "id": "QK_SErMScKdK",
        "outputId": "e9e628af-63be-4576-90b7-04cafb17d2a6"
      },
      "outputs": [
        {
          "name": "stdout",
          "output_type": "stream",
          "text": [
            "enter the temperature:  26\n",
            "its very cold\n",
            "end of code\n"
          ]
        }
      ],
      "source": [
        "# ask the user to enter the temperatur, check if temp is greater than 30 then say its very hot and\n",
        "# if temperatur is less than 25 then say it is very cold and between temperature, say it is normal room temperature\n",
        "\n",
        "temp = int(input('enter the temperature:  '))\n",
        "\n",
        "if temp > 30:\n",
        "  print('its very hot')\n",
        "elif  30 >temp>24:\n",
        "  print('its very cold')\n",
        "else:\n",
        "  print('its normal room temperature')\n",
        "\n",
        "print('end of code')"
      ]
    },
    {
      "cell_type": "code",
      "execution_count": null,
      "metadata": {
        "colab": {
          "base_uri": "https://localhost:8080/"
        },
        "id": "srOwbzrmcRfd",
        "outputId": "fabb2c16-cca5-4119-f812-e484c17fe438"
      },
      "outputs": [
        {
          "name": "stdout",
          "output_type": "stream",
          "text": [
            "Please enter the temperature in Celsius: 23\n",
            "The temperature is cool.\n"
          ]
        }
      ],
      "source": [
        "temperature = float(input(\"Please enter the temperature in Celsius: \"))\n",
        "\n",
        "if temperature > 30:\n",
        "    print(\"It's very hot.\")\n",
        "elif temperature > 25:\n",
        "    print(\"It's moderate.\")\n",
        "else:\n",
        "    print(\"The temperature is cool.\")"
      ]
    },
    {
      "cell_type": "code",
      "execution_count": null,
      "metadata": {
        "colab": {
          "base_uri": "https://localhost:8080/"
        },
        "id": "jmyvTSyudSd2",
        "outputId": "ca5c3c50-de04-4a6d-a759-c7e7462530d3"
      },
      "outputs": [
        {
          "name": "stdout",
          "output_type": "stream",
          "text": [
            "overweight\n"
          ]
        }
      ],
      "source": [
        "bmi = 28.0\n",
        "\n",
        "if bmi <18.5:\n",
        "  print(\"underweight\")\n",
        "elif  18.4<=bmi<24.9:\n",
        "  print(\"normal weight\")\n",
        "\n",
        "elif  25<=bmi<29.9:\n",
        "  print(\"overweight\")\n",
        "\n",
        "\n",
        "else:\n",
        "  print(\"obsesity\")"
      ]
    },
    {
      "cell_type": "code",
      "execution_count": null,
      "metadata": {
        "colab": {
          "base_uri": "https://localhost:8080/"
        },
        "id": "eKYeM0wmeMby",
        "outputId": "66440aa9-45cf-489a-f412-d878f6a1cc5c"
      },
      "outputs": [
        {
          "name": "stdout",
          "output_type": "stream",
          "text": [
            "Enter a number: 34\n",
            "34 is positive...\n",
            "...34 is also even.\n"
          ]
        }
      ],
      "source": [
        "# create a program to check a number is postive and even\n",
        "\n",
        "num = int(input(\"Enter a number: \"))\n",
        "if num>0:\n",
        "    print(\"{} is positive...\".format(num))\n",
        "    if num%2 == 0:\n",
        "        print(\"...{} is also even.\".format(num))\n",
        "    else:\n",
        "        print(\"...but {} is not even.\".format(num))\n",
        "else:\n",
        "    print(\"{} is negative or 0.\".format(num))"
      ]
    },
    {
      "cell_type": "code",
      "execution_count": null,
      "metadata": {
        "colab": {
          "base_uri": "https://localhost:8080/"
        },
        "id": "9jTvyg_AfmKH",
        "outputId": "4071ea46-2adf-4dab-fa66-1f69becf3e4e"
      },
      "outputs": [
        {
          "name": "stdout",
          "output_type": "stream",
          "text": [
            "enter the number : 45\n",
            "number is even\n"
          ]
        }
      ],
      "source": [
        "num = int(input(\"enter the number : \"))\n",
        "\n",
        "if num % 2 == 0:\n",
        "    print(\"number is positive\")\n",
        "\n",
        "else:\n",
        "    print(\"number is even\")"
      ]
    },
    {
      "cell_type": "code",
      "execution_count": null,
      "metadata": {
        "colab": {
          "base_uri": "https://localhost:8080/"
        },
        "id": "LpIWzrtZfwI8",
        "outputId": "5add2199-c1b7-4af0-d5b9-86886f416784"
      },
      "outputs": [
        {
          "name": "stdout",
          "output_type": "stream",
          "text": [
            "Enter a number:34\n",
            "Positive and even.\n"
          ]
        }
      ],
      "source": [
        "number = int(input(\"Enter a number:\"))\n",
        "if number > 0:\n",
        "    if number % 2 == 0:\n",
        "        print(\"Positive and even.\")\n",
        "    else:\n",
        "        print(\"Positive but not even.\")\n",
        "else:\n",
        "    print(\"Not positive.\")"
      ]
    },
    {
      "cell_type": "code",
      "execution_count": null,
      "metadata": {
        "colab": {
          "base_uri": "https://localhost:8080/"
        },
        "id": "9uavnQE4f0-M",
        "outputId": "9fbd67b0-91d0-4c0b-dcb6-0603e8566720"
      },
      "outputs": [
        {
          "name": "stdout",
          "output_type": "stream",
          "text": [
            "Enter a number: 4\n",
            "4 is positive and even.\n"
          ]
        }
      ],
      "source": [
        "n = int(input(\"Enter a number: \"))\n",
        "\n",
        "# Check if the number is positive and even\n",
        "if n > 0 and n % 2 == 0:\n",
        "    print(f\"{n} is positive and even.\")\n",
        "elif n > 0:\n",
        "    print(f\"{n} is positive but not even.\")\n",
        "else:\n",
        "    print(f\"{n} is not positive.\")\n"
      ]
    },
    {
      "cell_type": "code",
      "execution_count": null,
      "metadata": {
        "colab": {
          "base_uri": "https://localhost:8080/"
        },
        "id": "AutQ2Vowf6p1",
        "outputId": "6366c838-6061-4db0-acac-166c49ca1005"
      },
      "outputs": [
        {
          "name": "stdout",
          "output_type": "stream",
          "text": [
            "enter the number:  3\n",
            "number is positive\n",
            "number is odd\n",
            "end of code\n"
          ]
        }
      ],
      "source": [
        "#take a number and check if it is postive or negative and then if positive check if it is even or not\n",
        "#cody by om/opiee\n",
        "num1 = int(input('enter the number:  '))\n",
        "\n",
        "if num1 > 0:\n",
        "  print('number is positive')\n",
        "  if num1 % 2 == 0:\n",
        "    print('number is even')\n",
        "  else:\n",
        "    print('number is odd')\n",
        "\n",
        "elif num1 < 0:\n",
        "  print('number is negative')\n",
        "else :\n",
        "  print('number is zero')\n",
        "\n",
        "print('end of code')"
      ]
    },
    {
      "cell_type": "code",
      "execution_count": null,
      "metadata": {
        "colab": {
          "base_uri": "https://localhost:8080/"
        },
        "id": "drABy8SLgAlH",
        "outputId": "5b6f891a-6350-4b0d-d8aa-48a9d4d07cb5"
      },
      "outputs": [
        {
          "name": "stdout",
          "output_type": "stream",
          "text": [
            "Enter a number65\n",
            "Number is positive\n",
            "Number is ODD\n"
          ]
        }
      ],
      "source": [
        "Num = int(input(\"Enter a number\"))\n",
        "if Num>0 :\n",
        "   print(\"Number is positive\")\n",
        "   if Num%2==0 :\n",
        "      print(\"Number is Even\")\n",
        "   else :\n",
        "      print(\"Number is ODD\")\n",
        "\n",
        "else :\n",
        "    print(\"Number is negative\")"
      ]
    },
    {
      "cell_type": "code",
      "execution_count": null,
      "metadata": {
        "colab": {
          "base_uri": "https://localhost:8080/"
        },
        "id": "Ffx_W29bgQlx",
        "outputId": "d8c22371-0486-41f9-cd28-76c42e73837b"
      },
      "outputs": [
        {
          "name": "stdout",
          "output_type": "stream",
          "text": [
            "Enter the number:5\n",
            "Positve\n"
          ]
        }
      ],
      "source": [
        "num=int(input(\"Enter the number:\"))\n",
        "if num>0:\n",
        "    print(\"Positve\")\n",
        "elif num%2==0:\n",
        "    print(\"Even\")\n",
        "else:\n",
        "    print(\"Neither positive nor even\")"
      ]
    },
    {
      "cell_type": "code",
      "execution_count": null,
      "metadata": {
        "id": "fLMrFutShZGI"
      },
      "outputs": [],
      "source": [
        "check the number is postive  and even nmber"
      ]
    },
    {
      "cell_type": "code",
      "execution_count": null,
      "metadata": {
        "colab": {
          "base_uri": "https://localhost:8080/"
        },
        "id": "QosQ6_30gwtM",
        "outputId": "a3281aa2-e5b8-4a08-ad3e-0af623e20065"
      },
      "outputs": [
        {
          "name": "stdout",
          "output_type": "stream",
          "text": [
            "enter the number : 6\n",
            "number is positive and even\n"
          ]
        }
      ],
      "source": [
        "num = int(input(\"enter the number : \"))\n",
        "\n",
        "if num>0 and  num%2 ==0:\n",
        "  print(\"number is positive and even\")\n",
        "\n",
        "\n",
        "else:\n",
        "  print(\" your condition is false\")\n"
      ]
    },
    {
      "cell_type": "code",
      "execution_count": null,
      "metadata": {
        "colab": {
          "base_uri": "https://localhost:8080/"
        },
        "id": "Yb_lGNX1hose",
        "outputId": "49401b9f-bead-4f94-82cf-69cf59620086"
      },
      "outputs": [
        {
          "name": "stdout",
          "output_type": "stream",
          "text": [
            "Enter any number 6\n",
            " Number is postive and even\n"
          ]
        }
      ],
      "source": [
        "\n",
        "\n",
        "# create a program to check a number is positive and even\n",
        "\n",
        "num = int(input( 'Enter any number '))\n",
        "\n",
        "if num >0 and num%2==0 :\n",
        "  print(' Number is postive and even')\n",
        "else:\n",
        "  print ('Input again')"
      ]
    },
    {
      "cell_type": "markdown",
      "metadata": {
        "id": "5fbkY2SOpMBw"
      },
      "source": [
        "# **Looping** **statments**"
      ]
    },
    {
      "cell_type": "code",
      "execution_count": null,
      "metadata": {
        "id": "LNXCzGXWpLXG"
      },
      "outputs": [],
      "source": [
        "# for loop\n",
        "# while loop"
      ]
    },
    {
      "cell_type": "code",
      "execution_count": null,
      "metadata": {
        "id": "PUtYt5LIrshV"
      },
      "outputs": [],
      "source": [
        "for variable in sequence or range():\n"
      ]
    },
    {
      "cell_type": "code",
      "execution_count": null,
      "metadata": {
        "colab": {
          "base_uri": "https://localhost:8080/"
        },
        "id": "RCImE0vzp9rO",
        "outputId": "5f7d4ec8-f44e-4c5a-ee42-95ff68b57ed5"
      },
      "outputs": [
        {
          "name": "stdout",
          "output_type": "stream",
          "text": [
            "apple\n",
            "banana\n",
            "orange\n",
            "pineapple\n"
          ]
        }
      ],
      "source": [
        "fruits =['apple','banana','orange','pineapple']\n",
        "\n",
        "\n",
        "for var in fruits:\n",
        "  print(var)"
      ]
    },
    {
      "cell_type": "code",
      "execution_count": null,
      "metadata": {
        "colab": {
          "base_uri": "https://localhost:8080/"
        },
        "id": "L2XTGN3IqRN6",
        "outputId": "1467d7b1-ee68-45e6-d155-35284d4d44c1"
      },
      "outputs": [
        {
          "name": "stdout",
          "output_type": "stream",
          "text": [
            "h\n",
            "e\n",
            "l\n",
            "l\n",
            "o\n"
          ]
        }
      ],
      "source": [
        "x =\"hello\"\n",
        "\n",
        "for i in x:\n",
        "  print(i)"
      ]
    },
    {
      "cell_type": "code",
      "execution_count": null,
      "metadata": {
        "colab": {
          "base_uri": "https://localhost:8080/"
        },
        "id": "3j-3jqgZq5M2",
        "outputId": "0aae4198-404e-43e4-f4a1-8e2d7d70a953"
      },
      "outputs": [
        {
          "name": "stdout",
          "output_type": "stream",
          "text": [
            "1\n",
            "2\n",
            "3\n",
            "4\n",
            "5\n"
          ]
        }
      ],
      "source": [
        "# range\n",
        "\n",
        "\n",
        "for i in range(1,5+1):      # for x in range(start value : end value+1)\n",
        "  print(i)"
      ]
    },
    {
      "cell_type": "code",
      "execution_count": null,
      "metadata": {
        "colab": {
          "base_uri": "https://localhost:8080/"
        },
        "id": "p2MKpurUrJGP",
        "outputId": "250751dd-be6b-493c-f40f-4a9e84b6581e"
      },
      "outputs": [
        {
          "name": "stdout",
          "output_type": "stream",
          "text": [
            "1\n",
            "2\n",
            "3\n",
            "4\n",
            "5\n",
            "6\n",
            "7\n",
            "8\n",
            "9\n",
            "10\n",
            "11\n",
            "12\n",
            "13\n",
            "14\n",
            "15\n",
            "16\n",
            "17\n",
            "18\n",
            "19\n",
            "20\n",
            "21\n",
            "22\n",
            "23\n",
            "24\n",
            "25\n",
            "26\n",
            "27\n",
            "28\n",
            "29\n",
            "30\n",
            "31\n",
            "32\n",
            "33\n",
            "34\n",
            "35\n",
            "36\n",
            "37\n",
            "38\n",
            "39\n",
            "40\n",
            "41\n",
            "42\n",
            "43\n",
            "44\n",
            "45\n",
            "46\n",
            "47\n",
            "48\n",
            "49\n",
            "50\n",
            "51\n",
            "52\n",
            "53\n",
            "54\n",
            "55\n",
            "56\n",
            "57\n",
            "58\n",
            "59\n",
            "60\n",
            "61\n",
            "62\n",
            "63\n",
            "64\n",
            "65\n",
            "66\n",
            "67\n",
            "68\n",
            "69\n",
            "70\n",
            "71\n",
            "72\n",
            "73\n",
            "74\n",
            "75\n",
            "76\n",
            "77\n",
            "78\n",
            "79\n",
            "80\n",
            "81\n",
            "82\n",
            "83\n",
            "84\n",
            "85\n",
            "86\n",
            "87\n",
            "88\n",
            "89\n",
            "90\n",
            "91\n",
            "92\n",
            "93\n",
            "94\n",
            "95\n",
            "96\n",
            "97\n",
            "98\n",
            "99\n",
            "100\n"
          ]
        }
      ],
      "source": [
        "for x  in range(1,101):\n",
        "  print(x)"
      ]
    },
    {
      "cell_type": "code",
      "execution_count": null,
      "metadata": {
        "id": "vT3HjQwSraBC"
      },
      "outputs": [],
      "source": [
        "#  create a list which is storing integer value in that list you  have to fetch only even numbers"
      ]
    },
    {
      "cell_type": "code",
      "execution_count": null,
      "metadata": {
        "colab": {
          "base_uri": "https://localhost:8080/"
        },
        "id": "95EcSg6ItGeP",
        "outputId": "5373e6f0-b203-40df-ba28-c9acc07eb604"
      },
      "outputs": [
        {
          "name": "stdout",
          "output_type": "stream",
          "text": [
            "Even numbers: [12, 8, 24, 6, 20]\n"
          ]
        }
      ],
      "source": [
        "numbers = [12, 5, 8, 17, 24, 9, 6, 13, 20]\n",
        "even_numbers = [num for num in numbers if num % 2 == 0]\n",
        "print(\"Even numbers:\", even_numbers)"
      ]
    },
    {
      "cell_type": "code",
      "execution_count": null,
      "metadata": {
        "colab": {
          "base_uri": "https://localhost:8080/"
        },
        "id": "YfpcXjTvtKt2",
        "outputId": "06804508-8ce9-453e-9b93-ac70466995ea"
      },
      "outputs": [
        {
          "name": "stdout",
          "output_type": "stream",
          "text": [
            "2 number is even\n",
            "4 number is even\n",
            "6 number is even\n",
            "8 number is even\n",
            "10 number is even\n",
            "12 number is even\n",
            "14 number is even\n",
            "16 number is even\n",
            "18 number is even\n"
          ]
        }
      ],
      "source": [
        "list1=[1,2,3,4,6,8,10,12,14,16,18]\n",
        "for i in list1:\n",
        "  if i%2==0:\n",
        "    print(i,\"number is even\")"
      ]
    },
    {
      "cell_type": "code",
      "execution_count": null,
      "metadata": {
        "colab": {
          "base_uri": "https://localhost:8080/"
        },
        "id": "sptsQ4TntOLs",
        "outputId": "d14aab79-7139-4f0b-abfa-d3f4e81bd565"
      },
      "outputs": [
        {
          "name": "stdout",
          "output_type": "stream",
          "text": [
            "Enter some numbers seperated by commas (like 1,2,3): 1,2,3,4,5\n",
            "1 is an odd number\n",
            "2 is an evem number\n",
            "3 is an odd number\n",
            "4 is an evem number\n",
            "5 is an odd number\n"
          ]
        }
      ],
      "source": [
        "nums = [int(i) for i in input(\"Enter some numbers seperated by commas (like 1,2,3): \").split(',')]\n",
        "for i in nums:\n",
        "    if i%2 == 0:\n",
        "        print(\"{} is an evem number\".format(i))\n",
        "    else:\n",
        "        print(\"{} is an odd number\".format(i))"
      ]
    },
    {
      "cell_type": "code",
      "execution_count": null,
      "metadata": {
        "colab": {
          "base_uri": "https://localhost:8080/"
        },
        "id": "VFWqMvs-ufzL",
        "outputId": "7364395c-1f72-4555-b758-2437eb7c5835"
      },
      "outputs": [
        {
          "name": "stdout",
          "output_type": "stream",
          "text": [
            "Enter any number 6\n",
            "0\n",
            "2\n",
            "4\n"
          ]
        }
      ],
      "source": [
        "i = int(input(\"Enter any number \"))\n",
        "\n",
        "for x in range(i):\n",
        "  if x%2==0:\n",
        "    print(x)\n",
        "\n"
      ]
    },
    {
      "cell_type": "code",
      "execution_count": null,
      "metadata": {
        "colab": {
          "base_uri": "https://localhost:8080/"
        },
        "id": "c0v8ypy7vE6C",
        "outputId": "9790b274-4d3a-465c-e0c7-9d3c79ce0205"
      },
      "outputs": [
        {
          "name": "stdout",
          "output_type": "stream",
          "text": [
            "1\n",
            "3\n",
            "5\n",
            "7\n"
          ]
        }
      ],
      "source": [
        "numbers =[1,2,3,4,5,6,7,8]\n",
        "\n",
        "for num  in numbers:\n",
        "  if num %2 != 0:\n",
        "    print(num)\n",
        "\n"
      ]
    },
    {
      "cell_type": "markdown",
      "metadata": {
        "id": "V5o6407-vBHc"
      },
      "source": [
        "# **while** **loop**"
      ]
    },
    {
      "cell_type": "code",
      "execution_count": null,
      "metadata": {
        "colab": {
          "base_uri": "https://localhost:8080/"
        },
        "id": "puCEHTAfvA95",
        "outputId": "19e3d52a-5c56-43ad-8289-9d5838df48ac"
      },
      "outputs": [
        {
          "name": "stdout",
          "output_type": "stream",
          "text": [
            "1\n",
            "2\n",
            "3\n",
            "4\n",
            "5\n",
            "6\n"
          ]
        }
      ],
      "source": [
        "i =1\n",
        "while i<=6:\n",
        "  print(i)\n",
        "  i+=1"
      ]
    },
    {
      "cell_type": "code",
      "execution_count": null,
      "metadata": {
        "colab": {
          "base_uri": "https://localhost:8080/"
        },
        "id": "-Pm6o_BJwYpl",
        "outputId": "ab34dd5d-df8a-478d-996f-d8e10c4b631f"
      },
      "outputs": [
        {
          "name": "stdout",
          "output_type": "stream",
          "text": [
            "2\n",
            "3\n",
            "4\n",
            "5\n",
            "6\n",
            "7\n",
            "8\n",
            "9\n",
            "10\n",
            "11\n",
            "12\n",
            "13\n",
            "14\n",
            "15\n",
            "16\n",
            "17\n",
            "18\n",
            "19\n",
            "20\n"
          ]
        }
      ],
      "source": [
        "i = 2\n",
        "while i <= 20:\n",
        "  print(i)\n",
        "  i+=1"
      ]
    },
    {
      "cell_type": "code",
      "execution_count": null,
      "metadata": {
        "colab": {
          "base_uri": "https://localhost:8080/"
        },
        "id": "sz9_hRF3wttE",
        "outputId": "bf11aa5b-0599-455a-a83a-19f1903026bf"
      },
      "outputs": [
        {
          "name": "stdout",
          "output_type": "stream",
          "text": [
            "0 hello\n",
            "1 hello\n",
            "2 hello\n",
            "3 hello\n",
            "4 hello\n"
          ]
        }
      ],
      "source": [
        "i = 0\n",
        "while i<=4:\n",
        "  print(i,\"hello\")\n",
        "  i+=1"
      ]
    },
    {
      "cell_type": "code",
      "execution_count": null,
      "metadata": {
        "colab": {
          "base_uri": "https://localhost:8080/"
        },
        "id": "WEYAZ_6k1NhN",
        "outputId": "a843f50d-a980-4de3-eb96-8f7191cd9747"
      },
      "outputs": [
        {
          "name": "stdout",
          "output_type": "stream",
          "text": [
            "Enter the currnet password:   hiew\n",
            "Enter the currnet password:   hihef\n",
            "Enter the currnet password:   hihfewf\n",
            "account locked\n",
            "acess granted\n",
            "end of code\n"
          ]
        }
      ],
      "source": [
        "#add attempt count to above and once it is 3 times, then lock the account\n",
        "\n",
        "correct_password = \"python\"\n",
        "password = ' '\n",
        "attempt_count = 0\n",
        "while (password != correct_password):\n",
        "    password = input('Enter the currnet password:   ')\n",
        "    attempt_count += 1\n",
        "    if attempt_count == 3:\n",
        "      print('account locked')\n",
        "      break\n",
        "print('acess granted')\n",
        "print('end of code')"
      ]
    },
    {
      "cell_type": "code",
      "execution_count": null,
      "metadata": {
        "colab": {
          "background_save": true,
          "base_uri": "https://localhost:8080/"
        },
        "id": "mzPQFhENjN0Z",
        "outputId": "c109f83c-94a4-4961-bcb6-b1ed0b8bc3f6"
      },
      "outputs": [
        {
          "name": "stdout",
          "output_type": "stream",
          "text": [
            "access denied\n"
          ]
        }
      ],
      "source": [
        "\n",
        "correct_password = \"python\"\n",
        "\n",
        "password = \" \"\n",
        "\n",
        "while password != correct_password:\n",
        "    password = input(\"enter correct_password\") # indented this line of code\n",
        "    if password == correct_password:\n",
        "        print(\"access granted\")\n",
        "    else:\n",
        "        print(\"access denied\")"
      ]
    },
    {
      "cell_type": "markdown",
      "source": [
        "# fUNCTIONS :  it  is a resuable block of code that is being repeated multiple times whenever you are  going to call it"
      ],
      "metadata": {
        "id": "uVSrNWk_JJGv"
      }
    },
    {
      "cell_type": "code",
      "source": [
        "# write once and  run many times\n",
        "def my_function():\n",
        "  print(\"hello from function\")\n",
        "\n",
        "my_function()\n",
        "my_function()\n",
        "\n",
        "my_function()\n"
      ],
      "metadata": {
        "id": "v9edagFC2npF",
        "colab": {
          "base_uri": "https://localhost:8080/"
        },
        "outputId": "33bb5a5b-970c-4333-8f02-11f848b29c65"
      },
      "execution_count": null,
      "outputs": [
        {
          "output_type": "stream",
          "name": "stdout",
          "text": [
            "hello from function\n",
            "hello from function\n",
            "hello from function\n"
          ]
        }
      ]
    },
    {
      "cell_type": "code",
      "source": [
        "def print_date():\n",
        "  print(\"today's date is 05-10-2024\")\n",
        "\n",
        "print_date()\n",
        "print_date()"
      ],
      "metadata": {
        "id": "PbO-BoTs2nl3",
        "colab": {
          "base_uri": "https://localhost:8080/"
        },
        "outputId": "aca2985b-82cd-46d1-a663-22ad4005f3bf"
      },
      "execution_count": null,
      "outputs": [
        {
          "output_type": "stream",
          "name": "stdout",
          "text": [
            "today's date is 05-10-2024\n",
            "today's date is 05-10-2024\n"
          ]
        }
      ]
    },
    {
      "cell_type": "code",
      "source": [
        "def my_function():\n",
        "  print(\"hello from function\")\n",
        "\n",
        "my_function()"
      ],
      "metadata": {
        "colab": {
          "base_uri": "https://localhost:8080/"
        },
        "id": "XBaVQzvlLqQ5",
        "outputId": "9e47c74f-7b57-47e6-b0f6-2e4ec01535bd"
      },
      "execution_count": null,
      "outputs": [
        {
          "output_type": "stream",
          "name": "stdout",
          "text": [
            "hello from function\n"
          ]
        }
      ]
    },
    {
      "cell_type": "code",
      "source": [
        "#  create a fuction which will print good evening"
      ],
      "metadata": {
        "id": "ay8iHj-v2niO"
      },
      "execution_count": null,
      "outputs": []
    },
    {
      "cell_type": "code",
      "source": [
        "# Function\n",
        "# from opiee/om\n",
        "\n",
        "# create a function which will print good evening\n",
        "\n",
        "def greet():\n",
        "  print('good evening')\n",
        "\n",
        "greet()"
      ],
      "metadata": {
        "id": "A9OBwE8e2neO",
        "colab": {
          "base_uri": "https://localhost:8080/"
        },
        "outputId": "ecd057cb-dee2-46e7-c9db-dba3b2a913ce"
      },
      "execution_count": null,
      "outputs": [
        {
          "output_type": "stream",
          "name": "stdout",
          "text": [
            "good evening\n"
          ]
        }
      ]
    },
    {
      "cell_type": "code",
      "source": [
        "def my_func():\n",
        "    print(\"Good Evening\")\n",
        "my_func()"
      ],
      "metadata": {
        "id": "cjMpnPG72naf",
        "colab": {
          "base_uri": "https://localhost:8080/"
        },
        "outputId": "40a568c1-614d-4abd-8506-2e71e15e0eed"
      },
      "execution_count": null,
      "outputs": [
        {
          "output_type": "stream",
          "name": "stdout",
          "text": [
            "Good Evening\n"
          ]
        }
      ]
    },
    {
      "cell_type": "code",
      "source": [
        "def good_evening(name=\"Someone\"):\n",
        "    return f\"Good evening {name}!\"\n",
        "print(good_evening(name=\"Amrit\"))"
      ],
      "metadata": {
        "id": "h4O4sHrS2nW2",
        "colab": {
          "base_uri": "https://localhost:8080/"
        },
        "outputId": "a76fde16-a3f1-4c69-b870-a9ed60bd900d"
      },
      "execution_count": null,
      "outputs": [
        {
          "output_type": "stream",
          "name": "stdout",
          "text": [
            "Good evening Amrit!\n"
          ]
        }
      ]
    },
    {
      "cell_type": "code",
      "source": [
        "def morning_call():\n",
        "  print(\"good evening\")\n",
        "\n",
        "morning_call()"
      ],
      "metadata": {
        "id": "9T1f4Q4-2nSW",
        "colab": {
          "base_uri": "https://localhost:8080/"
        },
        "outputId": "649d128b-2996-43db-872f-1d39cfdae111"
      },
      "execution_count": null,
      "outputs": [
        {
          "output_type": "stream",
          "name": "stdout",
          "text": [
            "good evening\n"
          ]
        }
      ]
    },
    {
      "cell_type": "markdown",
      "source": [
        "# argument :   information that is being passed to your function"
      ],
      "metadata": {
        "id": "kGppJJAkMCpU"
      }
    },
    {
      "cell_type": "code",
      "source": [
        "def my(name, rollno):\n",
        "\n",
        "  print(name, rollno)\n",
        "\n",
        "\n",
        "\n",
        "my(\"om\",99)\n",
        "my(\"riya\",7)"
      ],
      "metadata": {
        "colab": {
          "base_uri": "https://localhost:8080/"
        },
        "id": "1l9ZGgzuMMpT",
        "outputId": "5b9edb97-6dd0-441d-9dd8-75c3c527927f"
      },
      "execution_count": null,
      "outputs": [
        {
          "output_type": "stream",
          "name": "stdout",
          "text": [
            "om 99\n",
            "riya 7\n"
          ]
        }
      ]
    },
    {
      "cell_type": "code",
      "source": [
        "# create a  function which will calculate the area of rectange\n",
        "\n",
        "\n",
        "area = l*w\n",
        "\n",
        "\n"
      ],
      "metadata": {
        "id": "Di0Xj7HYMtji"
      },
      "execution_count": null,
      "outputs": []
    },
    {
      "cell_type": "code",
      "source": [
        "def area (l,b):\n",
        "    print(l*b)\n",
        "area(5,5)\n",
        "\n"
      ],
      "metadata": {
        "colab": {
          "base_uri": "https://localhost:8080/"
        },
        "id": "bDQGAQjTNjNr",
        "outputId": "98af6feb-011b-4188-ee90-c0d044b7e9ff"
      },
      "execution_count": null,
      "outputs": [
        {
          "output_type": "stream",
          "name": "stdout",
          "text": [
            "25\n"
          ]
        }
      ]
    },
    {
      "cell_type": "code",
      "source": [
        "def area(length=20,breadth=25):\n",
        "    return length * breadth\n",
        "print(area(int(input(\"Enter length: \")), int(input(\"Enter breadth: \"))))"
      ],
      "metadata": {
        "colab": {
          "base_uri": "https://localhost:8080/"
        },
        "id": "g2qWZU06NtTo",
        "outputId": "13465aa1-0509-4b2a-8b79-8355128cd475"
      },
      "execution_count": null,
      "outputs": [
        {
          "output_type": "stream",
          "name": "stdout",
          "text": [
            "Enter length: 6\n",
            "Enter breadth: 45\n",
            "270\n"
          ]
        }
      ]
    },
    {
      "cell_type": "code",
      "source": [
        "# f-string\n",
        "\n",
        "name = \"huhg\"\n",
        "age = 56\n",
        "\n",
        "greeting = f\"hello , my name is {name} and age is{age}\"\n",
        "print(greeting)\n",
        "\n"
      ],
      "metadata": {
        "colab": {
          "base_uri": "https://localhost:8080/"
        },
        "id": "udB9JMMCN0Re",
        "outputId": "278e2cac-6d02-4c80-afdd-7c7181a91890"
      },
      "execution_count": null,
      "outputs": [
        {
          "output_type": "stream",
          "name": "stdout",
          "text": [
            "hello , my name is huhg and age is56\n"
          ]
        }
      ]
    },
    {
      "cell_type": "code",
      "source": [
        "# function without return\n",
        "\n",
        "def add_number(a,b):\n",
        "   result = a+b\n",
        "   print(result)\n",
        "\n",
        "\n",
        "print(add_number(12,34))\n",
        "print(add_number(12,34))\n"
      ],
      "metadata": {
        "colab": {
          "base_uri": "https://localhost:8080/"
        },
        "id": "G_ZftHjqO9mH",
        "outputId": "43c19434-4d0f-459d-e58b-eba64e754389"
      },
      "execution_count": null,
      "outputs": [
        {
          "output_type": "stream",
          "name": "stdout",
          "text": [
            "46\n",
            "None\n",
            "46\n",
            "None\n"
          ]
        }
      ]
    },
    {
      "cell_type": "code",
      "source": [
        "# function with return\n",
        "\n",
        "def add_number(a,b):\n",
        " result = a+b\n",
        " return result\n",
        "\n",
        "add_number(12,34)\n",
        "\n",
        "print(add_number(12,34))"
      ],
      "metadata": {
        "colab": {
          "base_uri": "https://localhost:8080/"
        },
        "id": "fCLyGMNrPdN9",
        "outputId": "54fdec54-2303-498a-8d56-e0fd63a3d0ea"
      },
      "execution_count": null,
      "outputs": [
        {
          "output_type": "stream",
          "name": "stdout",
          "text": [
            "46\n"
          ]
        }
      ]
    },
    {
      "cell_type": "code",
      "source": [
        "def greet(name):\n",
        "  result = f'good evening {name}'\n",
        "  return result\n",
        "  #print('good evening', name)\n",
        "\n",
        "print(greet('om'))\n",
        "\n",
        "print(greet ('roopneet'))\n",
        "greet ('welcome to october')\n",
        "\n",
        "greet('om')\n",
        "\n",
        "greet ('roopneet')\n",
        "greet ('welcome to october')"
      ],
      "metadata": {
        "colab": {
          "base_uri": "https://localhost:8080/",
          "height": 70
        },
        "id": "Tr6TVcmiQRKP",
        "outputId": "9fa7baac-697d-4c02-bcb5-f0553e835141"
      },
      "execution_count": null,
      "outputs": [
        {
          "output_type": "stream",
          "name": "stdout",
          "text": [
            "good evening om\n",
            "good evening roopneet\n"
          ]
        },
        {
          "output_type": "execute_result",
          "data": {
            "text/plain": [
              "'good evening welcome to october'"
            ],
            "application/vnd.google.colaboratory.intrinsic+json": {
              "type": "string"
            }
          },
          "metadata": {},
          "execution_count": 30
        }
      ]
    },
    {
      "cell_type": "code",
      "source": [
        "# create a  function which will return  multiplication of 3 numeber"
      ],
      "metadata": {
        "id": "PTWfgkSJQlqe"
      },
      "execution_count": null,
      "outputs": []
    },
    {
      "cell_type": "code",
      "source": [
        "#create a function which will return multiplication of 3 number\n",
        "#code by om/opiee\n",
        "\n",
        "def multi3(a,b,c):\n",
        "  result = a*b*c\n",
        "  return result\n",
        "\n",
        "print(multi3(1,2,3))\n",
        "print(multi3(2,3,4))\n",
        "print(multi3(3,4,5))"
      ],
      "metadata": {
        "colab": {
          "base_uri": "https://localhost:8080/"
        },
        "id": "dm6DX_VPRPPp",
        "outputId": "82077b49-b947-4153-f0bd-0f5c2667377c"
      },
      "execution_count": null,
      "outputs": [
        {
          "output_type": "stream",
          "name": "stdout",
          "text": [
            "6\n",
            "24\n",
            "60\n"
          ]
        }
      ]
    },
    {
      "cell_type": "code",
      "source": [
        "def mul(a,b,c):\n",
        "  return a*b*c\n",
        "print(mul(2,3,4))"
      ],
      "metadata": {
        "colab": {
          "base_uri": "https://localhost:8080/"
        },
        "id": "q2RXVULfRTqA",
        "outputId": "e3753628-e890-46a0-ff43-7a48e75acaa2"
      },
      "execution_count": null,
      "outputs": [
        {
          "output_type": "stream",
          "name": "stdout",
          "text": [
            "24\n"
          ]
        }
      ]
    },
    {
      "cell_type": "code",
      "source": [
        "# arbitary arguments   :   while calling the function  you can provide n numbers of values\n",
        "\n",
        "\n",
        "\n",
        "def family_members(*members):\n",
        "  return members\n",
        "\n",
        "print(family_members(\"alice\",\"riva\",\"udit\",\"kiw\",\"iyf\",\"ufef\",\"uug\",\"u8ugi\",\"hiugi\"))"
      ],
      "metadata": {
        "colab": {
          "base_uri": "https://localhost:8080/"
        },
        "id": "2HT_RyYYRVOq",
        "outputId": "05a3f9a9-b2f1-4a0a-a861-f65cea9576a2"
      },
      "execution_count": null,
      "outputs": [
        {
          "output_type": "stream",
          "name": "stdout",
          "text": [
            "('alice', 'riva', 'udit', 'kiw', 'iyf', 'ufef', 'uug', 'u8ugi', 'hiugi')\n"
          ]
        }
      ]
    },
    {
      "cell_type": "code",
      "source": [
        "# create a function  which take kids as a arbitary argument and  while  calling the function print only  2 second child"
      ],
      "metadata": {
        "id": "ArawIIFcSwfJ"
      },
      "execution_count": null,
      "outputs": []
    },
    {
      "cell_type": "code",
      "source": [
        "# create a function which take kids as a arbitary argument\n",
        "# while calling the function print only 2 second chiled\n",
        "# code by om/opiee\n",
        "\n",
        "def kids_name(*names):\n",
        "  print(names[2-1])\n",
        "\n",
        "kids_name('om','roopneet','sri','raja')"
      ],
      "metadata": {
        "colab": {
          "base_uri": "https://localhost:8080/"
        },
        "id": "weaArELUTyqL",
        "outputId": "a3883156-24e7-4e5e-d724-26614589b474"
      },
      "execution_count": null,
      "outputs": [
        {
          "output_type": "stream",
          "name": "stdout",
          "text": [
            "roopneet\n"
          ]
        }
      ]
    },
    {
      "cell_type": "code",
      "source": [
        "def second_child(*kids):\n",
        "   return \"2 nd  child is \",kids[1]\n",
        "\n",
        "print(second_child(\"Chikoo\",\"Bunty\")) #Normal\n"
      ],
      "metadata": {
        "colab": {
          "base_uri": "https://localhost:8080/"
        },
        "id": "rIj91b_HT6Xz",
        "outputId": "672371e5-65bb-4c36-b7cc-76b3a064b287"
      },
      "execution_count": null,
      "outputs": [
        {
          "output_type": "stream",
          "name": "stdout",
          "text": [
            "('2 nd  child is ', 'Bunty')\n"
          ]
        }
      ]
    },
    {
      "cell_type": "code",
      "source": [
        "# keywords arguments\n",
        "\n",
        "def hello(child1 , child2 , child3):\n",
        "  return f\"{child2},{child1},{child3}\"\n",
        "\n",
        "hello(\"oriya\",\"om\",\"keshav\")"
      ],
      "metadata": {
        "colab": {
          "base_uri": "https://localhost:8080/",
          "height": 35
        },
        "id": "elb6Vj-EUVG9",
        "outputId": "877e7878-5ea0-420f-9ece-8bb8e39284a7"
      },
      "execution_count": null,
      "outputs": [
        {
          "output_type": "execute_result",
          "data": {
            "text/plain": [
              "'om,oriya,keshav'"
            ],
            "application/vnd.google.colaboratory.intrinsic+json": {
              "type": "string"
            }
          },
          "metadata": {},
          "execution_count": 59
        }
      ]
    },
    {
      "cell_type": "code",
      "source": [
        "#  create a  function   named  as described_pet and provide some parameter that will best decribe your pets"
      ],
      "metadata": {
        "id": "q3IjE4W0UzD4"
      },
      "execution_count": null,
      "outputs": []
    },
    {
      "cell_type": "code",
      "source": [
        "def describe_pet(pet_name, animal_type, age, color, breed):\n",
        "    description = f\"{pet_name} is a {age}-year-old {color} {animal_type} of the {breed} breed.\"\n",
        "    return description\n",
        "description = describe_pet(\"Bella\", \"dog\", 3, \"golden\", \"Golden Retriever\")\n",
        "print(description)"
      ],
      "metadata": {
        "colab": {
          "base_uri": "https://localhost:8080/"
        },
        "id": "55VTmbOAXMQ4",
        "outputId": "916fe372-81c0-4076-a1a5-dfd3a271ae29"
      },
      "execution_count": null,
      "outputs": [
        {
          "output_type": "stream",
          "name": "stdout",
          "text": [
            "Bella is a 3-year-old golden dog of the Golden Retriever breed.\n"
          ]
        }
      ]
    },
    {
      "cell_type": "code",
      "source": [
        "def described_pet(name,des):\n",
        "  return(f\"{name},{des}\")\n",
        "print(described_pet(name=\"cat\",des=\"color of my cat is white\"))"
      ],
      "metadata": {
        "colab": {
          "base_uri": "https://localhost:8080/"
        },
        "id": "H_DY8o6vXRK2",
        "outputId": "21bf8ad2-138c-4f0b-c041-0673bc8ae823"
      },
      "execution_count": null,
      "outputs": [
        {
          "output_type": "stream",
          "name": "stdout",
          "text": [
            "cat,color of my cat is white\n"
          ]
        }
      ]
    },
    {
      "cell_type": "code",
      "source": [
        "def described_pet (breed,age,weight):\n",
        "    return(f\"{breed},{age},{weight}\")\n",
        "print(described_pet(breed=\"husky\",age = 8, weight = 20))"
      ],
      "metadata": {
        "colab": {
          "base_uri": "https://localhost:8080/"
        },
        "id": "VUi4UCGJXVM6",
        "outputId": "3649715d-2ae5-41a4-e773-4533cf346626"
      },
      "execution_count": null,
      "outputs": [
        {
          "output_type": "stream",
          "name": "stdout",
          "text": [
            "husky,8,20\n"
          ]
        }
      ]
    },
    {
      "cell_type": "code",
      "source": [
        "def described_pet(name=\"Pet\",species=\"Pet\",scientific_name=\"Pet\",endangered=False,description=\"A cute, very-friendly creature that you'll love!\"):\n",
        "    describer = f\"Name: {name}\\nSpecies: {species}\\nScientific Name: {scientific_name}\\nEndangered: {endangered}\\nDescription:\\n{description}\"\n",
        "    return describer\n",
        "print(described_pet())"
      ],
      "metadata": {
        "colab": {
          "base_uri": "https://localhost:8080/"
        },
        "id": "dHmIH7-uXkOT",
        "outputId": "1b708b93-214d-4cb6-c622-da3b1b139927"
      },
      "execution_count": null,
      "outputs": [
        {
          "output_type": "stream",
          "name": "stdout",
          "text": [
            "Name: Pet\n",
            "Species: Pet\n",
            "Scientific Name: Pet\n",
            "Endangered: False\n",
            "Description:\n",
            "A cute, very-friendly creature that you'll love!\n"
          ]
        }
      ]
    },
    {
      "cell_type": "code",
      "source": [
        "def described_pet(petname1,petname2,petname3,petname4):\n",
        "  return f\"{petname1},{petname2},{petname3},{petname4}\"\n",
        "\n",
        "described_pet(\"cat\",\"dog\",\"elephant\",\"cow\")"
      ],
      "metadata": {
        "colab": {
          "base_uri": "https://localhost:8080/",
          "height": 35
        },
        "id": "kbhwX3t9XuEe",
        "outputId": "16fe931d-ec80-4972-f44b-29d82ab17f3d"
      },
      "execution_count": null,
      "outputs": [
        {
          "output_type": "execute_result",
          "data": {
            "text/plain": [
              "'cat,dog,elephant,cow'"
            ],
            "application/vnd.google.colaboratory.intrinsic+json": {
              "type": "string"
            }
          },
          "metadata": {},
          "execution_count": 64
        }
      ]
    },
    {
      "cell_type": "code",
      "source": [
        "# add two numbers ,  num1 and num2(input from user ) and call it\n",
        "\n",
        "\n",
        "def add_two_num():\n",
        "  num1 = float(input(\"enter the num1\"))\n",
        "  num2 = float(input(\"enter the num2\"))\n",
        "  return f\"the addition of two   numbers are{num1} + {num2} ={num1+num2}\"\n",
        "\n",
        "\n",
        "print(add_two_num())"
      ],
      "metadata": {
        "colab": {
          "base_uri": "https://localhost:8080/"
        },
        "id": "jhjVHctVXahI",
        "outputId": "fdfef234-7dea-4142-c2a4-1f83f711d77e"
      },
      "execution_count": null,
      "outputs": [
        {
          "output_type": "stream",
          "name": "stdout",
          "text": [
            "enter the num167\n",
            "enter the num276\n",
            "the addition of two   numbers are67.0 + 76.0 =143.0\n"
          ]
        }
      ]
    },
    {
      "cell_type": "code",
      "source": [
        "import re\n",
        "def add_input():\n",
        "    x = input(\"Enter a number: \")\n",
        "    y = re.findall(r'\\D',x)\n",
        "    if len(y) != 0:\n",
        "        return \"Invalid input\"\n",
        "    z = input(\"Enter another number: \")\n",
        "    a = re.findall(r'\\D',z)\n",
        "    if len(a) != 0:\n",
        "        return \"Invalid input\"\n",
        "    return int(x) + int(z)\n",
        "print(add_input())"
      ],
      "metadata": {
        "colab": {
          "base_uri": "https://localhost:8080/"
        },
        "id": "zdB6KDEGYw3i",
        "outputId": "45d087a4-c6ba-431a-f83b-7744bc5bf935"
      },
      "execution_count": null,
      "outputs": [
        {
          "output_type": "stream",
          "name": "stdout",
          "text": [
            "Enter a number: 67\n",
            "Enter another number: 76\n",
            "143\n"
          ]
        }
      ]
    },
    {
      "cell_type": "code",
      "source": [
        "def add (a,b):\n",
        "    return a+b\n",
        "print(add(a = int (input(\"number 1: \")),b = int (input(\"number 2:\"))))"
      ],
      "metadata": {
        "colab": {
          "base_uri": "https://localhost:8080/"
        },
        "id": "mTiUG7C-Y2Xz",
        "outputId": "b198b151-4ecf-43a7-ae77-6f77b84f6127"
      },
      "execution_count": null,
      "outputs": [
        {
          "output_type": "stream",
          "name": "stdout",
          "text": [
            "number 1: 7\n",
            "number 2:2\n",
            "9\n"
          ]
        }
      ]
    },
    {
      "cell_type": "code",
      "source": [
        "def addition():\n",
        "\n",
        "    a = (input(\"Enter 1st number\"))\n",
        "\n",
        "    b = (input(\"Enter 2nd number\"))\n",
        "\n",
        "    return a+b\n",
        "\n",
        "print(addition)\n"
      ],
      "metadata": {
        "colab": {
          "base_uri": "https://localhost:8080/"
        },
        "id": "FE0pS-BdY8pW",
        "outputId": "b7c99864-4bb8-49f6-8729-f77d73dbf5e5"
      },
      "execution_count": null,
      "outputs": [
        {
          "output_type": "stream",
          "name": "stdout",
          "text": [
            "<function addition at 0x7a109caedd80>\n"
          ]
        }
      ]
    },
    {
      "cell_type": "code",
      "source": [
        "def addition():\n",
        "\n",
        "    a = int(input(\"Enter 1st number\"))\n",
        "\n",
        "    b = int(input(\"Enter 2nd number\"))\n",
        "\n",
        "    return (a+b)\n",
        "\n",
        "print(addition())\n"
      ],
      "metadata": {
        "colab": {
          "base_uri": "https://localhost:8080/"
        },
        "id": "BGI8dM7iZFVU",
        "outputId": "4c12b910-1d33-47f7-83bb-623febd9617e"
      },
      "execution_count": null,
      "outputs": [
        {
          "output_type": "stream",
          "name": "stdout",
          "text": [
            "Enter 1st number34\n",
            "Enter 2nd number34\n",
            "68\n"
          ]
        }
      ]
    },
    {
      "cell_type": "code",
      "source": [
        "# create a function named as described_ped and provide some parameter that will best describe your pets\n",
        "#code by om/opiee\n",
        "def desc_pet():\n",
        "\n",
        "     pet_name = input('enter the pet name:  ')\n",
        "     pet_type = input('enter the pet type:  ')\n",
        "     pet_breed = input('enter the pet breed:  ')\n",
        "     pet_age = input('enter the pet age:  ')\n",
        "     pet_color = input('enter the pet color:  ')\n",
        "     pet_weight = input('enter the pet weight:  ')\n",
        "     return f\"Name = {pet_name}, Type = {pet_type}, Breed = {pet_breed}, Age = {pet_age}, Color = {pet_color}, Weight = {pet_weight}\"\n",
        "\n",
        "print(desc_pet())"
      ],
      "metadata": {
        "colab": {
          "base_uri": "https://localhost:8080/"
        },
        "id": "lDpBtvJKZXIG",
        "outputId": "807f7582-c9c3-45fd-a295-f3d8900519c4"
      },
      "execution_count": null,
      "outputs": [
        {
          "output_type": "stream",
          "name": "stdout",
          "text": [
            "enter the pet name:  koki\n",
            "enter the pet type:  jerman \n",
            "enter the pet breed:  sheperd\n",
            "enter the pet age:  3\n",
            "enter the pet color:  black\n",
            "enter the pet weight:  67\n",
            "Name = koki, Type = jerman , Breed = sheperd, Age = 3, Color = black, Weight = 67\n"
          ]
        }
      ]
    },
    {
      "cell_type": "code",
      "source": [
        "def add_number():\n",
        "  num1 = int(input(\"enter the first number\"))\n",
        "  num2 = int(input(\"enter the second number\"))\n",
        "  return num1+num2\n",
        "\n",
        "print(add_number())"
      ],
      "metadata": {
        "colab": {
          "base_uri": "https://localhost:8080/"
        },
        "id": "No-Op8U_ZhLX",
        "outputId": "ac7d6250-154f-4b02-c7a0-19d4b540b6f5"
      },
      "execution_count": null,
      "outputs": [
        {
          "output_type": "stream",
          "name": "stdout",
          "text": [
            "enter the first number34\n",
            "enter the second number43\n",
            "77\n"
          ]
        }
      ]
    },
    {
      "cell_type": "markdown",
      "source": [],
      "metadata": {
        "id": "7rObQw7zY8Z7"
      }
    },
    {
      "cell_type": "code",
      "source": [
        "def describe_pet(pet_name, animal_type, age, color, breed):\n",
        "    description = f\"{pet_name} is a {age}-year-old {color} {animal_type} of the {breed}\""
      ],
      "metadata": {
        "id": "WBqD7vZpZqvH"
      },
      "execution_count": null,
      "outputs": []
    },
    {
      "cell_type": "code",
      "source": [
        "def addition():\n",
        "    a = int(input(\"Enter 1st number\"))\n",
        "    b = int(input(\"Enter 2nd number\"))\n",
        "    return (a+b)\n",
        "print(addition())"
      ],
      "metadata": {
        "colab": {
          "base_uri": "https://localhost:8080/"
        },
        "id": "WcX-esIqZxH0",
        "outputId": "376d1c9f-69ff-4793-91f9-8f5ccaec4c2e"
      },
      "execution_count": null,
      "outputs": [
        {
          "output_type": "stream",
          "name": "stdout",
          "text": [
            "Enter 1st number67\n",
            "Enter 2nd number65\n",
            "132\n"
          ]
        }
      ]
    },
    {
      "cell_type": "code",
      "source": [],
      "metadata": {
        "id": "8vxIDLD_gyEV"
      },
      "execution_count": null,
      "outputs": []
    },
    {
      "cell_type": "markdown",
      "source": [
        "# **question1**  : Finding the largest number:"
      ],
      "metadata": {
        "id": "TnXibNfsgyp8"
      }
    },
    {
      "cell_type": "code",
      "source": [
        "#  finding the largest number using if else statement\n",
        "\n",
        "\n",
        "\n",
        "a = 10\n",
        "b = 20\n",
        "c = 30\n",
        "\n",
        "if a > b and a > c:\n",
        "  print(f\"{a} is greater\")\n",
        "elif b > a and b > c:\n",
        "  print(f\"{b} is greater\")\n",
        "else:\n",
        "  print(f\"{c} is greater\")\n"
      ],
      "metadata": {
        "colab": {
          "base_uri": "https://localhost:8080/"
        },
        "id": "GuAHDtuAgThm",
        "outputId": "43538c8c-4329-46ed-bd31-a00487a6bb52"
      },
      "execution_count": null,
      "outputs": [
        {
          "output_type": "stream",
          "name": "stdout",
          "text": [
            "30 is greater\n"
          ]
        }
      ]
    },
    {
      "cell_type": "code",
      "source": [
        "# finding the largest number using if else statement\n",
        "# code by om/opiee\n",
        "\n",
        "def find_largest():\n",
        "  num1 = int(input('enter the first number:  '))\n",
        "  num2 = int(input('enter the second number:  '))\n",
        "  num3 = int(input('enter the third number:  '))\n",
        "  if num1 > num2 and num1 > num3:\n",
        "    print(f\"{num1} is the largest number\")\n",
        "  elif num2 > num1 and num2 > num3:\n",
        "    print(f\"{num2} is the largest number\")\n",
        "  else:\n",
        "    print(f\"{num3} is the largest number\")\n",
        "\n",
        "find_largest()"
      ],
      "metadata": {
        "colab": {
          "base_uri": "https://localhost:8080/"
        },
        "id": "WPT7fttbhWh2",
        "outputId": "6553da54-af6f-4e4c-84a2-cc6f77472e6f"
      },
      "execution_count": null,
      "outputs": [
        {
          "output_type": "stream",
          "name": "stdout",
          "text": [
            "enter the first number:  6\n",
            "enter the second number:  16\n",
            "enter the third number:  160\n",
            "160 is the largest number\n"
          ]
        }
      ]
    },
    {
      "cell_type": "code",
      "source": [
        "num1 = float(input(\"Enter the first number: \"))\n",
        "num2 = float(input(\"Enter the second number: \"))\n",
        "num3 = float(input(\"Enter the third number: \"))\n",
        "\n",
        "\n",
        "if (num1 >= num2) and (num1 >= num3):\n",
        "    largest = num1\n",
        "elif (num2 >= num1) and (num2 >= num3):\n",
        "    largest = num2\n",
        "else:\n",
        "    largest = num3\n",
        "\n",
        "print(f\"The largest number is: {largest}\")"
      ],
      "metadata": {
        "colab": {
          "base_uri": "https://localhost:8080/"
        },
        "id": "dFqylAdThq_N",
        "outputId": "9169612d-8c7a-4277-b2e4-14d98f2a4643"
      },
      "execution_count": null,
      "outputs": [
        {
          "output_type": "stream",
          "name": "stdout",
          "text": [
            "Enter the first number: 4\n",
            "Enter the second number: 34\n",
            "Enter the third number: 34\n",
            "The largest number is: 34.0\n"
          ]
        }
      ]
    },
    {
      "cell_type": "code",
      "source": [
        "a= int(input(\"Enter first number:\"))\n",
        "b= int(input(\"Enter second number:\"))\n",
        "c= int(input(\"Enter third number:\"))\n",
        "if a>b and a>c:\n",
        "    print(\"a is greater\")\n",
        "elif b>a and b>c:\n",
        "    print(\"b is greater\")\n",
        "else:\n",
        "    print(\"c is greater\")"
      ],
      "metadata": {
        "colab": {
          "base_uri": "https://localhost:8080/",
          "height": 391
        },
        "id": "UXSX5mxphwG6",
        "outputId": "1aba0679-8f8a-46c7-87d2-d0a281a71519"
      },
      "execution_count": null,
      "outputs": [
        {
          "name": "stdout",
          "output_type": "stream",
          "text": [
            "Enter first number:34\n",
            "Enter second number:43\n"
          ]
        },
        {
          "output_type": "error",
          "ename": "KeyboardInterrupt",
          "evalue": "Interrupted by user",
          "traceback": [
            "\u001b[0;31m---------------------------------------------------------------------------\u001b[0m",
            "\u001b[0;31mKeyboardInterrupt\u001b[0m                         Traceback (most recent call last)",
            "\u001b[0;32m<ipython-input-9-d4e628eb10a0>\u001b[0m in \u001b[0;36m<cell line: 3>\u001b[0;34m()\u001b[0m\n\u001b[1;32m      1\u001b[0m \u001b[0ma\u001b[0m\u001b[0;34m=\u001b[0m \u001b[0mint\u001b[0m\u001b[0;34m(\u001b[0m\u001b[0minput\u001b[0m\u001b[0;34m(\u001b[0m\u001b[0;34m\"Enter first number:\"\u001b[0m\u001b[0;34m)\u001b[0m\u001b[0;34m)\u001b[0m\u001b[0;34m\u001b[0m\u001b[0;34m\u001b[0m\u001b[0m\n\u001b[1;32m      2\u001b[0m \u001b[0mb\u001b[0m\u001b[0;34m=\u001b[0m \u001b[0mint\u001b[0m\u001b[0;34m(\u001b[0m\u001b[0minput\u001b[0m\u001b[0;34m(\u001b[0m\u001b[0;34m\"Enter second number:\"\u001b[0m\u001b[0;34m)\u001b[0m\u001b[0;34m)\u001b[0m\u001b[0;34m\u001b[0m\u001b[0;34m\u001b[0m\u001b[0m\n\u001b[0;32m----> 3\u001b[0;31m \u001b[0mc\u001b[0m\u001b[0;34m=\u001b[0m \u001b[0mint\u001b[0m\u001b[0;34m(\u001b[0m\u001b[0minput\u001b[0m\u001b[0;34m(\u001b[0m\u001b[0;34m\"Enter third number:\"\u001b[0m\u001b[0;34m)\u001b[0m\u001b[0;34m)\u001b[0m\u001b[0;34m\u001b[0m\u001b[0;34m\u001b[0m\u001b[0m\n\u001b[0m\u001b[1;32m      4\u001b[0m \u001b[0;32mif\u001b[0m \u001b[0ma\u001b[0m\u001b[0;34m>\u001b[0m\u001b[0mb\u001b[0m \u001b[0;32mand\u001b[0m \u001b[0ma\u001b[0m\u001b[0;34m>\u001b[0m\u001b[0mc\u001b[0m\u001b[0;34m:\u001b[0m\u001b[0;34m\u001b[0m\u001b[0;34m\u001b[0m\u001b[0m\n\u001b[1;32m      5\u001b[0m     \u001b[0mprint\u001b[0m\u001b[0;34m(\u001b[0m\u001b[0;34m\"a is greater\"\u001b[0m\u001b[0;34m)\u001b[0m\u001b[0;34m\u001b[0m\u001b[0;34m\u001b[0m\u001b[0m\n",
            "\u001b[0;32m/usr/local/lib/python3.10/dist-packages/ipykernel/kernelbase.py\u001b[0m in \u001b[0;36mraw_input\u001b[0;34m(self, prompt)\u001b[0m\n\u001b[1;32m    849\u001b[0m                 \u001b[0;34m\"raw_input was called, but this frontend does not support input requests.\"\u001b[0m\u001b[0;34m\u001b[0m\u001b[0;34m\u001b[0m\u001b[0m\n\u001b[1;32m    850\u001b[0m             )\n\u001b[0;32m--> 851\u001b[0;31m         return self._input_request(str(prompt),\n\u001b[0m\u001b[1;32m    852\u001b[0m             \u001b[0mself\u001b[0m\u001b[0;34m.\u001b[0m\u001b[0m_parent_ident\u001b[0m\u001b[0;34m,\u001b[0m\u001b[0;34m\u001b[0m\u001b[0;34m\u001b[0m\u001b[0m\n\u001b[1;32m    853\u001b[0m             \u001b[0mself\u001b[0m\u001b[0;34m.\u001b[0m\u001b[0m_parent_header\u001b[0m\u001b[0;34m,\u001b[0m\u001b[0;34m\u001b[0m\u001b[0;34m\u001b[0m\u001b[0m\n",
            "\u001b[0;32m/usr/local/lib/python3.10/dist-packages/ipykernel/kernelbase.py\u001b[0m in \u001b[0;36m_input_request\u001b[0;34m(self, prompt, ident, parent, password)\u001b[0m\n\u001b[1;32m    893\u001b[0m             \u001b[0;32mexcept\u001b[0m \u001b[0mKeyboardInterrupt\u001b[0m\u001b[0;34m:\u001b[0m\u001b[0;34m\u001b[0m\u001b[0;34m\u001b[0m\u001b[0m\n\u001b[1;32m    894\u001b[0m                 \u001b[0;31m# re-raise KeyboardInterrupt, to truncate traceback\u001b[0m\u001b[0;34m\u001b[0m\u001b[0;34m\u001b[0m\u001b[0m\n\u001b[0;32m--> 895\u001b[0;31m                 \u001b[0;32mraise\u001b[0m \u001b[0mKeyboardInterrupt\u001b[0m\u001b[0;34m(\u001b[0m\u001b[0;34m\"Interrupted by user\"\u001b[0m\u001b[0;34m)\u001b[0m \u001b[0;32mfrom\u001b[0m \u001b[0;32mNone\u001b[0m\u001b[0;34m\u001b[0m\u001b[0;34m\u001b[0m\u001b[0m\n\u001b[0m\u001b[1;32m    896\u001b[0m             \u001b[0;32mexcept\u001b[0m \u001b[0mException\u001b[0m \u001b[0;32mas\u001b[0m \u001b[0me\u001b[0m\u001b[0;34m:\u001b[0m\u001b[0;34m\u001b[0m\u001b[0;34m\u001b[0m\u001b[0m\n\u001b[1;32m    897\u001b[0m                 \u001b[0mself\u001b[0m\u001b[0;34m.\u001b[0m\u001b[0mlog\u001b[0m\u001b[0;34m.\u001b[0m\u001b[0mwarning\u001b[0m\u001b[0;34m(\u001b[0m\u001b[0;34m\"Invalid Message:\"\u001b[0m\u001b[0;34m,\u001b[0m \u001b[0mexc_info\u001b[0m\u001b[0;34m=\u001b[0m\u001b[0;32mTrue\u001b[0m\u001b[0;34m)\u001b[0m\u001b[0;34m\u001b[0m\u001b[0;34m\u001b[0m\u001b[0m\n",
            "\u001b[0;31mKeyboardInterrupt\u001b[0m: Interrupted by user"
          ]
        }
      ]
    },
    {
      "cell_type": "markdown",
      "source": [
        "# 2Question  sum of list elements"
      ],
      "metadata": {
        "id": "mOox6vrKhdfQ"
      }
    },
    {
      "cell_type": "code",
      "source": [
        "# create a list  , you sum up the list items present inside the list"
      ],
      "metadata": {
        "id": "fTe1UsCehhkn"
      },
      "execution_count": null,
      "outputs": []
    },
    {
      "cell_type": "code",
      "source": [
        "# create a list, you sum up the list items present inside the list\n",
        "# code by om/opiee\n",
        "\n",
        "list1 = [1,2,3,4,5]\n",
        "sum = 0\n",
        "for i in list1:\n",
        "  sum += i\n",
        "print(sum)"
      ],
      "metadata": {
        "id": "wtlX1l5QiHrv"
      },
      "execution_count": null,
      "outputs": []
    },
    {
      "cell_type": "code",
      "source": [
        "try:\n",
        "    my_list = [int(i) for i in input(\"Enter some numbers seperated by commas like '1,2,3'\").split(',')]\n",
        "    sum = 0\n",
        "    for i in my_list:\n",
        "        sum += i\n",
        "    print(sum)\n",
        "except ValueError:\n",
        "    print(\"Invalid input\")"
      ],
      "metadata": {
        "colab": {
          "base_uri": "https://localhost:8080/"
        },
        "id": "U4ZE9a4hiO-P",
        "outputId": "33670d30-612d-421e-a1e4-52fb7dd60dba"
      },
      "execution_count": null,
      "outputs": [
        {
          "output_type": "stream",
          "name": "stdout",
          "text": [
            "Enter some numbers seperated by commas like '1,2,3'1,2,3,4,5\n",
            "15\n"
          ]
        }
      ]
    },
    {
      "cell_type": "code",
      "source": [
        "number = [1,2,3,4,5,6,7,8]\n",
        "\n",
        "total = sum(number)\n",
        "print(total)"
      ],
      "metadata": {
        "colab": {
          "base_uri": "https://localhost:8080/"
        },
        "id": "K58JmpxGiTT3",
        "outputId": "77d6d894-1f69-4e9e-8a3e-72225f7d2811"
      },
      "execution_count": null,
      "outputs": [
        {
          "output_type": "stream",
          "name": "stdout",
          "text": [
            "36\n"
          ]
        }
      ]
    },
    {
      "cell_type": "code",
      "source": [
        "numbers = [10, 20, 30, 40, 50]\n",
        "\n",
        "total_sum = sum(numbers)\n",
        "\n",
        "print(f\"The sum of the list items is: {total_sum}\")\n"
      ],
      "metadata": {
        "colab": {
          "base_uri": "https://localhost:8080/"
        },
        "id": "eDEbVF1ViS56",
        "outputId": "78f5cc52-3a50-4399-9892-ebda4bce087e"
      },
      "execution_count": null,
      "outputs": [
        {
          "output_type": "stream",
          "name": "stdout",
          "text": [
            "The sum of the list items is: 150\n"
          ]
        }
      ]
    },
    {
      "cell_type": "markdown",
      "source": [
        "#**question3** creating password"
      ],
      "metadata": {
        "id": "HQ2AvKDrjBxU"
      }
    },
    {
      "cell_type": "code",
      "source": [
        "#   ask the user to enter the pass ,\n",
        "\n",
        "#  if length is greater tha 6\n",
        "# password is  valid"
      ],
      "metadata": {
        "id": "8S38EelCiqpb"
      },
      "execution_count": null,
      "outputs": []
    },
    {
      "cell_type": "code",
      "source": [
        "#Password strength checker\n",
        "import sys\n",
        "x = input(\"Enter your password: \")\n",
        "if len(x)<6:\n",
        "    print(\"Password too short\")\n",
        "    sys.exit()\n",
        "print(\"Password accepted!\")"
      ],
      "metadata": {
        "colab": {
          "base_uri": "https://localhost:8080/",
          "height": 124
        },
        "id": "SiuVH4VdjSjc",
        "outputId": "a6d32827-7683-48b0-ad7b-9e9b377a75f5"
      },
      "execution_count": null,
      "outputs": [
        {
          "output_type": "stream",
          "name": "stdout",
          "text": [
            "Enter your password: yueu\n",
            "Password too short\n"
          ]
        },
        {
          "output_type": "error",
          "ename": "SystemExit",
          "evalue": "",
          "traceback": [
            "An exception has occurred, use %tb to see the full traceback.\n",
            "\u001b[0;31mSystemExit\u001b[0m\n"
          ]
        }
      ]
    },
    {
      "cell_type": "code",
      "source": [
        "password = input(\"Enter your password: \")\n",
        "\n",
        "\n",
        "if len(password) > 6:\n",
        "    print(\"Password is valid.\")\n",
        "else:\n",
        "    print(\"Password is too short.\")"
      ],
      "metadata": {
        "colab": {
          "base_uri": "https://localhost:8080/"
        },
        "id": "M-sAuAwVjbSs",
        "outputId": "c0325cdb-cc18-49ad-ec5c-9eca6fbbeb74"
      },
      "execution_count": null,
      "outputs": [
        {
          "output_type": "stream",
          "name": "stdout",
          "text": [
            "Enter your password: tyub\n",
            "Password is too short.\n"
          ]
        }
      ]
    },
    {
      "cell_type": "markdown",
      "source": [
        "# **question4**: printing start pattern"
      ],
      "metadata": {
        "id": "v1gWXufVjoDt"
      }
    },
    {
      "cell_type": "code",
      "source": [
        "#\n",
        "\n",
        "*\n",
        "**\n",
        "***\n",
        "****"
      ],
      "metadata": {
        "id": "cZ0viirZjgE7"
      },
      "execution_count": null,
      "outputs": []
    },
    {
      "cell_type": "code",
      "source": [
        "\n",
        "\n",
        "rows = 4\n",
        "\n",
        "for i in range(1, rows + 1):\n",
        "\n",
        "    # Print i stars for each row\n",
        "\n",
        "    print('*' * i)\n",
        "\n"
      ],
      "metadata": {
        "colab": {
          "base_uri": "https://localhost:8080/"
        },
        "id": "iTgE-0zRkLsJ",
        "outputId": "20134036-d628-45b2-8371-f2e994721dab"
      },
      "execution_count": null,
      "outputs": [
        {
          "output_type": "stream",
          "name": "stdout",
          "text": [
            "*\n",
            "**\n",
            "***\n",
            "****\n"
          ]
        }
      ]
    },
    {
      "cell_type": "code",
      "source": [
        "try:\n",
        "    for i in range(0,int(input(\"Enter the number of stars: \"))):\n",
        "        print(\"*\"*i)\n",
        "except ValueError:\n",
        "    print(\"Invalid input\")"
      ],
      "metadata": {
        "colab": {
          "base_uri": "https://localhost:8080/"
        },
        "id": "ZYJ8fPXzkLjV",
        "outputId": "9a0dfe5c-22bb-4dab-be63-f12c092d3723"
      },
      "execution_count": null,
      "outputs": [
        {
          "output_type": "stream",
          "name": "stdout",
          "text": [
            "Enter the number of stars: 6\n",
            "\n",
            "*\n",
            "**\n",
            "***\n",
            "****\n",
            "*****\n"
          ]
        }
      ]
    },
    {
      "cell_type": "markdown",
      "source": [
        "#**question**  5 : count the occurence of  elements inside the list"
      ],
      "metadata": {
        "id": "FRC0zlZ-lCG1"
      }
    },
    {
      "cell_type": "code",
      "source": [
        "# number =[4,7,1,4,12,4,3]\n",
        "\n",
        "#count  the occurence of each element"
      ],
      "metadata": {
        "id": "4FaF-V-lkf3j"
      },
      "execution_count": null,
      "outputs": []
    },
    {
      "cell_type": "code",
      "source": [
        "numbers = [4, 7, 1, 4, 12, 4, 3]\n",
        "element = 7\n",
        "occurrences = numbers.count(element)\n",
        "\n",
        "print(occurrences)\n"
      ],
      "metadata": {
        "colab": {
          "base_uri": "https://localhost:8080/"
        },
        "id": "A9i43G_vlbqj",
        "outputId": "ccb9f3cb-4440-4527-d695-6348c2372e2e"
      },
      "execution_count": null,
      "outputs": [
        {
          "output_type": "stream",
          "name": "stdout",
          "text": [
            "1\n"
          ]
        }
      ]
    },
    {
      "cell_type": "markdown",
      "source": [
        ":#**question 6 **: finding prime number"
      ],
      "metadata": {
        "id": "2PEz2l7el8cr"
      }
    },
    {
      "cell_type": "code",
      "source": [
        "# prime number"
      ],
      "metadata": {
        "id": "ZFxscNijl6gk"
      },
      "execution_count": null,
      "outputs": []
    },
    {
      "cell_type": "code",
      "source": [
        "#Sieve of erasthtenes\n",
        "import numpy\n",
        "import math\n",
        "from datetime import datetime\n",
        "def prime(x):\n",
        "    nums = numpy.ones(x+1,dtype=bool)\n",
        "    check = math.isqrt(x) + 1\n",
        "    nums[0:2] = False\n",
        "    for i in range(2,check):\n",
        "        if nums[i]:\n",
        "            nums[i*i:x+1:i] = False\n",
        "\n",
        "    for i in range(2,x+1):\n",
        "        if nums[i]:\n",
        "            print(\"{} is prime\".format(i))\n",
        "start_time = datetime.now()\n",
        "print(\"Start time =\", start_time.strftime(\"%H:%M:%S\"))\n",
        "prime(int(input(\"Find till where: \")))\n",
        "end_time = datetime.now()\n",
        "print(\"End time =\", end_time.strftime(\"%H:%M:%S\"))\n",
        "# Calculate time taken\n",
        "diff = end_time - start_time\n",
        "print(\"Time taken: {} seconds\".format(diff.total_seconds()))"
      ],
      "metadata": {
        "colab": {
          "base_uri": "https://localhost:8080/"
        },
        "id": "CJ1tW1RAmP-F",
        "outputId": "96b613a7-ce6c-416f-fc68-0fc950f225af"
      },
      "execution_count": null,
      "outputs": [
        {
          "output_type": "stream",
          "name": "stdout",
          "text": [
            "Start time = 16:53:04\n",
            "Find till where: 5\n",
            "2 is prime\n",
            "3 is prime\n",
            "5 is prime\n",
            "End time = 16:53:07\n",
            "Time taken: 3.094057 seconds\n"
          ]
        }
      ]
    },
    {
      "cell_type": "code",
      "source": [
        "num = int(input(\"enter a number\"))\n",
        "\n",
        "if num%2 ==0:\n",
        "  print(num,\"is not prime\")\n",
        "else:\n",
        "  print(num ,\"is prime\")\n"
      ],
      "metadata": {
        "colab": {
          "base_uri": "https://localhost:8080/"
        },
        "id": "vNsi7RLQmbHo",
        "outputId": "7ea6afce-110a-423e-be3d-026a450cf294"
      },
      "execution_count": null,
      "outputs": [
        {
          "output_type": "stream",
          "name": "stdout",
          "text": [
            "enter a number6\n",
            "6 is not prime\n"
          ]
        }
      ]
    },
    {
      "cell_type": "code",
      "source": [
        "# find the occurence of value in my list\n",
        "# code by om/opiee\n",
        "\n",
        "number =[4,7,1,4,12,4,3,1,7]\n",
        "print (number)\n",
        "\n",
        "element = int(input('find the number of times the value in the list '))\n",
        "\n",
        "count = 0\n",
        "for i in number:\n",
        "\n",
        "  if i == element:\n",
        "    count += 1\n",
        "print(count)"
      ],
      "metadata": {
        "colab": {
          "base_uri": "https://localhost:8080/"
        },
        "id": "VaqP_qafnbud",
        "outputId": "61730447-2438-4606-ce19-50c7171adb30"
      },
      "execution_count": null,
      "outputs": [
        {
          "output_type": "stream",
          "name": "stdout",
          "text": [
            "[4, 7, 1, 4, 12, 4, 3, 1, 7]\n",
            "find the number of times the value in the list 7\n",
            "2\n"
          ]
        }
      ]
    },
    {
      "cell_type": "code",
      "source": [
        "# a = 10\n",
        "# b = 20\n",
        "\n",
        "a  = 20\n",
        "b = 10\n",
        "\n",
        "# swap  two variables"
      ],
      "metadata": {
        "id": "xYsoqWVdnofx"
      },
      "execution_count": null,
      "outputs": []
    },
    {
      "cell_type": "code",
      "source": [
        "a = 10\n",
        "b = 20\n",
        "temp= a\n",
        "a = b\n",
        "b = temp\n",
        "print(f\"After swapping: a = {a}, b = {b}\")"
      ],
      "metadata": {
        "colab": {
          "base_uri": "https://localhost:8080/"
        },
        "id": "MsCtAnhJoqw0",
        "outputId": "7e119d00-79a9-4005-ebb1-b04c5806338b"
      },
      "execution_count": null,
      "outputs": [
        {
          "output_type": "stream",
          "name": "stdout",
          "text": [
            "After swapping: a = 20, b = 10\n"
          ]
        }
      ]
    },
    {
      "cell_type": "code",
      "source": [
        "a, b = b, a        print(f\"After swapping: a = {a}, b = {b}\") After swapping: a = 20, b = 10\n"
      ],
      "metadata": {
        "colab": {
          "base_uri": "https://localhost:8080/",
          "height": 106
        },
        "id": "WoSgIRQtow4K",
        "outputId": "946c97fa-fd77-4f58-8356-54f670c9c294"
      },
      "execution_count": null,
      "outputs": [
        {
          "output_type": "error",
          "ename": "SyntaxError",
          "evalue": "invalid syntax (<ipython-input-51-19db0a07fb46>, line 1)",
          "traceback": [
            "\u001b[0;36m  File \u001b[0;32m\"<ipython-input-51-19db0a07fb46>\"\u001b[0;36m, line \u001b[0;32m1\u001b[0m\n\u001b[0;31m    a, b = b, a                                                print(f\"After swapping: a = {a}, b = {b}\") After swapping: a = 20, b = 10\u001b[0m\n\u001b[0m                                                               ^\u001b[0m\n\u001b[0;31mSyntaxError\u001b[0m\u001b[0;31m:\u001b[0m invalid syntax\n"
          ]
        }
      ]
    },
    {
      "cell_type": "code",
      "source": [
        "# asking the user to enter a value\n",
        "# user enter another value\n",
        "# swap the value\n",
        "# code by om/opiee\n",
        "\n",
        "a = input('enter the value of a:  ')\n",
        "b = input('enter the value of b:  ')\n",
        "print (f\"before swapping a = {a} and b = {b}\")\n",
        "temp = a\n",
        "a = b\n",
        "b = temp\n",
        "print (f\"after swapping a = {a} and b = {b}\")\n"
      ],
      "metadata": {
        "colab": {
          "base_uri": "https://localhost:8080/"
        },
        "id": "Cu3IdrBJo8DP",
        "outputId": "07df0f2b-8978-40f3-cc78-5f5fedf559f2"
      },
      "execution_count": null,
      "outputs": [
        {
          "output_type": "stream",
          "name": "stdout",
          "text": [
            "enter the value of a:  3\n",
            "enter the value of b:  4\n",
            "before swapping a = 3 and b = 4\n",
            "after swapping a = 4 and b = 3\n"
          ]
        }
      ]
    },
    {
      "cell_type": "code",
      "source": [
        "a = 10\n",
        "b = 20\n",
        "a,b = b,a\n",
        "\n",
        "print(f\"after swaping the values are {a} and {b}\")"
      ],
      "metadata": {
        "colab": {
          "base_uri": "https://localhost:8080/"
        },
        "id": "DzQ8qHhSpSj0",
        "outputId": "47484bf4-feb5-4659-87f6-cfac8ca3f73b"
      },
      "execution_count": null,
      "outputs": [
        {
          "output_type": "stream",
          "name": "stdout",
          "text": [
            "after swaping the values are 20 and 10\n"
          ]
        }
      ]
    },
    {
      "cell_type": "markdown",
      "source": [],
      "metadata": {
        "id": "__cpkrPFowtJ"
      }
    },
    {
      "cell_type": "code",
      "source": [
        "pip install numpy\n"
      ],
      "metadata": {
        "colab": {
          "base_uri": "https://localhost:8080/"
        },
        "id": "W7_avsViQSgP",
        "outputId": "df8f7894-ea67-4501-8ee6-6eea994171bc"
      },
      "execution_count": null,
      "outputs": [
        {
          "output_type": "stream",
          "name": "stdout",
          "text": [
            "Requirement already satisfied: numpy in /usr/local/lib/python3.10/dist-packages (1.26.4)\n"
          ]
        }
      ]
    },
    {
      "cell_type": "code",
      "source": [
        "import numpy as np\n",
        "\n",
        "\n",
        "x = np.array([1,2,3,4,5])\n",
        "print(x)"
      ],
      "metadata": {
        "colab": {
          "base_uri": "https://localhost:8080/"
        },
        "id": "oOK05qaYREi0",
        "outputId": "eb169a67-e656-424e-e5db-c35453e9ea2e"
      },
      "execution_count": null,
      "outputs": [
        {
          "output_type": "stream",
          "name": "stdout",
          "text": [
            "[1 2 3 4 5]\n"
          ]
        }
      ]
    },
    {
      "cell_type": "code",
      "source": [
        "# 0 Dim\n",
        "a = np.array(10)\n",
        "print(a)\n",
        "print(a.ndim)"
      ],
      "metadata": {
        "colab": {
          "base_uri": "https://localhost:8080/"
        },
        "id": "sa1VMf4lTiFj",
        "outputId": "6891d47f-30b4-4c4d-add1-dd715f882cd4"
      },
      "execution_count": null,
      "outputs": [
        {
          "output_type": "stream",
          "name": "stdout",
          "text": [
            "10\n",
            "0\n"
          ]
        }
      ]
    },
    {
      "cell_type": "code",
      "source": [
        "a = np.array([10,20,30,40,50])\n",
        "print(a)\n",
        "print(a.ndim)"
      ],
      "metadata": {
        "colab": {
          "base_uri": "https://localhost:8080/"
        },
        "id": "DbJYWstLUYNb",
        "outputId": "f8d4157c-b8e1-4a1f-a76d-cc93a1aa6d2d"
      },
      "execution_count": null,
      "outputs": [
        {
          "output_type": "stream",
          "name": "stdout",
          "text": [
            "[10 20 30 40 50]\n",
            "1\n"
          ]
        }
      ]
    },
    {
      "cell_type": "code",
      "source": [
        "a = np.array([[20,30],[40,50]])\n",
        "print(a)\n",
        "print(a.ndim)"
      ],
      "metadata": {
        "colab": {
          "base_uri": "https://localhost:8080/"
        },
        "id": "_i6B7S50UmXZ",
        "outputId": "a4ab94aa-92c1-413c-95f0-a19849fc2ea7"
      },
      "execution_count": null,
      "outputs": [
        {
          "output_type": "stream",
          "name": "stdout",
          "text": [
            "[[20 30]\n",
            " [40 50]]\n",
            "2\n"
          ]
        }
      ]
    },
    {
      "cell_type": "code",
      "source": [
        "a=np.array([[[]]])\n",
        "print(a)\n",
        "print(a.ndim)"
      ],
      "metadata": {
        "colab": {
          "base_uri": "https://localhost:8080/"
        },
        "id": "5Dun0HNqVH02",
        "outputId": "5140a7c5-ae58-4f3f-ed21-11a8a4703ffa"
      },
      "execution_count": null,
      "outputs": [
        {
          "output_type": "stream",
          "name": "stdout",
          "text": [
            "[]\n",
            "3\n"
          ]
        }
      ]
    },
    {
      "cell_type": "code",
      "source": [
        "#indexing\n",
        "list1 = [1,2,3,4,5,6]\n",
        "a=np.array(list1)\n",
        "a[1]"
      ],
      "metadata": {
        "colab": {
          "base_uri": "https://localhost:8080/"
        },
        "id": "h8HfBpXiWUeb",
        "outputId": "2b4cb06c-6c9c-46c9-8f54-babc016f6071"
      },
      "execution_count": null,
      "outputs": [
        {
          "output_type": "execute_result",
          "data": {
            "text/plain": [
              "2"
            ]
          },
          "metadata": {},
          "execution_count": 15
        }
      ]
    },
    {
      "cell_type": "code",
      "source": [
        "#reshape Function\n",
        "a=np.array([1,2,3,4,5])\n",
        "b=a.reshape((1,5))\n",
        "print(b)"
      ],
      "metadata": {
        "colab": {
          "base_uri": "https://localhost:8080/"
        },
        "id": "wunEixP4XRkD",
        "outputId": "e39b2690-3f3c-40aa-d6f9-9e30058da7d2"
      },
      "execution_count": null,
      "outputs": [
        {
          "output_type": "stream",
          "name": "stdout",
          "text": [
            "[[1 2 3 4 5]]\n"
          ]
        }
      ]
    },
    {
      "cell_type": "code",
      "source": [
        "#matrix operation\n",
        "np.full()\n",
        "np.absnp.operations()\n",
        "np.zero()\n",
        "np.identity()\n",
        "np.eye()"
      ],
      "metadata": {
        "id": "kTEuUoqxaFcL"
      },
      "execution_count": null,
      "outputs": []
    },
    {
      "cell_type": "code",
      "source": [
        "a = np.full((4,3),8.2)\n",
        "print(a)"
      ],
      "metadata": {
        "colab": {
          "base_uri": "https://localhost:8080/"
        },
        "id": "j3mYoLewao46",
        "outputId": "e92c8775-6934-4b21-c29e-d5f4c5f5190e"
      },
      "execution_count": null,
      "outputs": [
        {
          "output_type": "stream",
          "name": "stdout",
          "text": [
            "[[8.2 8.2 8.2]\n",
            " [8.2 8.2 8.2]\n",
            " [8.2 8.2 8.2]\n",
            " [8.2 8.2 8.2]]\n"
          ]
        }
      ]
    },
    {
      "cell_type": "code",
      "source": [
        "a=np.ones((3,2),dtype = int)\n",
        "print(a)"
      ],
      "metadata": {
        "colab": {
          "base_uri": "https://localhost:8080/"
        },
        "id": "hakasY2Sa1np",
        "outputId": "0b4148e1-76b8-44c1-fdf9-12d3d2ae4026"
      },
      "execution_count": null,
      "outputs": [
        {
          "output_type": "stream",
          "name": "stdout",
          "text": [
            "[[1 1]\n",
            " [1 1]\n",
            " [1 1]]\n"
          ]
        }
      ]
    },
    {
      "cell_type": "code",
      "source": [
        "a=np.identity(2)\n",
        "print(a)"
      ],
      "metadata": {
        "colab": {
          "base_uri": "https://localhost:8080/"
        },
        "id": "x90I92niceNe",
        "outputId": "44d268c3-fa8c-479b-be23-c8b235525190"
      },
      "execution_count": null,
      "outputs": [
        {
          "output_type": "stream",
          "name": "stdout",
          "text": [
            "[[1. 0.]\n",
            " [0. 1.]]\n"
          ]
        }
      ]
    },
    {
      "cell_type": "code",
      "source": [
        "#arthmectic operators\n",
        "a=np.array([1,2])\n",
        "b=np.array([6,7])\n",
        "\n",
        "print(a+b)\n",
        "print(a-b)\n",
        "print(a*b)\n",
        "print(a/b)\n",
        "print(a//b)\n",
        "print(a%b)\n",
        "\n"
      ],
      "metadata": {
        "colab": {
          "base_uri": "https://localhost:8080/"
        },
        "id": "9J9GQBmzYRHZ",
        "outputId": "251bee1c-8dc7-4d8e-80df-c09a4c0b445c"
      },
      "execution_count": null,
      "outputs": [
        {
          "output_type": "stream",
          "name": "stdout",
          "text": [
            "[7 9]\n",
            "[-5 -5]\n",
            "[ 6 14]\n"
          ]
        }
      ]
    },
    {
      "cell_type": "code",
      "source": [
        "a=np.array([[1,2],[4,5]])\n",
        "b=np.array([10,20])\n",
        "print(a+b)\n",
        "print(a-b)\n",
        "print(a*b)\n",
        "print(a/b)\n",
        "print(a//b)\n",
        "print(a%b)\n"
      ],
      "metadata": {
        "colab": {
          "base_uri": "https://localhost:8080/"
        },
        "id": "gt5htpzsfiJ1",
        "outputId": "d5b3226c-5309-4720-be70-7b7e22b66a3b"
      },
      "execution_count": null,
      "outputs": [
        {
          "output_type": "stream",
          "name": "stdout",
          "text": [
            "[[11 22]\n",
            " [14 25]]\n",
            "[[ -9 -18]\n",
            " [ -6 -15]]\n",
            "[[ 10  40]\n",
            " [ 40 100]]\n",
            "[[0.1  0.1 ]\n",
            " [0.4  0.25]]\n",
            "[[0 0]\n",
            " [0 0]]\n"
          ]
        }
      ]
    },
    {
      "cell_type": "code",
      "source": [
        "x=np.sum(a)\n",
        "print(x)"
      ],
      "metadata": {
        "colab": {
          "base_uri": "https://localhost:8080/"
        },
        "id": "GaTMshvZo59i",
        "outputId": "637d38d4-9e6b-4e3b-9413-3b8040281aba"
      },
      "execution_count": null,
      "outputs": [
        {
          "output_type": "stream",
          "name": "stdout",
          "text": [
            "12\n"
          ]
        }
      ]
    },
    {
      "cell_type": "code",
      "source": [
        "a=np.array([[1,2,3],[2,3,4]])\n",
        "print(a)\n",
        "z=np.sum(a)\n",
        "print(z)"
      ],
      "metadata": {
        "colab": {
          "base_uri": "https://localhost:8080/"
        },
        "id": "urls0H1YpATY",
        "outputId": "26df792f-92ef-4e66-f4d7-0d72563d3364"
      },
      "execution_count": null,
      "outputs": [
        {
          "output_type": "stream",
          "name": "stdout",
          "text": [
            "[[1 2 3]\n",
            " [2 3 4]]\n",
            "15\n"
          ]
        }
      ]
    },
    {
      "cell_type": "code",
      "source": [
        "a=np.array([[1,2,3],[2,3,4]])\n",
        "x=np.mean(a)\n",
        "print(x)"
      ],
      "metadata": {
        "colab": {
          "base_uri": "https://localhost:8080/"
        },
        "id": "Yvc09I2LpT-2",
        "outputId": "20645e80-ca7c-4fee-edf1-fc4444099561"
      },
      "execution_count": null,
      "outputs": [
        {
          "output_type": "stream",
          "name": "stdout",
          "text": [
            "2.5\n"
          ]
        }
      ]
    },
    {
      "cell_type": "code",
      "source": [
        "sum_axis_0 = np.sum(matrix, axis=0)\n",
        "print(sum_axis_0)\n"
      ],
      "metadata": {
        "colab": {
          "base_uri": "https://localhost:8080/",
          "height": 158
        },
        "id": "xIIZdLxfp5nv",
        "outputId": "a5a8f3aa-056f-47ff-a6cb-de8be4361d0c"
      },
      "execution_count": null,
      "outputs": [
        {
          "output_type": "error",
          "ename": "NameError",
          "evalue": "name 'matrix' is not defined",
          "traceback": [
            "\u001b[0;31m---------------------------------------------------------------------------\u001b[0m",
            "\u001b[0;31mNameError\u001b[0m                                 Traceback (most recent call last)",
            "\u001b[0;32m<ipython-input-35-c19956f6e777>\u001b[0m in \u001b[0;36m<cell line: 1>\u001b[0;34m()\u001b[0m\n\u001b[0;32m----> 1\u001b[0;31m \u001b[0msum_axis_0\u001b[0m \u001b[0;34m=\u001b[0m \u001b[0mnp\u001b[0m\u001b[0;34m.\u001b[0m\u001b[0msum\u001b[0m\u001b[0;34m(\u001b[0m\u001b[0mmatrix\u001b[0m\u001b[0;34m,\u001b[0m \u001b[0maxis\u001b[0m\u001b[0;34m=\u001b[0m\u001b[0;36m0\u001b[0m\u001b[0;34m)\u001b[0m\u001b[0;34m\u001b[0m\u001b[0;34m\u001b[0m\u001b[0m\n\u001b[0m\u001b[1;32m      2\u001b[0m \u001b[0mprint\u001b[0m\u001b[0;34m(\u001b[0m\u001b[0msum_axis_0\u001b[0m\u001b[0;34m)\u001b[0m\u001b[0;34m\u001b[0m\u001b[0;34m\u001b[0m\u001b[0m\n",
            "\u001b[0;31mNameError\u001b[0m: name 'matrix' is not defined"
          ]
        }
      ]
    },
    {
      "cell_type": "code",
      "source": [
        "#Std,Mean & STD>Deviation\n",
        "data = [4, 7, 10, 12, 15]\n",
        "\n",
        "variance = np.var(data)\n",
        "print(\"Variance:\", variance)\n",
        "\n",
        "std_dev = np.std(data)\n",
        "print(\"Standard Deviation:\", std_dev)\n",
        "\n"
      ],
      "metadata": {
        "colab": {
          "base_uri": "https://localhost:8080/"
        },
        "id": "VYs2mRmZqu1E",
        "outputId": "e05c1ff0-6985-4342-91da-925555b89823"
      },
      "execution_count": null,
      "outputs": [
        {
          "output_type": "stream",
          "name": "stdout",
          "text": [
            "Variance: 14.639999999999997\n",
            "Standard Deviation: 3.826225293941798\n"
          ]
        }
      ]
    },
    {
      "cell_type": "code",
      "source": [
        "#Random Function\n",
        "randint\n",
        "random\n",
        "np.linspace\n",
        "arange\n",
        "\n",
        "\n",
        "x=np.random.randint(1,100)\n",
        "print(x)"
      ],
      "metadata": {
        "colab": {
          "base_uri": "https://localhost:8080/",
          "height": 211
        },
        "id": "frTQzjHaf-Lm",
        "outputId": "f6358c5a-291f-4738-ba2e-66386c5aa89a"
      },
      "execution_count": null,
      "outputs": [
        {
          "output_type": "error",
          "ename": "NameError",
          "evalue": "name 'randint' is not defined",
          "traceback": [
            "\u001b[0;31m---------------------------------------------------------------------------\u001b[0m",
            "\u001b[0;31mNameError\u001b[0m                                 Traceback (most recent call last)",
            "\u001b[0;32m<ipython-input-43-6f773e6207d6>\u001b[0m in \u001b[0;36m<cell line: 2>\u001b[0;34m()\u001b[0m\n\u001b[1;32m      1\u001b[0m \u001b[0;31m#Random Function\u001b[0m\u001b[0;34m\u001b[0m\u001b[0;34m\u001b[0m\u001b[0m\n\u001b[0;32m----> 2\u001b[0;31m \u001b[0mrandint\u001b[0m\u001b[0;34m\u001b[0m\u001b[0;34m\u001b[0m\u001b[0m\n\u001b[0m\u001b[1;32m      3\u001b[0m \u001b[0mrandom\u001b[0m\u001b[0;34m\u001b[0m\u001b[0;34m\u001b[0m\u001b[0m\n\u001b[1;32m      4\u001b[0m \u001b[0mnp\u001b[0m\u001b[0;34m.\u001b[0m\u001b[0mlinspace\u001b[0m\u001b[0;34m\u001b[0m\u001b[0;34m\u001b[0m\u001b[0m\n\u001b[1;32m      5\u001b[0m \u001b[0marange\u001b[0m\u001b[0;34m\u001b[0m\u001b[0;34m\u001b[0m\u001b[0m\n",
            "\u001b[0;31mNameError\u001b[0m: name 'randint' is not defined"
          ]
        }
      ]
    },
    {
      "cell_type": "code",
      "source": [
        "x=np.random.randint(1,50)\n",
        "print(x)"
      ],
      "metadata": {
        "colab": {
          "base_uri": "https://localhost:8080/"
        },
        "id": "LnAyJrT9vGRS",
        "outputId": "40cc9539-20b2-45be-c97c-eb9071c60ddc"
      },
      "execution_count": null,
      "outputs": [
        {
          "output_type": "stream",
          "name": "stdout",
          "text": [
            "6\n"
          ]
        }
      ]
    },
    {
      "cell_type": "code",
      "source": [
        "y=np.linspace(0,5,num=20)\n",
        "print(y)"
      ],
      "metadata": {
        "colab": {
          "base_uri": "https://localhost:8080/"
        },
        "id": "gppQRmsqvRdL",
        "outputId": "4999ada1-75fc-4a72-da00-81db4a49326e"
      },
      "execution_count": null,
      "outputs": [
        {
          "output_type": "stream",
          "name": "stdout",
          "text": [
            "[0.         0.26315789 0.52631579 0.78947368 1.05263158 1.31578947\n",
            " 1.57894737 1.84210526 2.10526316 2.36842105 2.63157895 2.89473684\n",
            " 3.15789474 3.42105263 3.68421053 3.94736842 4.21052632 4.47368421\n",
            " 4.73684211 5.        ]\n"
          ]
        }
      ]
    },
    {
      "cell_type": "code",
      "source": [
        "x=np.arange(0,5,1)\n",
        "print(x)"
      ],
      "metadata": {
        "colab": {
          "base_uri": "https://localhost:8080/"
        },
        "id": "fJaB0FKvxzpz",
        "outputId": "14771afc-0f50-4214-fb80-aeb2aafd147b"
      },
      "execution_count": null,
      "outputs": [
        {
          "output_type": "stream",
          "name": "stdout",
          "text": [
            "[0 1 2 3 4]\n"
          ]
        }
      ]
    },
    {
      "cell_type": "code",
      "source": [
        "import numpy as np"
      ],
      "metadata": {
        "id": "UviKMtOox-wr"
      },
      "execution_count": null,
      "outputs": []
    },
    {
      "cell_type": "code",
      "source": [
        "# numpy hands on 20-Oct-2024\n",
        "x=np.array([1,2,3,4],dtype=int)\n",
        "print(x)"
      ],
      "metadata": {
        "id": "c4KEIHd0x7EY",
        "colab": {
          "base_uri": "https://localhost:8080/"
        },
        "outputId": "aa26b001-8027-483d-88d5-ae44c139bdb9"
      },
      "execution_count": null,
      "outputs": [
        {
          "output_type": "stream",
          "name": "stdout",
          "text": [
            "[1 2 3 4]\n"
          ]
        }
      ]
    },
    {
      "cell_type": "code",
      "source": [],
      "metadata": {
        "id": "dMOn0fxtcppS"
      },
      "execution_count": null,
      "outputs": []
    },
    {
      "cell_type": "code",
      "source": [
        "x=np.array([1,2,3,4],dtype=float)\n",
        "print(x)"
      ],
      "metadata": {
        "id": "zgxhXbztezwp",
        "colab": {
          "base_uri": "https://localhost:8080/"
        },
        "outputId": "05f179cd-74eb-4360-90db-189107c1ff83"
      },
      "execution_count": null,
      "outputs": [
        {
          "output_type": "stream",
          "name": "stdout",
          "text": [
            "[1. 2. 3. 4.]\n"
          ]
        }
      ]
    },
    {
      "cell_type": "code",
      "source": [
        "r=np.array(42)\n",
        "print(r)\n",
        "print(r.ndim)\n",
        "r=np.array([1,2,3,4])\n",
        "print(r)\n",
        "print(r.ndim)\n",
        "r=np.array([[1,2],[4,5]])\n",
        "print(r)\n",
        "print(r.ndim)\n",
        "r=np.array([[[1,2],[3,4]],[[4,5],[7,8]]])\n",
        "print(r)\n",
        "print(r.ndim)"
      ],
      "metadata": {
        "colab": {
          "base_uri": "https://localhost:8080/"
        },
        "id": "AeLru2GDcq-V",
        "outputId": "14da6857-8598-4cfb-e768-fc000ad0e620"
      },
      "execution_count": null,
      "outputs": [
        {
          "output_type": "stream",
          "name": "stdout",
          "text": [
            "42\n",
            "0\n",
            "[1 2 3 4]\n",
            "1\n",
            "[[1 2]\n",
            " [4 5]]\n",
            "2\n",
            "[[[1 2]\n",
            "  [3 4]]\n",
            "\n",
            " [[4 5]\n",
            "  [7 8]]]\n",
            "3\n"
          ]
        }
      ]
    },
    {
      "cell_type": "code",
      "source": [
        "z=[[[1,2,3],[4,5,6],[7,8,9],[10,11,12]]]\n",
        "x=np.array(z)\n",
        "print(x)\n",
        "print(x.shape)\n",
        "print(x.ndim)"
      ],
      "metadata": {
        "colab": {
          "base_uri": "https://localhost:8080/"
        },
        "id": "h3kE8nmvfdJE",
        "outputId": "2edaf5e5-3e6b-49ae-b271-b6a82f63789c"
      },
      "execution_count": null,
      "outputs": [
        {
          "output_type": "stream",
          "name": "stdout",
          "text": [
            "[[[ 1  2  3]\n",
            "  [ 4  5  6]\n",
            "  [ 7  8  9]\n",
            "  [10 11 12]]]\n",
            "(1, 4, 3)\n",
            "3\n"
          ]
        }
      ]
    },
    {
      "cell_type": "code",
      "source": [
        "#Create a 2x3, 3x3, and 4x4 identity matrix using numpy.\n",
        "\n",
        "x=np.array([4,5])\n",
        "print(\"x -like matrix:\")\n",
        "print(x,identity_2*3)\n",
        "x=np.array(3)\n",
        "print(\"x -like matrix:\")\n",
        "print(identity_3*3)\n",
        "x=np.array(4)\n",
        "print(\"x -like matrix:\")\n",
        "print(identity_4*4)"
      ],
      "metadata": {
        "colab": {
          "base_uri": "https://localhost:8080/",
          "height": 228
        },
        "id": "zyf9y8nViWCc",
        "outputId": "8dd0aa4b-405f-46eb-9858-406e278dfe84"
      },
      "execution_count": null,
      "outputs": [
        {
          "output_type": "stream",
          "name": "stdout",
          "text": [
            "x -like matrix:\n"
          ]
        },
        {
          "output_type": "error",
          "ename": "NameError",
          "evalue": "name 'identity_2' is not defined",
          "traceback": [
            "\u001b[0;31m---------------------------------------------------------------------------\u001b[0m",
            "\u001b[0;31mNameError\u001b[0m                                 Traceback (most recent call last)",
            "\u001b[0;32m<ipython-input-19-d7b6a416195c>\u001b[0m in \u001b[0;36m<cell line: 5>\u001b[0;34m()\u001b[0m\n\u001b[1;32m      3\u001b[0m \u001b[0mx\u001b[0m\u001b[0;34m=\u001b[0m\u001b[0mnp\u001b[0m\u001b[0;34m.\u001b[0m\u001b[0marray\u001b[0m\u001b[0;34m(\u001b[0m\u001b[0;34m[\u001b[0m\u001b[0;36m4\u001b[0m\u001b[0;34m,\u001b[0m\u001b[0;36m5\u001b[0m\u001b[0;34m]\u001b[0m\u001b[0;34m)\u001b[0m\u001b[0;34m\u001b[0m\u001b[0;34m\u001b[0m\u001b[0m\n\u001b[1;32m      4\u001b[0m \u001b[0mprint\u001b[0m\u001b[0;34m(\u001b[0m\u001b[0;34m\"x -like matrix:\"\u001b[0m\u001b[0;34m)\u001b[0m\u001b[0;34m\u001b[0m\u001b[0;34m\u001b[0m\u001b[0m\n\u001b[0;32m----> 5\u001b[0;31m \u001b[0mprint\u001b[0m\u001b[0;34m(\u001b[0m\u001b[0mx\u001b[0m\u001b[0;34m,\u001b[0m\u001b[0midentity_2\u001b[0m\u001b[0;34m*\u001b[0m\u001b[0;36m3\u001b[0m\u001b[0;34m)\u001b[0m\u001b[0;34m\u001b[0m\u001b[0;34m\u001b[0m\u001b[0m\n\u001b[0m\u001b[1;32m      6\u001b[0m \u001b[0mx\u001b[0m\u001b[0;34m=\u001b[0m\u001b[0mnp\u001b[0m\u001b[0;34m.\u001b[0m\u001b[0marray\u001b[0m\u001b[0;34m(\u001b[0m\u001b[0;36m3\u001b[0m\u001b[0;34m)\u001b[0m\u001b[0;34m\u001b[0m\u001b[0;34m\u001b[0m\u001b[0m\n\u001b[1;32m      7\u001b[0m \u001b[0mprint\u001b[0m\u001b[0;34m(\u001b[0m\u001b[0;34m\"x -like matrix:\"\u001b[0m\u001b[0;34m)\u001b[0m\u001b[0;34m\u001b[0m\u001b[0;34m\u001b[0m\u001b[0m\n",
            "\u001b[0;31mNameError\u001b[0m: name 'identity_2' is not defined"
          ]
        }
      ]
    },
    {
      "cell_type": "code",
      "source": [],
      "metadata": {
        "id": "GS83PH7Gj7ef"
      },
      "execution_count": null,
      "outputs": []
    },
    {
      "cell_type": "code",
      "source": [
        "# 3x3 identity matrix\n",
        "identity_3x3 = np.eye(3)\n",
        "print(\"\\n3x3 Identity matrix:\")\n",
        "print(identity_3x3)\n"
      ],
      "metadata": {
        "colab": {
          "base_uri": "https://localhost:8080/"
        },
        "id": "kUSU-Xr1jWTI",
        "outputId": "75f8217c-9c7c-4a0f-ed05-fb5f0a5c365f"
      },
      "execution_count": null,
      "outputs": [
        {
          "output_type": "stream",
          "name": "stdout",
          "text": [
            "\n",
            "3x3 Identity matrix:\n",
            "[[1. 0. 0.]\n",
            " [0. 1. 0.]\n",
            " [0. 0. 1.]]\n"
          ]
        }
      ]
    },
    {
      "cell_type": "code",
      "source": [
        "x=np.eye(2,3)\n",
        "print(x)\n",
        "\n",
        "y=np.eye(3,4)\n",
        "print(y)\n",
        "\n",
        "z=np.identity(4)\n",
        "print(z)"
      ],
      "metadata": {
        "colab": {
          "base_uri": "https://localhost:8080/"
        },
        "id": "b0KPMMKkj8qJ",
        "outputId": "c7ab5d1e-e97a-4b26-b987-0616dcfa9803"
      },
      "execution_count": null,
      "outputs": [
        {
          "output_type": "stream",
          "name": "stdout",
          "text": [
            "[[1. 0. 0.]\n",
            " [0. 1. 0.]]\n",
            "[[1. 0. 0. 0.]\n",
            " [0. 1. 0. 0.]\n",
            " [0. 0. 1. 0.]]\n",
            "[[1. 0. 0. 0.]\n",
            " [0. 1. 0. 0.]\n",
            " [0. 0. 1. 0.]\n",
            " [0. 0. 0. 1.]]\n"
          ]
        }
      ]
    },
    {
      "cell_type": "code",
      "source": [
        "#4. Create a numpy array with shape 2x5 that has all the elements as zero.\n",
        "#5. Create a numpy array that has the shape 3x5 and all the elements are 5"
      ],
      "metadata": {
        "id": "Qwo0HUDzk7fW"
      },
      "execution_count": null,
      "outputs": []
    },
    {
      "cell_type": "code",
      "source": [
        "x=np.zeros((2,5))\n",
        "print(x)"
      ],
      "metadata": {
        "colab": {
          "base_uri": "https://localhost:8080/"
        },
        "id": "doEz6h05lIBD",
        "outputId": "a6fd494d-8637-49b4-cbee-b01a25f0b717"
      },
      "execution_count": null,
      "outputs": [
        {
          "output_type": "stream",
          "name": "stdout",
          "text": [
            "[[0. 0. 0. 0. 0.]\n",
            " [0. 0. 0. 0. 0.]]\n"
          ]
        }
      ]
    },
    {
      "cell_type": "code",
      "source": [
        "import numpy as np\n",
        "\n",
        "# Creating a 2x5 array filled with zeros\n",
        "zero_array = np.zeros((2, 5))\n",
        "print(\"2x5 array filled with zeros:\")\n",
        "print(zero_array)\n"
      ],
      "metadata": {
        "colab": {
          "base_uri": "https://localhost:8080/"
        },
        "id": "JZjB4C4elQ75",
        "outputId": "70f98e54-984e-4bf7-989e-3196a970b784"
      },
      "execution_count": null,
      "outputs": [
        {
          "output_type": "stream",
          "name": "stdout",
          "text": [
            "2x5 array filled with zeros:\n",
            "[[0. 0. 0. 0. 0.]\n",
            " [0. 0. 0. 0. 0.]]\n"
          ]
        }
      ]
    },
    {
      "cell_type": "code",
      "source": [
        "x=np.full((3,5),5)\n",
        "print(x)"
      ],
      "metadata": {
        "colab": {
          "base_uri": "https://localhost:8080/"
        },
        "id": "vAabw-SRlgrm",
        "outputId": "aef7f915-b29c-48e2-b3e0-5d8bff74c1c5"
      },
      "execution_count": null,
      "outputs": [
        {
          "output_type": "stream",
          "name": "stdout",
          "text": [
            "[[5 5 5 5 5]\n",
            " [5 5 5 5 5]\n",
            " [5 5 5 5 5]]\n"
          ]
        }
      ]
    },
    {
      "cell_type": "code",
      "source": [
        "import numpy as np\n",
        "a = np.full((2,5),0,dtype=int)\n",
        "b = np.full((3,5),5,dtype=int)\n",
        "print(a,b,sep='\\n')"
      ],
      "metadata": {
        "colab": {
          "base_uri": "https://localhost:8080/"
        },
        "id": "CXn7xN0vmIKk",
        "outputId": "69809538-a801-411c-bd60-2292ad70bb87"
      },
      "execution_count": null,
      "outputs": [
        {
          "output_type": "stream",
          "name": "stdout",
          "text": [
            "[[0 0 0 0 0]\n",
            " [0 0 0 0 0]]\n",
            "[[5 5 5 5 5]\n",
            " [5 5 5 5 5]\n",
            " [5 5 5 5 5]]\n"
          ]
        }
      ]
    },
    {
      "cell_type": "code",
      "source": [
        "6.# Create a numpy array with random integers in the range 0-100, and the sample size should be 25"
      ],
      "metadata": {
        "id": "PTnj5jLrmKj4"
      },
      "execution_count": null,
      "outputs": []
    },
    {
      "cell_type": "code",
      "source": [
        "z=np.random.randint(0,101, size=25)\n",
        "print(z)"
      ],
      "metadata": {
        "colab": {
          "base_uri": "https://localhost:8080/"
        },
        "id": "gJSp0ekBmYsg",
        "outputId": "7500758d-7791-423c-c144-7fb8314f605b"
      },
      "execution_count": null,
      "outputs": [
        {
          "output_type": "stream",
          "name": "stdout",
          "text": [
            "[98 11 94 89 66 37 67 23 53 38 57 26 29 19 66 53 86 26 33 44 73 51 19 46\n",
            " 31]\n"
          ]
        }
      ]
    },
    {
      "cell_type": "code",
      "source": [
        "# Create a numpy array with a shape 3x3 that has all elements as 1.\n",
        "#Create a numpy array in the shape 2x3 with random integers in the range 0-100"
      ],
      "metadata": {
        "id": "EJ6Z5OcRnewt"
      },
      "execution_count": null,
      "outputs": []
    },
    {
      "cell_type": "code",
      "source": [
        "r=np.ones((3,3))\n",
        "print(r)\n",
        "r=np.random.randint(0,101, size=(2,3))\n",
        "print(r)"
      ],
      "metadata": {
        "colab": {
          "base_uri": "https://localhost:8080/"
        },
        "id": "fOtaN2yfnnBS",
        "outputId": "ce42f10d-3701-4d46-e03f-547ebc184159"
      },
      "execution_count": null,
      "outputs": [
        {
          "output_type": "stream",
          "name": "stdout",
          "text": [
            "[[1. 1. 1.]\n",
            " [1. 1. 1.]\n",
            " [1. 1. 1.]]\n",
            "[[ 3 90 36]\n",
            " [93 51 53]]\n"
          ]
        }
      ]
    },
    {
      "cell_type": "code",
      "source": [],
      "metadata": {
        "id": "lKqOmGITqZmr"
      },
      "execution_count": null,
      "outputs": []
    },
    {
      "cell_type": "code",
      "source": [
        "r=np.random.randint(0,101, size=(2,3))\n",
        "print(r)"
      ],
      "metadata": {
        "colab": {
          "base_uri": "https://localhost:8080/"
        },
        "id": "mLkUcOWtoAFP",
        "outputId": "a3819073-ec65-40df-cb62-90995ae3b1b1"
      },
      "execution_count": null,
      "outputs": [
        {
          "output_type": "stream",
          "name": "stdout",
          "text": [
            "[[ 6 95 66]\n",
            " [96  6 94]]\n"
          ]
        }
      ]
    },
    {
      "cell_type": "code",
      "source": [
        "#Create a random array , with the range 0-1000 with a size 50\n",
        "\n"
      ],
      "metadata": {
        "id": "B180RpDzqajr"
      },
      "execution_count": null,
      "outputs": []
    },
    {
      "cell_type": "code",
      "source": [
        "r=np.random.choice(np.arange(0,1001,2),size=50,replace=False)\n",
        "print(r)\n",
        "print(r[:10])\n",
        "print(r[-10:])\n",
        "print(r[10:26])\n",
        "print(r[22])\n",
        "print(r[::-1])\n",
        "print(r[-10:])"
      ],
      "metadata": {
        "colab": {
          "base_uri": "https://localhost:8080/"
        },
        "id": "xcdB2atpqcYk",
        "outputId": "f6d038b1-190a-4f8e-842f-8e5967557c97"
      },
      "execution_count": null,
      "outputs": [
        {
          "output_type": "stream",
          "name": "stdout",
          "text": [
            "[468 190 262 304 400 372 818 326  82  60 716 366 500 726 502 702 408 720\n",
            " 690 146 678 298  30 796 892 162 492   8 506 280 808 900 578  94  52 184\n",
            " 826  56 528 642 232 120 460 788 236 482 708 628 836 334]\n",
            "[468 190 262 304 400 372 818 326  82  60]\n",
            "[232 120 460 788 236 482 708 628 836 334]\n",
            "[716 366 500 726 502 702 408 720 690 146 678 298  30 796 892 162]\n",
            "30\n",
            "[334 836 628 708 482 236 788 460 120 232 642 528  56 826 184  52  94 578\n",
            " 900 808 280 506   8 492 162 892 796  30 298 678 146 690 720 408 702 502\n",
            " 726 500 366 716  60  82 326 818 372 400 304 262 190 468]\n",
            "[232 120 460 788 236 482 708 628 836 334]\n"
          ]
        }
      ]
    },
    {
      "cell_type": "code",
      "source": [
        "#Given a numpy array that has values = [1,2,3,4,5]. Perform the following operations.\n",
        "a. Insert the element 6 at the end of the array.\n",
        "b. Insert the element 10 at the beginning of the array.\n",
        "c. Insert the element 30, before 4.\n",
        "d. Update the element 5 as 50.\n",
        "e. Delete the element 50 in the updated array.\n",
        "f. Create a function to search for the element 30.\n",
        "g. Sort the array in ascending order."
      ],
      "metadata": {
        "id": "NTyINa3OqizJ"
      },
      "execution_count": null,
      "outputs": []
    },
    {
      "cell_type": "code",
      "source": [
        "r=np.array([1,2,3,4,5])\n",
        "r=np.append(r,6)\n",
        "r=np.insert(r,0,10)\n",
        "r[r==5] = 50\n",
        "r=np.delete(r,np.where(r==50))\n",
        "print(r)\n",
        "\n",
        "def search_element(array, element):\n",
        "    index = np.where(array == element)\n",
        "    if index[0].size > 0:\n",
        "        return f\"Element {element} found at index {index[0][0]}\"\n",
        "    else:\n",
        "        return f\"Element {element} not found\"\n",
        "\n",
        "# Searching for element 30\n",
        "print(\"\\nSearch for element 30:\")\n",
        "print(search_element(arr, 30))\n",
        "\n",
        "# g. Sort the array in ascending order\n"
      ],
      "metadata": {
        "colab": {
          "base_uri": "https://localhost:8080/",
          "height": 263
        },
        "id": "RvhfUIRF15hv",
        "outputId": "d528edb0-6748-41ee-f970-654876ea113d"
      },
      "execution_count": null,
      "outputs": [
        {
          "output_type": "stream",
          "name": "stdout",
          "text": [
            "[10  1  2  3  4  6]\n",
            "\n",
            "Search for element 30:\n"
          ]
        },
        {
          "output_type": "error",
          "ename": "NameError",
          "evalue": "name 'arr' is not defined",
          "traceback": [
            "\u001b[0;31m---------------------------------------------------------------------------\u001b[0m",
            "\u001b[0;31mNameError\u001b[0m                                 Traceback (most recent call last)",
            "\u001b[0;32m<ipython-input-51-ad0c2408578e>\u001b[0m in \u001b[0;36m<cell line: 17>\u001b[0;34m()\u001b[0m\n\u001b[1;32m     15\u001b[0m \u001b[0;31m# Searching for element 30\u001b[0m\u001b[0;34m\u001b[0m\u001b[0;34m\u001b[0m\u001b[0m\n\u001b[1;32m     16\u001b[0m \u001b[0mprint\u001b[0m\u001b[0;34m(\u001b[0m\u001b[0;34m\"\\nSearch for element 30:\"\u001b[0m\u001b[0;34m)\u001b[0m\u001b[0;34m\u001b[0m\u001b[0;34m\u001b[0m\u001b[0m\n\u001b[0;32m---> 17\u001b[0;31m \u001b[0mprint\u001b[0m\u001b[0;34m(\u001b[0m\u001b[0msearch_element\u001b[0m\u001b[0;34m(\u001b[0m\u001b[0marr\u001b[0m\u001b[0;34m,\u001b[0m \u001b[0;36m30\u001b[0m\u001b[0;34m)\u001b[0m\u001b[0;34m)\u001b[0m\u001b[0;34m\u001b[0m\u001b[0;34m\u001b[0m\u001b[0m\n\u001b[0m\u001b[1;32m     18\u001b[0m \u001b[0;34m\u001b[0m\u001b[0m\n\u001b[1;32m     19\u001b[0m \u001b[0;31m# g. Sort the array in ascending order\u001b[0m\u001b[0;34m\u001b[0m\u001b[0;34m\u001b[0m\u001b[0m\n",
            "\u001b[0;31mNameError\u001b[0m: name 'arr' is not defined"
          ]
        }
      ]
    },
    {
      "cell_type": "code",
      "source": [
        "r = np.sort(r)\n",
        "print(\"\\nArray after sorting in ascending order:\")\n",
        "print(r)"
      ],
      "metadata": {
        "colab": {
          "base_uri": "https://localhost:8080/"
        },
        "id": "ms6lBqUr4Bmi",
        "outputId": "8f390d31-5ec9-487c-ca6d-cc0eda513abe"
      },
      "execution_count": null,
      "outputs": [
        {
          "output_type": "stream",
          "name": "stdout",
          "text": [
            "\n",
            "Array after sorting in ascending order:\n",
            "[ 1  2  3  4  6 10]\n"
          ]
        }
      ]
    },
    {
      "cell_type": "code",
      "source": [
        "r=np.insert(r,4,30)\n",
        "print(r)"
      ],
      "metadata": {
        "colab": {
          "base_uri": "https://localhost:8080/"
        },
        "id": "LevcOWHB4iUf",
        "outputId": "447b99c5-e216-4958-d0c3-b6d5429bda01"
      },
      "execution_count": null,
      "outputs": [
        {
          "output_type": "stream",
          "name": "stdout",
          "text": [
            "[ 1  2  3  4 30  6 10]\n"
          ]
        }
      ]
    },
    {
      "cell_type": "code",
      "source": [
        "x=\"hello world\"\n",
        "print(x)\n"
      ],
      "metadata": {
        "colab": {
          "base_uri": "https://localhost:8080/"
        },
        "id": "dmrMoS527a1I",
        "outputId": "7010b398-728b-45bd-cfbb-07b9cf22f7aa"
      },
      "execution_count": null,
      "outputs": [
        {
          "output_type": "stream",
          "name": "stdout",
          "text": [
            "hello world\n"
          ]
        }
      ]
    }
  ],
  "metadata": {
    "colab": {
      "provenance": [],
      "include_colab_link": true
    },
    "kernelspec": {
      "display_name": "Python 3",
      "name": "python3"
    },
    "language_info": {
      "name": "python"
    }
  },
  "nbformat": 4,
  "nbformat_minor": 0
}